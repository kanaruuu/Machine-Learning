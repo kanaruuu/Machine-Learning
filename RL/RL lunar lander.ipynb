{
  "nbformat": 4,
  "nbformat_minor": 0,
  "metadata": {
    "colab": {
      "provenance": [],
      "collapsed_sections": [
        "JDAWPvVIOD97"
      ],
      "gpuType": "T4",
      "toc_visible": true
    },
    "kernelspec": {
      "name": "python3",
      "display_name": "Python 3"
    },
    "language_info": {
      "name": "python"
    },
    "accelerator": "GPU"
  },
  "cells": [
    {
      "cell_type": "code",
      "execution_count": null,
      "metadata": {
        "id": "hlPqpPYHIw9d",
        "colab": {
          "base_uri": "https://localhost:8080/"
        },
        "outputId": "d4edf194-d2ee-4c6c-d394-4bf76ef48143"
      },
      "outputs": [
        {
          "output_type": "stream",
          "name": "stdout",
          "text": [
            "Reading package lists... Done\n",
            "Building dependency tree... Done\n",
            "Reading state information... Done\n",
            "E: Unable to locate package python-opengl\n",
            "Reading package lists... Done\n",
            "Building dependency tree... Done\n",
            "Reading state information... Done\n",
            "The following additional packages will be installed:\n",
            "  libfontenc1 libxfont2 libxkbfile1 x11-xkb-utils xfonts-base xfonts-encodings xfonts-utils\n",
            "  xserver-common\n",
            "The following NEW packages will be installed:\n",
            "  libfontenc1 libxfont2 libxkbfile1 x11-xkb-utils xfonts-base xfonts-encodings xfonts-utils\n",
            "  xserver-common xvfb\n",
            "0 upgraded, 9 newly installed, 0 to remove and 45 not upgraded.\n",
            "Need to get 7,813 kB of archives.\n",
            "After this operation, 11.9 MB of additional disk space will be used.\n",
            "Get:1 http://archive.ubuntu.com/ubuntu jammy/main amd64 libfontenc1 amd64 1:1.1.4-1build3 [14.7 kB]\n",
            "Get:2 http://archive.ubuntu.com/ubuntu jammy/main amd64 libxfont2 amd64 1:2.0.5-1build1 [94.5 kB]\n",
            "Get:3 http://archive.ubuntu.com/ubuntu jammy/main amd64 libxkbfile1 amd64 1:1.1.0-1build3 [71.8 kB]\n",
            "Get:4 http://archive.ubuntu.com/ubuntu jammy/main amd64 x11-xkb-utils amd64 7.7+5build4 [172 kB]\n",
            "Get:5 http://archive.ubuntu.com/ubuntu jammy/main amd64 xfonts-encodings all 1:1.0.5-0ubuntu2 [578 kB]\n",
            "Get:6 http://archive.ubuntu.com/ubuntu jammy/main amd64 xfonts-utils amd64 1:7.7+6build2 [94.6 kB]\n",
            "Get:7 http://archive.ubuntu.com/ubuntu jammy/main amd64 xfonts-base all 1:1.0.5 [5,896 kB]\n",
            "Get:8 http://archive.ubuntu.com/ubuntu jammy-updates/main amd64 xserver-common all 2:21.1.4-2ubuntu1.7~22.04.10 [28.5 kB]\n",
            "Get:9 http://archive.ubuntu.com/ubuntu jammy-updates/universe amd64 xvfb amd64 2:21.1.4-2ubuntu1.7~22.04.10 [863 kB]\n",
            "Fetched 7,813 kB in 2s (4,032 kB/s)\n",
            "Selecting previously unselected package libfontenc1:amd64.\n",
            "(Reading database ... 121752 files and directories currently installed.)\n",
            "Preparing to unpack .../0-libfontenc1_1%3a1.1.4-1build3_amd64.deb ...\n",
            "Unpacking libfontenc1:amd64 (1:1.1.4-1build3) ...\n",
            "Selecting previously unselected package libxfont2:amd64.\n",
            "Preparing to unpack .../1-libxfont2_1%3a2.0.5-1build1_amd64.deb ...\n",
            "Unpacking libxfont2:amd64 (1:2.0.5-1build1) ...\n",
            "Selecting previously unselected package libxkbfile1:amd64.\n",
            "Preparing to unpack .../2-libxkbfile1_1%3a1.1.0-1build3_amd64.deb ...\n",
            "Unpacking libxkbfile1:amd64 (1:1.1.0-1build3) ...\n",
            "Selecting previously unselected package x11-xkb-utils.\n",
            "Preparing to unpack .../3-x11-xkb-utils_7.7+5build4_amd64.deb ...\n",
            "Unpacking x11-xkb-utils (7.7+5build4) ...\n",
            "Selecting previously unselected package xfonts-encodings.\n",
            "Preparing to unpack .../4-xfonts-encodings_1%3a1.0.5-0ubuntu2_all.deb ...\n",
            "Unpacking xfonts-encodings (1:1.0.5-0ubuntu2) ...\n",
            "Selecting previously unselected package xfonts-utils.\n",
            "Preparing to unpack .../5-xfonts-utils_1%3a7.7+6build2_amd64.deb ...\n",
            "Unpacking xfonts-utils (1:7.7+6build2) ...\n",
            "Selecting previously unselected package xfonts-base.\n",
            "Preparing to unpack .../6-xfonts-base_1%3a1.0.5_all.deb ...\n",
            "Unpacking xfonts-base (1:1.0.5) ...\n",
            "Selecting previously unselected package xserver-common.\n",
            "Preparing to unpack .../7-xserver-common_2%3a21.1.4-2ubuntu1.7~22.04.10_all.deb ...\n",
            "Unpacking xserver-common (2:21.1.4-2ubuntu1.7~22.04.10) ...\n",
            "Selecting previously unselected package xvfb.\n",
            "Preparing to unpack .../8-xvfb_2%3a21.1.4-2ubuntu1.7~22.04.10_amd64.deb ...\n",
            "Unpacking xvfb (2:21.1.4-2ubuntu1.7~22.04.10) ...\n",
            "Setting up libfontenc1:amd64 (1:1.1.4-1build3) ...\n",
            "Setting up xfonts-encodings (1:1.0.5-0ubuntu2) ...\n",
            "Setting up libxkbfile1:amd64 (1:1.1.0-1build3) ...\n",
            "Setting up libxfont2:amd64 (1:2.0.5-1build1) ...\n",
            "Setting up x11-xkb-utils (7.7+5build4) ...\n",
            "Setting up xfonts-utils (1:7.7+6build2) ...\n",
            "Setting up xfonts-base (1:1.0.5) ...\n",
            "Setting up xserver-common (2:21.1.4-2ubuntu1.7~22.04.10) ...\n",
            "Setting up xvfb (2:21.1.4-2ubuntu1.7~22.04.10) ...\n",
            "Processing triggers for man-db (2.10.2-1) ...\n",
            "Processing triggers for fontconfig (2.13.1-4.2ubuntu5) ...\n",
            "Processing triggers for libc-bin (2.35-0ubuntu3.4) ...\n",
            "/sbin/ldconfig.real: /usr/local/lib/libtbbmalloc.so.2 is not a symbolic link\n",
            "\n",
            "/sbin/ldconfig.real: /usr/local/lib/libtbbmalloc_proxy.so.2 is not a symbolic link\n",
            "\n",
            "/sbin/ldconfig.real: /usr/local/lib/libtbbbind_2_5.so.3 is not a symbolic link\n",
            "\n",
            "/sbin/ldconfig.real: /usr/local/lib/libtbbbind_2_0.so.3 is not a symbolic link\n",
            "\n",
            "/sbin/ldconfig.real: /usr/local/lib/libtbb.so.12 is not a symbolic link\n",
            "\n",
            "/sbin/ldconfig.real: /usr/local/lib/libtbbbind.so.3 is not a symbolic link\n",
            "\n",
            "Collecting pyvirtualdisplay\n",
            "  Downloading PyVirtualDisplay-3.0-py3-none-any.whl (15 kB)\n",
            "Installing collected packages: pyvirtualdisplay\n",
            "Successfully installed pyvirtualdisplay-3.0\n",
            "Collecting piglet\n",
            "  Downloading piglet-1.0.0-py2.py3-none-any.whl (2.2 kB)\n",
            "Collecting piglet-templates (from piglet)\n",
            "  Downloading piglet_templates-1.3.1-py3-none-any.whl (67 kB)\n",
            "\u001b[2K     \u001b[90m━━━━━━━━━━━━━━━━━━━━━━━━━━━━━━━━━━━━━━━━\u001b[0m \u001b[32m67.5/67.5 kB\u001b[0m \u001b[31m2.5 MB/s\u001b[0m eta \u001b[36m0:00:00\u001b[0m\n",
            "\u001b[?25hRequirement already satisfied: pyparsing in /usr/local/lib/python3.10/dist-packages (from piglet-templates->piglet) (3.1.2)\n",
            "Requirement already satisfied: attrs in /usr/local/lib/python3.10/dist-packages (from piglet-templates->piglet) (23.2.0)\n",
            "Requirement already satisfied: astunparse in /usr/local/lib/python3.10/dist-packages (from piglet-templates->piglet) (1.6.3)\n",
            "Requirement already satisfied: markupsafe in /usr/local/lib/python3.10/dist-packages (from piglet-templates->piglet) (2.1.5)\n",
            "Requirement already satisfied: wheel<1.0,>=0.23.0 in /usr/local/lib/python3.10/dist-packages (from astunparse->piglet-templates->piglet) (0.43.0)\n",
            "Requirement already satisfied: six<2.0,>=1.6.1 in /usr/local/lib/python3.10/dist-packages (from astunparse->piglet-templates->piglet) (1.16.0)\n",
            "Installing collected packages: piglet-templates, piglet\n",
            "Successfully installed piglet-1.0.0 piglet-templates-1.3.1\n",
            "\u001b[2K     \u001b[90m━━━━━━━━━━━━━━━━━━━━━━━━━━━━━━━━━━━━━━━━\u001b[0m \u001b[32m1.9/1.9 MB\u001b[0m \u001b[31m15.6 MB/s\u001b[0m eta \u001b[36m0:00:00\u001b[0m\n",
            "\u001b[2K     \u001b[90m━━━━━━━━━━━━━━━━━━━━━━━━━━━━━━━━━━━━━━━━\u001b[0m \u001b[32m953.9/953.9 kB\u001b[0m \u001b[31m11.6 MB/s\u001b[0m eta \u001b[36m0:00:00\u001b[0m\n",
            "\u001b[2K     \u001b[90m━━━━━━━━━━━━━━━━━━━━━━━━━━━━━━━━━━━━━━━━\u001b[0m \u001b[32m374.4/374.4 kB\u001b[0m \u001b[31m14.5 MB/s\u001b[0m eta \u001b[36m0:00:00\u001b[0m\n",
            "\u001b[?25h  Preparing metadata (setup.py) ... \u001b[?25l\u001b[?25hdone\n",
            "  Building wheel for box2d-py (setup.py) ... \u001b[?25l\u001b[?25hdone\n"
          ]
        }
      ],
      "source": [
        "!apt-get install python-opengl -y\n",
        "!apt install xvfb -y\n",
        "!pip install pyvirtualdisplay\n",
        "!pip install piglet\n",
        "!pip install -q swig\n",
        "!pip install -q gymnasium[box2d]\n",
        "\n",
        "from pyvirtualdisplay import Display\n",
        "Display().start()\n",
        "\n",
        "import gym\n",
        "import torch\n",
        "import torch.nn as nn\n",
        "import torch.nn.functional as F\n",
        "\n",
        "from IPython import display\n",
        "import matplotlib.pyplot as plt\n",
        "%matplotlib inline\n",
        "\n",
        "import warnings\n",
        "warnings.filterwarnings('ignore')"
      ]
    },
    {
      "cell_type": "code",
      "source": [
        "env = gym.make(\"LunarLander-v2\")"
      ],
      "metadata": {
        "id": "LKY_nfV6Jc99"
      },
      "execution_count": null,
      "outputs": []
    },
    {
      "cell_type": "markdown",
      "source": [
        "#**Знакомство со средой Lunar Lander**\n"
      ],
      "metadata": {
        "id": "9TMOcLAGNVUe"
      }
    },
    {
      "cell_type": "markdown",
      "source": [
        "\n",
        "\n",
        "1.   Выяснить тип простанств, изучить размерности\n",
        "2.   Описать пространство состояний\n",
        "3.   Описать пространство действий\n",
        "4.   Описать функцию награды\n",
        "5.   Провести эксперимент по построению траектории агентом в данной среде\n",
        "\n"
      ],
      "metadata": {
        "id": "aU7AbLV5NimI"
      }
    },
    {
      "cell_type": "markdown",
      "source": [
        "1. Пространством являетя Box - ограниченное пространство, где мы можем определить верхний и нижний пределы, которые описывают допустимые значения, которые могут принимать наши наблюдения. Посадочная площадка всегда находится в координатах (0,0). Координаты - это первые два числа в векторе состояния. Возможна посадка за пределами посадочной площадки. Запас топлива бесконечен, поэтому агент может научиться летать, а затем приземлиться с первой попытки.\n",
        "2. Состояние представляет собой 8-мерный вектор: координаты посадочного модуля в x и y, его линейные скорости в x и y, его угол, его угловая скорость и два логических значения, которые представляют, соприкасается ли каждая опора с землей или нет.\n",
        "3. Доступны четыре отдельных действия: ничего не делать, запустить механизм ориентации влево, запустить основной двигатель, запустить механизм ориентации вправо.\n",
        "4. Награда за перемещение от верхней части экрана к посадочной площадке и остановку составляет около 100-140 очков. Если посадочный модуль удаляется от посадочной площадки, он теряет награду. Если посадочный модуль падает, он получает дополнительные -100 очков. Если он останавливается, то получает дополнительные +100 очков. Каждая нога, соприкасающаяся с землей, составляет +10 очков. Включение основного двигателя составляет -0,3 балла за каждый кадр. Включение бокового двигателя составляет -0,03 балла за каждый кадр. Решено - 200 баллов."
      ],
      "metadata": {
        "id": "VZnviHO17MUj"
      }
    },
    {
      "cell_type": "code",
      "source": [
        "print(env.reset())\n",
        "print(env.action_space)\n",
        "print(env.observation_space)\n"
      ],
      "metadata": {
        "id": "pTGQIyfGNhsf",
        "colab": {
          "base_uri": "https://localhost:8080/"
        },
        "outputId": "0f40edd5-6b29-4112-c66e-bc18cfe57c52"
      },
      "execution_count": null,
      "outputs": [
        {
          "output_type": "stream",
          "name": "stdout",
          "text": [
            "[ 1.1861802e-03  1.4067354e+00  1.2013104e-01 -1.8599336e-01\n",
            " -1.3676818e-03 -2.7211497e-02  0.0000000e+00  0.0000000e+00]\n",
            "Discrete(4)\n",
            "Box([-1.5       -1.5       -5.        -5.        -3.1415927 -5.\n",
            " -0.        -0.       ], [1.5       1.5       5.        5.        3.1415927 5.        1.\n",
            " 1.       ], (8,), float32)\n"
          ]
        }
      ]
    },
    {
      "cell_type": "markdown",
      "source": [
        " # Эксперимент по построению траектории агентом в данной среде"
      ],
      "metadata": {
        "id": "ngN9SJawJ6cE"
      }
    },
    {
      "cell_type": "code",
      "source": [
        "import numpy as np\n",
        "from IPython.display import clear_output\n",
        "import time\n",
        "\n",
        "\n",
        "state = env.reset()\n",
        "\n",
        "for _ in range(1000):\n",
        "  plt.imshow(env.render(mode = 'rgb_array'))\n",
        "  display.clear_output(wait = True)\n",
        "  display.display(plt.gcf())\n",
        "\n",
        "  action = env.action_space.sample()\n",
        "  next_state, reward, done, info = env.step(action)\n",
        "  if done:\n",
        "    env.reset()\n",
        "\n",
        "  time.sleep(0.001)\n",
        "env.close()\n",
        "display.stop()\n"
      ],
      "metadata": {
        "id": "QHAr3nAH9Qzj"
      },
      "execution_count": null,
      "outputs": []
    },
    {
      "cell_type": "markdown",
      "source": [
        "Корабль даже не пытается приземлиться"
      ],
      "metadata": {
        "id": "d5zHBVm-J9d_"
      }
    },
    {
      "cell_type": "markdown",
      "source": [
        "# **Реализация алгоритма решения задачи обучения с подкреплением в среде Lunar Lander**"
      ],
      "metadata": {
        "id": "JDAWPvVIOD97"
      }
    },
    {
      "cell_type": "markdown",
      "source": [
        "\n",
        "\n",
        "1.   Описать алгоритм\n",
        "2.   Реализовать алгоритм (используем pytorch)\n",
        "3.   Проведение экспериментов и оценка качества полученного решения\n",
        "\n"
      ],
      "metadata": {
        "id": "d-MrPut1Xg_9"
      }
    },
    {
      "cell_type": "markdown",
      "source": [
        "Алгоритм reinforce используется для обновления политики на основе градиента ожидаемого общего вознаграждения. В отличие от других алгоритмов обучения с подкреплением, алгоритм reinforce не использует функции значений для оценки качества политики, а вместо этого напрямую оптимизирует политику."
      ],
      "metadata": {
        "id": "PrIV19bBJMNF"
      }
    },
    {
      "cell_type": "markdown",
      "source": [
        "# Реализация алгоритма"
      ],
      "metadata": {
        "id": "9DdBOfIAJULr"
      }
    },
    {
      "cell_type": "code",
      "source": [
        "import torch\n",
        "import torch.nn as nn"
      ],
      "metadata": {
        "id": "W5nKgFXLXfj7"
      },
      "execution_count": null,
      "outputs": []
    },
    {
      "cell_type": "code",
      "source": [
        "class PolicyNetwork:\n",
        "  def __init__(self, n_state, n_action, n_hidden = 50, lr = 0.0001):\n",
        "    self.model = nn.Sequential(\n",
        "        nn.Linear(n_state, n_hidden),\n",
        "        nn.ReLU(),\n",
        "        nn.Linear(n_hidden, n_action),\n",
        "        nn.Softmax(),\n",
        "    )\n",
        "    self.optimizer = torch.optim.Adam(self.model.parameters(), lr)\n",
        "\n",
        "  def predict(self, s):\n",
        "    return self.model(torch.Tensor(s))\n",
        "\n",
        "  def update(self, returns, log_probs):\n",
        "    policy_gradient = []\n",
        "    for log_prob, Gt in zip(log_probs, returns):\n",
        "      policy_gradient.append(-log_prob * Gt)\n",
        "\n",
        "    loss = torch.stack(policy_gradient).sum()\n",
        "    self.optimizer.zero_grad()\n",
        "    loss.backward()\n",
        "    self.optimizer.step()\n",
        "  def get_action(self, s):\n",
        "    probs = self.predict(s)\n",
        "    action = torch.multinomial(probs, 1).item()\n",
        "    log_prob = torch.log(probs[action])\n",
        "    return action, log_prob"
      ],
      "metadata": {
        "id": "lbGb8BsLGcZJ"
      },
      "execution_count": null,
      "outputs": []
    },
    {
      "cell_type": "code",
      "source": [],
      "metadata": {
        "id": "ii3oWel6HJxj"
      },
      "execution_count": null,
      "outputs": []
    },
    {
      "cell_type": "code",
      "source": [
        "def reinforce(env, estimator, n_episode, gamma = 1.0):\n",
        "  for episode in range(n_episode):\n",
        "    log_probs = []\n",
        "    rewards = []\n",
        "    state = env.reset()\n",
        "    while True:\n",
        "      action, log_prob = estimator.get_action(state)\n",
        "      next_state, reward, is_done, _ = env.step(action)\n",
        "\n",
        "      total_reward_episode[episode] += reward\n",
        "      log_probs.append(log_prob)\n",
        "      rewards.append(reward)\n",
        "\n",
        "      if is_done:\n",
        "        returns = []\n",
        "        Gt = 0\n",
        "        pw = 0\n",
        "        for reward in rewards[::-1]:\n",
        "          Gt += gamma ** pw * reward\n",
        "          pw += 1\n",
        "          returns.append(Gt)\n",
        "        returns = returns[::-1]\n",
        "        returns = torch.tensor(returns)\n",
        "        returns = (returns - returns.mean())/(returns.std() + 1e-9)\n",
        "\n",
        "        estimator.update(returns, log_probs)\n",
        "        print(f'epis: {episode}, total_reward: {total_reward_episode[episode]}' )\n",
        "        break\n",
        "\n",
        "      state = next_state"
      ],
      "metadata": {
        "id": "do_lrKaRGcWo"
      },
      "execution_count": null,
      "outputs": []
    },
    {
      "cell_type": "code",
      "source": [
        "n_state = env.observation_space.shape[0]\n",
        "n_action = env.action_space.n\n",
        "n_hidden = 128\n",
        "lr = 0.003\n",
        "policy_net = PolicyNetwork(n_state, n_action, n_hidden, lr)"
      ],
      "metadata": {
        "id": "uyMYIFSOGcUA"
      },
      "execution_count": null,
      "outputs": []
    },
    {
      "cell_type": "code",
      "source": [
        "n_episode = 500\n",
        "gamma = 0.9\n",
        "total_reward_episode = [0] * n_episode"
      ],
      "metadata": {
        "id": "Ace0RRRqGcRQ"
      },
      "execution_count": null,
      "outputs": []
    },
    {
      "cell_type": "code",
      "source": [
        "reinforce(env, policy_net, n_episode, gamma)"
      ],
      "metadata": {
        "colab": {
          "base_uri": "https://localhost:8080/"
        },
        "id": "Szsp-bjoGcOY",
        "outputId": "aba9cf58-b3b1-4dcf-e36e-a20b4e4216c7"
      },
      "execution_count": null,
      "outputs": [
        {
          "output_type": "stream",
          "name": "stdout",
          "text": [
            "epis: 0, total_reward: -58.15042268952301\n",
            "epis: 1, total_reward: -333.36267332113925\n",
            "epis: 2, total_reward: -183.244377914379\n",
            "epis: 3, total_reward: -517.6394824523666\n",
            "epis: 4, total_reward: -256.98526116882766\n",
            "epis: 5, total_reward: -362.3140848315055\n",
            "epis: 6, total_reward: -338.97260564075054\n",
            "epis: 7, total_reward: -296.62322665977644\n",
            "epis: 8, total_reward: -480.64474573213954\n",
            "epis: 9, total_reward: -114.60738025242699\n",
            "epis: 10, total_reward: -108.33321422536575\n",
            "epis: 11, total_reward: -471.614437014978\n",
            "epis: 12, total_reward: -431.5172785660651\n",
            "epis: 13, total_reward: -174.28634653632918\n",
            "epis: 14, total_reward: -108.34158744520258\n",
            "epis: 15, total_reward: -151.1298318178841\n",
            "epis: 16, total_reward: -190.76987942284686\n",
            "epis: 17, total_reward: -169.24692126906325\n",
            "epis: 18, total_reward: -211.48716706575215\n",
            "epis: 19, total_reward: -137.21027529209493\n",
            "epis: 20, total_reward: -386.73060604017894\n",
            "epis: 21, total_reward: -184.46442894402983\n",
            "epis: 22, total_reward: -169.54094391904718\n",
            "epis: 23, total_reward: -116.19268054126493\n",
            "epis: 24, total_reward: -128.0261815644301\n",
            "epis: 25, total_reward: -138.8628826236163\n",
            "epis: 26, total_reward: -369.6225327672301\n",
            "epis: 27, total_reward: -90.2276529103049\n",
            "epis: 28, total_reward: -309.7361295067076\n",
            "epis: 29, total_reward: -227.5137519645897\n",
            "epis: 30, total_reward: -115.85989140071767\n",
            "epis: 31, total_reward: -51.657242122281005\n",
            "epis: 32, total_reward: -190.52884578317384\n",
            "epis: 33, total_reward: -53.95004575510115\n",
            "epis: 34, total_reward: -134.82736462350235\n",
            "epis: 35, total_reward: -246.1157695365551\n",
            "epis: 36, total_reward: -149.99816184856869\n",
            "epis: 37, total_reward: -365.23539590578\n",
            "epis: 38, total_reward: -270.58935627004\n",
            "epis: 39, total_reward: -185.4069356876745\n",
            "epis: 40, total_reward: -408.00743776332615\n",
            "epis: 41, total_reward: -4.727854402959778\n",
            "epis: 42, total_reward: -146.43879311867107\n",
            "epis: 43, total_reward: -126.58207380846287\n",
            "epis: 44, total_reward: -186.0495134416546\n",
            "epis: 45, total_reward: -43.83078009444681\n",
            "epis: 46, total_reward: -172.42262282303474\n",
            "epis: 47, total_reward: -135.9059358231081\n",
            "epis: 48, total_reward: -375.70940798365655\n",
            "epis: 49, total_reward: -85.6192721825252\n",
            "epis: 50, total_reward: -263.2189325280866\n",
            "epis: 51, total_reward: -225.99376088683113\n",
            "epis: 52, total_reward: -201.43578708671504\n",
            "epis: 53, total_reward: -143.32452638074602\n",
            "epis: 54, total_reward: -371.64388056824293\n",
            "epis: 55, total_reward: -220.6184560218428\n",
            "epis: 56, total_reward: -91.7679626440064\n",
            "epis: 57, total_reward: -131.01134576001945\n",
            "epis: 58, total_reward: -300.84753064858506\n",
            "epis: 59, total_reward: -400.9838056539897\n",
            "epis: 60, total_reward: -113.85330886766184\n",
            "epis: 61, total_reward: -130.148658818402\n",
            "epis: 62, total_reward: -84.25098976644932\n",
            "epis: 63, total_reward: -133.9515028837013\n",
            "epis: 64, total_reward: -141.7779275996883\n",
            "epis: 65, total_reward: -437.01760671718927\n",
            "epis: 66, total_reward: -233.22122873509963\n",
            "epis: 67, total_reward: -268.91915885140827\n",
            "epis: 68, total_reward: -535.6204002625713\n",
            "epis: 69, total_reward: -105.31429318090787\n",
            "epis: 70, total_reward: -394.9798914980344\n",
            "epis: 71, total_reward: -447.71065897545895\n",
            "epis: 72, total_reward: -152.18031699020304\n",
            "epis: 73, total_reward: -344.61544156567334\n",
            "epis: 74, total_reward: -100.37373581085797\n",
            "epis: 75, total_reward: -78.02988140867247\n",
            "epis: 76, total_reward: -431.7564013150505\n",
            "epis: 77, total_reward: -138.26621319209033\n",
            "epis: 78, total_reward: -519.4192087359927\n",
            "epis: 79, total_reward: -171.30605846190826\n",
            "epis: 80, total_reward: -227.45587777031048\n",
            "epis: 81, total_reward: -130.74638366309316\n",
            "epis: 82, total_reward: -355.44977784350584\n",
            "epis: 83, total_reward: -87.17583963658063\n",
            "epis: 84, total_reward: -141.05068864023522\n",
            "epis: 85, total_reward: -97.61684361910183\n",
            "epis: 86, total_reward: -205.96743728860633\n",
            "epis: 87, total_reward: -234.12104434891089\n",
            "epis: 88, total_reward: -121.04096984349465\n",
            "epis: 89, total_reward: -127.91601380132542\n",
            "epis: 90, total_reward: -175.46204911470068\n",
            "epis: 91, total_reward: -98.64975467980925\n",
            "epis: 92, total_reward: -299.45720073491066\n",
            "epis: 93, total_reward: -490.35204198827324\n",
            "epis: 94, total_reward: -127.19508835125328\n",
            "epis: 95, total_reward: -182.5652123776436\n",
            "epis: 96, total_reward: -134.091917059695\n",
            "epis: 97, total_reward: -88.38929290205607\n",
            "epis: 98, total_reward: -380.89765803884694\n",
            "epis: 99, total_reward: -195.57172943124192\n",
            "epis: 100, total_reward: -237.2890979075311\n",
            "epis: 101, total_reward: -182.45976833260534\n",
            "epis: 102, total_reward: -159.04872460735572\n",
            "epis: 103, total_reward: -376.6744974488119\n",
            "epis: 104, total_reward: -360.2387801657899\n",
            "epis: 105, total_reward: -134.03945042932818\n",
            "epis: 106, total_reward: -75.39586427514467\n",
            "epis: 107, total_reward: -224.81454746253476\n",
            "epis: 108, total_reward: -347.7539313050429\n",
            "epis: 109, total_reward: -246.3388095521067\n",
            "epis: 110, total_reward: -106.72566715856696\n",
            "epis: 111, total_reward: -150.21799928893108\n",
            "epis: 112, total_reward: -114.87130713637967\n",
            "epis: 113, total_reward: -340.3009837300554\n",
            "epis: 114, total_reward: -81.39779568467371\n",
            "epis: 115, total_reward: -239.81820624328103\n",
            "epis: 116, total_reward: -192.94648760228426\n",
            "epis: 117, total_reward: -105.26249369170438\n",
            "epis: 118, total_reward: -380.15991386962844\n",
            "epis: 119, total_reward: -466.004168165455\n",
            "epis: 120, total_reward: -94.49946824230632\n",
            "epis: 121, total_reward: -86.73967612920772\n",
            "epis: 122, total_reward: -228.24932539011184\n",
            "epis: 123, total_reward: -114.32105404700363\n",
            "epis: 124, total_reward: -141.10846769618271\n",
            "epis: 125, total_reward: -88.7935822612921\n",
            "epis: 126, total_reward: -516.506191994843\n",
            "epis: 127, total_reward: -131.10856104101106\n",
            "epis: 128, total_reward: -316.85020211124845\n",
            "epis: 129, total_reward: -145.09504251812888\n",
            "epis: 130, total_reward: -81.84084046260759\n",
            "epis: 131, total_reward: -129.19065424214534\n",
            "epis: 132, total_reward: -112.6888648016111\n",
            "epis: 133, total_reward: -155.7583174180922\n",
            "epis: 134, total_reward: -116.83743432959652\n",
            "epis: 135, total_reward: -121.06195819952431\n",
            "epis: 136, total_reward: -10.114805157106929\n",
            "epis: 137, total_reward: -77.15690921023553\n",
            "epis: 138, total_reward: -339.006292209158\n",
            "epis: 139, total_reward: -217.49774346567307\n",
            "epis: 140, total_reward: -88.84136089974623\n",
            "epis: 141, total_reward: -134.3525592341714\n",
            "epis: 142, total_reward: -137.4573965944884\n",
            "epis: 143, total_reward: -120.05249111069602\n",
            "epis: 144, total_reward: -162.28322606676477\n",
            "epis: 145, total_reward: -67.20436792995228\n",
            "epis: 146, total_reward: -299.75506650299906\n",
            "epis: 147, total_reward: -71.93232381862359\n",
            "epis: 148, total_reward: -134.82004453694623\n",
            "epis: 149, total_reward: -74.3983675961874\n",
            "epis: 150, total_reward: -79.91043033100175\n",
            "epis: 151, total_reward: -6.855561103178701\n",
            "epis: 152, total_reward: -141.5109344447981\n",
            "epis: 153, total_reward: -131.88494521899557\n",
            "epis: 154, total_reward: -108.88537821183479\n",
            "epis: 155, total_reward: -138.6890576120393\n",
            "epis: 156, total_reward: -81.52449338029743\n",
            "epis: 157, total_reward: -95.69145504670823\n",
            "epis: 158, total_reward: -142.81505266709394\n",
            "epis: 159, total_reward: -146.86232317069368\n",
            "epis: 160, total_reward: -114.01612227608858\n",
            "epis: 161, total_reward: -116.51430230356092\n",
            "epis: 162, total_reward: -119.71735522376369\n",
            "epis: 163, total_reward: -12.671281903285958\n",
            "epis: 164, total_reward: -383.67005371416536\n",
            "epis: 165, total_reward: -88.51163110080859\n",
            "epis: 166, total_reward: -126.40993784127215\n",
            "epis: 167, total_reward: -264.15294259212794\n",
            "epis: 168, total_reward: -344.0350458648136\n",
            "epis: 169, total_reward: -162.3423666603316\n",
            "epis: 170, total_reward: -183.92231413472567\n",
            "epis: 171, total_reward: -20.020039581984832\n",
            "epis: 172, total_reward: -474.10127847067145\n",
            "epis: 173, total_reward: -147.47802334909372\n",
            "epis: 174, total_reward: -211.01666657634078\n",
            "epis: 175, total_reward: -90.50087331619211\n",
            "epis: 176, total_reward: -108.5687395824301\n",
            "epis: 177, total_reward: -118.48114130581766\n",
            "epis: 178, total_reward: -111.8279945938523\n",
            "epis: 179, total_reward: -379.45310590404944\n",
            "epis: 180, total_reward: -118.7135794764052\n",
            "epis: 181, total_reward: -262.1750363712042\n",
            "epis: 182, total_reward: -406.26602903999316\n",
            "epis: 183, total_reward: -165.87537993374863\n",
            "epis: 184, total_reward: -200.7378668767513\n",
            "epis: 185, total_reward: 35.386908313044984\n",
            "epis: 186, total_reward: -102.85097288642025\n",
            "epis: 187, total_reward: -33.036430472697276\n",
            "epis: 188, total_reward: -91.89258084999341\n",
            "epis: 189, total_reward: -93.76228214693272\n",
            "epis: 190, total_reward: -406.2847564682768\n",
            "epis: 191, total_reward: -322.5282659695906\n",
            "epis: 192, total_reward: -98.99295158527462\n",
            "epis: 193, total_reward: -211.15186802514552\n",
            "epis: 194, total_reward: -541.963164908931\n",
            "epis: 195, total_reward: -96.51676868587877\n",
            "epis: 196, total_reward: -106.46849125548421\n",
            "epis: 197, total_reward: -307.6079824923506\n",
            "epis: 198, total_reward: -122.65460716142046\n",
            "epis: 199, total_reward: -331.232121063932\n",
            "epis: 200, total_reward: -185.47261598489982\n",
            "epis: 201, total_reward: -360.1942079035365\n",
            "epis: 202, total_reward: -97.68271464857317\n",
            "epis: 203, total_reward: -247.2884821019878\n",
            "epis: 204, total_reward: -196.319725372672\n",
            "epis: 205, total_reward: -259.8409124676021\n",
            "epis: 206, total_reward: -394.42814114321425\n",
            "epis: 207, total_reward: -129.73680045018696\n",
            "epis: 208, total_reward: -84.5656749386964\n",
            "epis: 209, total_reward: -163.68593441303784\n",
            "epis: 210, total_reward: -313.57551619761887\n",
            "epis: 211, total_reward: 0.8568101164622277\n",
            "epis: 212, total_reward: -316.8521971799063\n",
            "epis: 213, total_reward: -271.76249044740683\n",
            "epis: 214, total_reward: -190.03123305945866\n",
            "epis: 215, total_reward: -206.53248881320593\n",
            "epis: 216, total_reward: -288.13948195904845\n",
            "epis: 217, total_reward: -74.98050597862107\n",
            "epis: 218, total_reward: -199.6690035883066\n",
            "epis: 219, total_reward: -332.86213491335866\n",
            "epis: 220, total_reward: -122.68775450438015\n",
            "epis: 221, total_reward: -127.83827883474012\n",
            "epis: 222, total_reward: -140.44056896349582\n",
            "epis: 223, total_reward: -195.34768009103055\n",
            "epis: 224, total_reward: -88.23795184080655\n",
            "epis: 225, total_reward: -95.76044113300999\n",
            "epis: 226, total_reward: -231.40946854617226\n",
            "epis: 227, total_reward: -108.37753884697612\n",
            "epis: 228, total_reward: -163.56030397012626\n",
            "epis: 229, total_reward: 9.874350074096057\n",
            "epis: 230, total_reward: -238.7304137665747\n",
            "epis: 231, total_reward: -226.97687251972502\n",
            "epis: 232, total_reward: -69.4219310602549\n",
            "epis: 233, total_reward: -300.03047847076857\n",
            "epis: 234, total_reward: -167.58088015672382\n",
            "epis: 235, total_reward: -123.38373502940127\n",
            "epis: 236, total_reward: -307.765892765289\n",
            "epis: 237, total_reward: -254.4265623235906\n",
            "epis: 238, total_reward: -73.46462247916195\n",
            "epis: 239, total_reward: -180.01352573169265\n",
            "epis: 240, total_reward: -166.5072893981582\n",
            "epis: 241, total_reward: -330.3728474178313\n",
            "epis: 242, total_reward: -387.62611834418726\n",
            "epis: 243, total_reward: -113.68943666617592\n",
            "epis: 244, total_reward: -98.72509376987281\n",
            "epis: 245, total_reward: -225.77429424520824\n",
            "epis: 246, total_reward: -350.9309230785958\n",
            "epis: 247, total_reward: -388.67178054142346\n",
            "epis: 248, total_reward: -157.87384878489507\n",
            "epis: 249, total_reward: -334.4369894752865\n",
            "epis: 250, total_reward: -318.8254062002891\n",
            "epis: 251, total_reward: -112.17420918684746\n",
            "epis: 252, total_reward: -413.4074456595272\n",
            "epis: 253, total_reward: -163.96547476455123\n",
            "epis: 254, total_reward: -612.1870761932041\n",
            "epis: 255, total_reward: -62.63610776756809\n",
            "epis: 256, total_reward: -113.45673982745565\n",
            "epis: 257, total_reward: -342.6795658849476\n",
            "epis: 258, total_reward: -82.76137228303281\n",
            "epis: 259, total_reward: -139.01997131462178\n",
            "epis: 260, total_reward: -116.0646625283622\n",
            "epis: 261, total_reward: -350.2349862119342\n",
            "epis: 262, total_reward: -101.27314204388061\n",
            "epis: 263, total_reward: -148.31220943085478\n",
            "epis: 264, total_reward: -270.82667677371353\n",
            "epis: 265, total_reward: 7.57574780041702\n",
            "epis: 266, total_reward: -108.88458390019649\n",
            "epis: 267, total_reward: -223.9391911551195\n",
            "epis: 268, total_reward: -107.42954994082912\n",
            "epis: 269, total_reward: -125.03047677083158\n",
            "epis: 270, total_reward: -123.62557893517561\n",
            "epis: 271, total_reward: -209.2098085432732\n",
            "epis: 272, total_reward: -123.21919069042018\n",
            "epis: 273, total_reward: -422.922779160065\n",
            "epis: 274, total_reward: -109.5009964399404\n",
            "epis: 275, total_reward: -206.0226137144955\n",
            "epis: 276, total_reward: -1.6420292317176433\n",
            "epis: 277, total_reward: -122.24382711142042\n",
            "epis: 278, total_reward: 11.407148275305502\n",
            "epis: 279, total_reward: -119.76865800022065\n",
            "epis: 280, total_reward: -94.01902185852951\n",
            "epis: 281, total_reward: -125.90878238091022\n",
            "epis: 282, total_reward: -124.73327320477425\n",
            "epis: 283, total_reward: -171.42914665166654\n",
            "epis: 284, total_reward: -119.34560174749164\n",
            "epis: 285, total_reward: -98.36900203452603\n",
            "epis: 286, total_reward: -220.4233302765237\n",
            "epis: 287, total_reward: -125.11443951185865\n",
            "epis: 288, total_reward: -146.93915627493567\n",
            "epis: 289, total_reward: -98.52767238446499\n",
            "epis: 290, total_reward: -302.9111664856206\n",
            "epis: 291, total_reward: -137.79296067549856\n",
            "epis: 292, total_reward: -146.24037406624143\n",
            "epis: 293, total_reward: -286.00699029791855\n",
            "epis: 294, total_reward: -289.0476426204091\n",
            "epis: 295, total_reward: -86.75020016688381\n",
            "epis: 296, total_reward: -116.14148796146634\n",
            "epis: 297, total_reward: -203.3924766216076\n",
            "epis: 298, total_reward: -107.39303329697603\n",
            "epis: 299, total_reward: -52.50953933355923\n",
            "epis: 300, total_reward: -137.17079807317234\n",
            "epis: 301, total_reward: -89.49265283771287\n",
            "epis: 302, total_reward: -118.1591853373942\n",
            "epis: 303, total_reward: -112.519242068266\n",
            "epis: 304, total_reward: -171.60229788853047\n",
            "epis: 305, total_reward: -85.725677752117\n",
            "epis: 306, total_reward: -141.3836402358308\n",
            "epis: 307, total_reward: -102.00796498253727\n",
            "epis: 308, total_reward: -118.24315392133997\n",
            "epis: 309, total_reward: -148.66428538708863\n",
            "epis: 310, total_reward: -92.77977650181785\n",
            "epis: 311, total_reward: -84.70984003374096\n",
            "epis: 312, total_reward: -126.2284379578989\n",
            "epis: 313, total_reward: -111.92608390920415\n",
            "epis: 314, total_reward: -100.19995921044189\n",
            "epis: 315, total_reward: -117.98130495680684\n",
            "epis: 316, total_reward: -137.39146733130988\n",
            "epis: 317, total_reward: -109.86199664839137\n",
            "epis: 318, total_reward: -170.20583880270834\n",
            "epis: 319, total_reward: -179.12918746842269\n",
            "epis: 320, total_reward: -182.86570362873343\n",
            "epis: 321, total_reward: -125.43463262079065\n",
            "epis: 322, total_reward: -116.19569980416017\n",
            "epis: 323, total_reward: -251.88816195023873\n",
            "epis: 324, total_reward: -143.0577155431689\n",
            "epis: 325, total_reward: -352.30490401133454\n",
            "epis: 326, total_reward: -97.47011272865126\n",
            "epis: 327, total_reward: -55.50903164408888\n",
            "epis: 328, total_reward: -155.8026212166718\n",
            "epis: 329, total_reward: -216.60861814018443\n",
            "epis: 330, total_reward: -126.62855858487319\n",
            "epis: 331, total_reward: -110.12532030293802\n",
            "epis: 332, total_reward: -124.29584033901124\n",
            "epis: 333, total_reward: -151.18803088697075\n",
            "epis: 334, total_reward: -92.03949147404468\n",
            "epis: 335, total_reward: -159.54233186778313\n",
            "epis: 336, total_reward: -240.8755466196188\n",
            "epis: 337, total_reward: -103.63701121180351\n",
            "epis: 338, total_reward: -98.63858570486434\n",
            "epis: 339, total_reward: -131.24618428737634\n",
            "epis: 340, total_reward: -191.9080261393956\n",
            "epis: 341, total_reward: -232.19123860696547\n",
            "epis: 342, total_reward: -247.35350761557106\n",
            "epis: 343, total_reward: -128.06285544005956\n",
            "epis: 344, total_reward: -101.7145000743374\n",
            "epis: 345, total_reward: -120.52426131641111\n",
            "epis: 346, total_reward: -119.04194784647558\n",
            "epis: 347, total_reward: -118.32715404510635\n",
            "epis: 348, total_reward: -216.26493246173777\n",
            "epis: 349, total_reward: -128.6079274316433\n",
            "epis: 350, total_reward: -48.65394393793785\n",
            "epis: 351, total_reward: -136.6721247135766\n",
            "epis: 352, total_reward: -145.92222700951453\n",
            "epis: 353, total_reward: -296.0735120010172\n",
            "epis: 354, total_reward: -104.44944512844614\n",
            "epis: 355, total_reward: -136.45207772085922\n",
            "epis: 356, total_reward: -108.32563972029651\n",
            "epis: 357, total_reward: -177.76579167457993\n",
            "epis: 358, total_reward: -130.2813929369937\n",
            "epis: 359, total_reward: -141.24917646247715\n",
            "epis: 360, total_reward: -131.68885885334777\n",
            "epis: 361, total_reward: -106.28287729513623\n",
            "epis: 362, total_reward: -126.87561958955746\n",
            "epis: 363, total_reward: -209.0982449548245\n",
            "epis: 364, total_reward: -119.21778902760263\n",
            "epis: 365, total_reward: -137.93956831177525\n",
            "epis: 366, total_reward: -156.62170397675993\n",
            "epis: 367, total_reward: -89.5486388413521\n",
            "epis: 368, total_reward: -153.92799682155032\n",
            "epis: 369, total_reward: -171.6682383619432\n",
            "epis: 370, total_reward: -155.73052113943777\n",
            "epis: 371, total_reward: -176.18939266224277\n",
            "epis: 372, total_reward: -109.18181024479358\n",
            "epis: 373, total_reward: -95.8308615392292\n",
            "epis: 374, total_reward: -12.011159259950404\n",
            "epis: 375, total_reward: -218.62810349680154\n",
            "epis: 376, total_reward: -148.55569547601146\n",
            "epis: 377, total_reward: -123.13182278865946\n",
            "epis: 378, total_reward: -141.69559719887087\n",
            "epis: 379, total_reward: -161.62689604892756\n",
            "epis: 380, total_reward: -186.89567828613264\n",
            "epis: 381, total_reward: -183.96349197926492\n",
            "epis: 382, total_reward: -88.08559369054534\n",
            "epis: 383, total_reward: -138.70319056775506\n",
            "epis: 384, total_reward: -115.63192984994791\n",
            "epis: 385, total_reward: -206.9829156476649\n",
            "epis: 386, total_reward: -105.5722294827509\n",
            "epis: 387, total_reward: -131.3537532613119\n",
            "epis: 388, total_reward: -91.99100390720935\n",
            "epis: 389, total_reward: -144.27622379426745\n",
            "epis: 390, total_reward: -142.7040047736134\n",
            "epis: 391, total_reward: -111.65102016923382\n",
            "epis: 392, total_reward: -86.5547477867332\n",
            "epis: 393, total_reward: -150.58525798192522\n",
            "epis: 394, total_reward: -143.27315947745254\n",
            "epis: 395, total_reward: -265.6888313982406\n",
            "epis: 396, total_reward: -142.76636533721256\n",
            "epis: 397, total_reward: -12.237552592628845\n",
            "epis: 398, total_reward: -155.5508764029147\n",
            "epis: 399, total_reward: -107.85738984520638\n",
            "epis: 400, total_reward: -103.12491239335385\n",
            "epis: 401, total_reward: -86.42560671396794\n",
            "epis: 402, total_reward: -128.96218996879728\n",
            "epis: 403, total_reward: -138.74940372329726\n",
            "epis: 404, total_reward: -149.74611663569476\n",
            "epis: 405, total_reward: -164.52691688670023\n",
            "epis: 406, total_reward: -151.05125207131186\n",
            "epis: 407, total_reward: -334.66410495451424\n",
            "epis: 408, total_reward: -98.40444157981284\n",
            "epis: 409, total_reward: -328.98458561016866\n",
            "epis: 410, total_reward: -148.00799803542012\n",
            "epis: 411, total_reward: -280.1676172283446\n",
            "epis: 412, total_reward: -123.08415504129023\n",
            "epis: 413, total_reward: -215.6497380332935\n",
            "epis: 414, total_reward: -124.69189231034679\n",
            "epis: 415, total_reward: -158.72772707564087\n",
            "epis: 416, total_reward: -156.45385339336002\n",
            "epis: 417, total_reward: -109.42765583470349\n",
            "epis: 418, total_reward: -257.3806317625732\n",
            "epis: 419, total_reward: -147.58956269952245\n",
            "epis: 420, total_reward: -315.0765591916987\n",
            "epis: 421, total_reward: -103.42639924095633\n",
            "epis: 422, total_reward: -149.33910801906245\n",
            "epis: 423, total_reward: -108.61061456245763\n",
            "epis: 424, total_reward: -330.3643926272457\n",
            "epis: 425, total_reward: 24.605870180635605\n",
            "epis: 426, total_reward: -264.3470077354805\n",
            "epis: 427, total_reward: -347.90382389851015\n",
            "epis: 428, total_reward: -320.533135603711\n",
            "epis: 429, total_reward: -21.656700492948772\n",
            "epis: 430, total_reward: -305.97205129712603\n",
            "epis: 431, total_reward: -217.08341214275646\n",
            "epis: 432, total_reward: -388.61880186500247\n",
            "epis: 433, total_reward: -155.42700888051218\n",
            "epis: 434, total_reward: -374.14395902636556\n",
            "epis: 435, total_reward: -154.64485674118845\n",
            "epis: 436, total_reward: -94.79746754965078\n",
            "epis: 437, total_reward: -149.30509302345658\n",
            "epis: 438, total_reward: -341.7024054378826\n",
            "epis: 439, total_reward: -124.67466128994674\n",
            "epis: 440, total_reward: -122.73527559346627\n",
            "epis: 441, total_reward: -73.37620935950132\n",
            "epis: 442, total_reward: -116.12553867782775\n",
            "epis: 443, total_reward: -99.15866621667881\n",
            "epis: 444, total_reward: -120.00110769202296\n",
            "epis: 445, total_reward: -148.8753313097923\n",
            "epis: 446, total_reward: -20.217252800069417\n",
            "epis: 447, total_reward: -216.9535929715229\n",
            "epis: 448, total_reward: -147.68802303032248\n",
            "epis: 449, total_reward: -75.70178726008388\n",
            "epis: 450, total_reward: -151.04150615678788\n",
            "epis: 451, total_reward: -198.82296346219871\n",
            "epis: 452, total_reward: -220.5360344542695\n",
            "epis: 453, total_reward: -106.2745321788113\n",
            "epis: 454, total_reward: -100.86689993103178\n",
            "epis: 455, total_reward: -79.6943639806986\n",
            "epis: 456, total_reward: -118.37382960274647\n",
            "epis: 457, total_reward: -95.97864228600707\n",
            "epis: 458, total_reward: -122.7593179661487\n",
            "epis: 459, total_reward: -132.77741023765734\n",
            "epis: 460, total_reward: -242.2945676480491\n",
            "epis: 461, total_reward: -206.25720751574647\n",
            "epis: 462, total_reward: -96.91760003433102\n",
            "epis: 463, total_reward: -90.73843443560102\n",
            "epis: 464, total_reward: 3.638873833255701\n",
            "epis: 465, total_reward: -126.22525185418677\n",
            "epis: 466, total_reward: -137.27182335485685\n",
            "epis: 467, total_reward: -126.78661297974907\n",
            "epis: 468, total_reward: -201.6810738404172\n",
            "epis: 469, total_reward: -270.4812503092671\n",
            "epis: 470, total_reward: -94.17582158550653\n",
            "epis: 471, total_reward: -116.21062660661306\n",
            "epis: 472, total_reward: -185.0174901131628\n",
            "epis: 473, total_reward: 59.136176739870734\n",
            "epis: 474, total_reward: -340.1075180649203\n",
            "epis: 475, total_reward: -272.263187553047\n",
            "epis: 476, total_reward: -231.98805826297075\n",
            "epis: 477, total_reward: -195.00873219654028\n",
            "epis: 478, total_reward: -254.89734271094696\n",
            "epis: 479, total_reward: -126.70314408009936\n",
            "epis: 480, total_reward: -167.93544729552212\n",
            "epis: 481, total_reward: -316.6364437894386\n",
            "epis: 482, total_reward: -230.73016713067938\n",
            "epis: 483, total_reward: -105.13178256081642\n",
            "epis: 484, total_reward: -291.32052202054524\n",
            "epis: 485, total_reward: -105.98736809145248\n",
            "epis: 486, total_reward: -159.79960533374083\n",
            "epis: 487, total_reward: -143.93016051129985\n",
            "epis: 488, total_reward: -150.15457474794005\n",
            "epis: 489, total_reward: -98.26052843834968\n",
            "epis: 490, total_reward: -315.10065666251415\n",
            "epis: 491, total_reward: -244.84421096292022\n",
            "epis: 492, total_reward: -208.0224937359234\n",
            "epis: 493, total_reward: -341.7567994929746\n",
            "epis: 494, total_reward: -189.4724115204399\n",
            "epis: 495, total_reward: -161.9096794379118\n",
            "epis: 496, total_reward: -114.70712879994274\n",
            "epis: 497, total_reward: -129.5604519106956\n",
            "epis: 498, total_reward: -95.55808133660354\n",
            "epis: 499, total_reward: -241.7103720224795\n"
          ]
        }
      ]
    },
    {
      "cell_type": "markdown",
      "source": [
        "# Проведение экспериментов и оценка качества полученного решения"
      ],
      "metadata": {
        "id": "7dx5W-AoJaOD"
      }
    },
    {
      "cell_type": "code",
      "source": [
        "import numpy as np\n",
        "from IPython.display import clear_output\n",
        "import time\n",
        "\n",
        "\n",
        "state = env.reset()\n",
        "\n",
        "for _ in range(1000):\n",
        "  plt.imshow(env.render(mode = 'rgb_array'))\n",
        "  display.clear_output(wait = True)\n",
        "  display.display(plt.gcf())\n",
        "\n",
        "  action = env.action_space.sample()\n",
        "  next_state, reward, done, info = env.step(action)\n",
        "  if done:\n",
        "    env.reset()\n",
        "\n",
        "  time.sleep(0.001)\n",
        "env.close()\n",
        "display.stop()\n"
      ],
      "metadata": {
        "colab": {
          "base_uri": "https://localhost:8080/",
          "height": 770
        },
        "id": "zO13vSg-GcLy",
        "outputId": "5ac0ce3d-a697-4b9e-98f6-f5122ccec5c4"
      },
      "execution_count": null,
      "outputs": [
        {
          "output_type": "error",
          "ename": "KeyboardInterrupt",
          "evalue": "",
          "traceback": [
            "\u001b[0;31m---------------------------------------------------------------------------\u001b[0m",
            "\u001b[0;31mKeyboardInterrupt\u001b[0m                         Traceback (most recent call last)",
            "\u001b[0;32m<ipython-input-10-072c3c82bcf2>\u001b[0m in \u001b[0;36m<cell line: 8>\u001b[0;34m()\u001b[0m\n\u001b[1;32m      9\u001b[0m   \u001b[0mplt\u001b[0m\u001b[0;34m.\u001b[0m\u001b[0mimshow\u001b[0m\u001b[0;34m(\u001b[0m\u001b[0menv\u001b[0m\u001b[0;34m.\u001b[0m\u001b[0mrender\u001b[0m\u001b[0;34m(\u001b[0m\u001b[0mmode\u001b[0m \u001b[0;34m=\u001b[0m \u001b[0;34m'rgb_array'\u001b[0m\u001b[0;34m)\u001b[0m\u001b[0;34m)\u001b[0m\u001b[0;34m\u001b[0m\u001b[0;34m\u001b[0m\u001b[0m\n\u001b[1;32m     10\u001b[0m   \u001b[0mdisplay\u001b[0m\u001b[0;34m.\u001b[0m\u001b[0mclear_output\u001b[0m\u001b[0;34m(\u001b[0m\u001b[0mwait\u001b[0m \u001b[0;34m=\u001b[0m \u001b[0;32mTrue\u001b[0m\u001b[0;34m)\u001b[0m\u001b[0;34m\u001b[0m\u001b[0;34m\u001b[0m\u001b[0m\n\u001b[0;32m---> 11\u001b[0;31m   \u001b[0mdisplay\u001b[0m\u001b[0;34m.\u001b[0m\u001b[0mdisplay\u001b[0m\u001b[0;34m(\u001b[0m\u001b[0mplt\u001b[0m\u001b[0;34m.\u001b[0m\u001b[0mgcf\u001b[0m\u001b[0;34m(\u001b[0m\u001b[0;34m)\u001b[0m\u001b[0;34m)\u001b[0m\u001b[0;34m\u001b[0m\u001b[0;34m\u001b[0m\u001b[0m\n\u001b[0m\u001b[1;32m     12\u001b[0m \u001b[0;34m\u001b[0m\u001b[0m\n\u001b[1;32m     13\u001b[0m   \u001b[0maction\u001b[0m \u001b[0;34m=\u001b[0m \u001b[0menv\u001b[0m\u001b[0;34m.\u001b[0m\u001b[0maction_space\u001b[0m\u001b[0;34m.\u001b[0m\u001b[0msample\u001b[0m\u001b[0;34m(\u001b[0m\u001b[0;34m)\u001b[0m\u001b[0;34m\u001b[0m\u001b[0;34m\u001b[0m\u001b[0m\n",
            "\u001b[0;32m/usr/local/lib/python3.10/dist-packages/IPython/core/display.py\u001b[0m in \u001b[0;36mdisplay\u001b[0;34m(include, exclude, metadata, transient, display_id, *objs, **kwargs)\u001b[0m\n\u001b[1;32m    318\u001b[0m             \u001b[0mpublish_display_data\u001b[0m\u001b[0;34m(\u001b[0m\u001b[0mdata\u001b[0m\u001b[0;34m=\u001b[0m\u001b[0mobj\u001b[0m\u001b[0;34m,\u001b[0m \u001b[0mmetadata\u001b[0m\u001b[0;34m=\u001b[0m\u001b[0mmetadata\u001b[0m\u001b[0;34m,\u001b[0m \u001b[0;34m**\u001b[0m\u001b[0mkwargs\u001b[0m\u001b[0;34m)\u001b[0m\u001b[0;34m\u001b[0m\u001b[0;34m\u001b[0m\u001b[0m\n\u001b[1;32m    319\u001b[0m         \u001b[0;32melse\u001b[0m\u001b[0;34m:\u001b[0m\u001b[0;34m\u001b[0m\u001b[0;34m\u001b[0m\u001b[0m\n\u001b[0;32m--> 320\u001b[0;31m             \u001b[0mformat_dict\u001b[0m\u001b[0;34m,\u001b[0m \u001b[0mmd_dict\u001b[0m \u001b[0;34m=\u001b[0m \u001b[0mformat\u001b[0m\u001b[0;34m(\u001b[0m\u001b[0mobj\u001b[0m\u001b[0;34m,\u001b[0m \u001b[0minclude\u001b[0m\u001b[0;34m=\u001b[0m\u001b[0minclude\u001b[0m\u001b[0;34m,\u001b[0m \u001b[0mexclude\u001b[0m\u001b[0;34m=\u001b[0m\u001b[0mexclude\u001b[0m\u001b[0;34m)\u001b[0m\u001b[0;34m\u001b[0m\u001b[0;34m\u001b[0m\u001b[0m\n\u001b[0m\u001b[1;32m    321\u001b[0m             \u001b[0;32mif\u001b[0m \u001b[0;32mnot\u001b[0m \u001b[0mformat_dict\u001b[0m\u001b[0;34m:\u001b[0m\u001b[0;34m\u001b[0m\u001b[0;34m\u001b[0m\u001b[0m\n\u001b[1;32m    322\u001b[0m                 \u001b[0;31m# nothing to display (e.g. _ipython_display_ took over)\u001b[0m\u001b[0;34m\u001b[0m\u001b[0;34m\u001b[0m\u001b[0m\n",
            "\u001b[0;32m/usr/local/lib/python3.10/dist-packages/IPython/core/formatters.py\u001b[0m in \u001b[0;36mformat\u001b[0;34m(self, obj, include, exclude)\u001b[0m\n\u001b[1;32m    178\u001b[0m             \u001b[0mmd\u001b[0m \u001b[0;34m=\u001b[0m \u001b[0;32mNone\u001b[0m\u001b[0;34m\u001b[0m\u001b[0;34m\u001b[0m\u001b[0m\n\u001b[1;32m    179\u001b[0m             \u001b[0;32mtry\u001b[0m\u001b[0;34m:\u001b[0m\u001b[0;34m\u001b[0m\u001b[0;34m\u001b[0m\u001b[0m\n\u001b[0;32m--> 180\u001b[0;31m                 \u001b[0mdata\u001b[0m \u001b[0;34m=\u001b[0m \u001b[0mformatter\u001b[0m\u001b[0;34m(\u001b[0m\u001b[0mobj\u001b[0m\u001b[0;34m)\u001b[0m\u001b[0;34m\u001b[0m\u001b[0;34m\u001b[0m\u001b[0m\n\u001b[0m\u001b[1;32m    181\u001b[0m             \u001b[0;32mexcept\u001b[0m\u001b[0;34m:\u001b[0m\u001b[0;34m\u001b[0m\u001b[0;34m\u001b[0m\u001b[0m\n\u001b[1;32m    182\u001b[0m                 \u001b[0;31m# FIXME: log the exception\u001b[0m\u001b[0;34m\u001b[0m\u001b[0;34m\u001b[0m\u001b[0m\n",
            "\u001b[0;32m<decorator-gen-2>\u001b[0m in \u001b[0;36m__call__\u001b[0;34m(self, obj)\u001b[0m\n",
            "\u001b[0;32m/usr/local/lib/python3.10/dist-packages/IPython/core/formatters.py\u001b[0m in \u001b[0;36mcatch_format_error\u001b[0;34m(method, self, *args, **kwargs)\u001b[0m\n\u001b[1;32m    222\u001b[0m     \u001b[0;34m\"\"\"show traceback on failed format call\"\"\"\u001b[0m\u001b[0;34m\u001b[0m\u001b[0;34m\u001b[0m\u001b[0m\n\u001b[1;32m    223\u001b[0m     \u001b[0;32mtry\u001b[0m\u001b[0;34m:\u001b[0m\u001b[0;34m\u001b[0m\u001b[0;34m\u001b[0m\u001b[0m\n\u001b[0;32m--> 224\u001b[0;31m         \u001b[0mr\u001b[0m \u001b[0;34m=\u001b[0m \u001b[0mmethod\u001b[0m\u001b[0;34m(\u001b[0m\u001b[0mself\u001b[0m\u001b[0;34m,\u001b[0m \u001b[0;34m*\u001b[0m\u001b[0margs\u001b[0m\u001b[0;34m,\u001b[0m \u001b[0;34m**\u001b[0m\u001b[0mkwargs\u001b[0m\u001b[0;34m)\u001b[0m\u001b[0;34m\u001b[0m\u001b[0;34m\u001b[0m\u001b[0m\n\u001b[0m\u001b[1;32m    225\u001b[0m     \u001b[0;32mexcept\u001b[0m \u001b[0mNotImplementedError\u001b[0m\u001b[0;34m:\u001b[0m\u001b[0;34m\u001b[0m\u001b[0;34m\u001b[0m\u001b[0m\n\u001b[1;32m    226\u001b[0m         \u001b[0;31m# don't warn on NotImplementedErrors\u001b[0m\u001b[0;34m\u001b[0m\u001b[0;34m\u001b[0m\u001b[0m\n",
            "\u001b[0;32m/usr/local/lib/python3.10/dist-packages/IPython/core/formatters.py\u001b[0m in \u001b[0;36m__call__\u001b[0;34m(self, obj)\u001b[0m\n\u001b[1;32m    339\u001b[0m                 \u001b[0;32mpass\u001b[0m\u001b[0;34m\u001b[0m\u001b[0;34m\u001b[0m\u001b[0m\n\u001b[1;32m    340\u001b[0m             \u001b[0;32melse\u001b[0m\u001b[0;34m:\u001b[0m\u001b[0;34m\u001b[0m\u001b[0;34m\u001b[0m\u001b[0m\n\u001b[0;32m--> 341\u001b[0;31m                 \u001b[0;32mreturn\u001b[0m \u001b[0mprinter\u001b[0m\u001b[0;34m(\u001b[0m\u001b[0mobj\u001b[0m\u001b[0;34m)\u001b[0m\u001b[0;34m\u001b[0m\u001b[0;34m\u001b[0m\u001b[0m\n\u001b[0m\u001b[1;32m    342\u001b[0m             \u001b[0;31m# Finally look for special method names\u001b[0m\u001b[0;34m\u001b[0m\u001b[0;34m\u001b[0m\u001b[0m\n\u001b[1;32m    343\u001b[0m             \u001b[0mmethod\u001b[0m \u001b[0;34m=\u001b[0m \u001b[0mget_real_method\u001b[0m\u001b[0;34m(\u001b[0m\u001b[0mobj\u001b[0m\u001b[0;34m,\u001b[0m \u001b[0mself\u001b[0m\u001b[0;34m.\u001b[0m\u001b[0mprint_method\u001b[0m\u001b[0;34m)\u001b[0m\u001b[0;34m\u001b[0m\u001b[0;34m\u001b[0m\u001b[0m\n",
            "\u001b[0;32m/usr/local/lib/python3.10/dist-packages/IPython/core/pylabtools.py\u001b[0m in \u001b[0;36mprint_figure\u001b[0;34m(fig, fmt, bbox_inches, base64, **kwargs)\u001b[0m\n\u001b[1;32m    149\u001b[0m         \u001b[0mFigureCanvasBase\u001b[0m\u001b[0;34m(\u001b[0m\u001b[0mfig\u001b[0m\u001b[0;34m)\u001b[0m\u001b[0;34m\u001b[0m\u001b[0;34m\u001b[0m\u001b[0m\n\u001b[1;32m    150\u001b[0m \u001b[0;34m\u001b[0m\u001b[0m\n\u001b[0;32m--> 151\u001b[0;31m     \u001b[0mfig\u001b[0m\u001b[0;34m.\u001b[0m\u001b[0mcanvas\u001b[0m\u001b[0;34m.\u001b[0m\u001b[0mprint_figure\u001b[0m\u001b[0;34m(\u001b[0m\u001b[0mbytes_io\u001b[0m\u001b[0;34m,\u001b[0m \u001b[0;34m**\u001b[0m\u001b[0mkw\u001b[0m\u001b[0;34m)\u001b[0m\u001b[0;34m\u001b[0m\u001b[0;34m\u001b[0m\u001b[0m\n\u001b[0m\u001b[1;32m    152\u001b[0m     \u001b[0mdata\u001b[0m \u001b[0;34m=\u001b[0m \u001b[0mbytes_io\u001b[0m\u001b[0;34m.\u001b[0m\u001b[0mgetvalue\u001b[0m\u001b[0;34m(\u001b[0m\u001b[0;34m)\u001b[0m\u001b[0;34m\u001b[0m\u001b[0;34m\u001b[0m\u001b[0m\n\u001b[1;32m    153\u001b[0m     \u001b[0;32mif\u001b[0m \u001b[0mfmt\u001b[0m \u001b[0;34m==\u001b[0m \u001b[0;34m'svg'\u001b[0m\u001b[0;34m:\u001b[0m\u001b[0;34m\u001b[0m\u001b[0;34m\u001b[0m\u001b[0m\n",
            "\u001b[0;32m/usr/local/lib/python3.10/dist-packages/matplotlib/backend_bases.py\u001b[0m in \u001b[0;36mprint_figure\u001b[0;34m(self, filename, dpi, facecolor, edgecolor, orientation, format, bbox_inches, pad_inches, bbox_extra_artists, backend, **kwargs)\u001b[0m\n\u001b[1;32m   2340\u001b[0m                 )\n\u001b[1;32m   2341\u001b[0m                 \u001b[0;32mwith\u001b[0m \u001b[0mgetattr\u001b[0m\u001b[0;34m(\u001b[0m\u001b[0mrenderer\u001b[0m\u001b[0;34m,\u001b[0m \u001b[0;34m\"_draw_disabled\"\u001b[0m\u001b[0;34m,\u001b[0m \u001b[0mnullcontext\u001b[0m\u001b[0;34m)\u001b[0m\u001b[0;34m(\u001b[0m\u001b[0;34m)\u001b[0m\u001b[0;34m:\u001b[0m\u001b[0;34m\u001b[0m\u001b[0;34m\u001b[0m\u001b[0m\n\u001b[0;32m-> 2342\u001b[0;31m                     \u001b[0mself\u001b[0m\u001b[0;34m.\u001b[0m\u001b[0mfigure\u001b[0m\u001b[0;34m.\u001b[0m\u001b[0mdraw\u001b[0m\u001b[0;34m(\u001b[0m\u001b[0mrenderer\u001b[0m\u001b[0;34m)\u001b[0m\u001b[0;34m\u001b[0m\u001b[0;34m\u001b[0m\u001b[0m\n\u001b[0m\u001b[1;32m   2343\u001b[0m \u001b[0;34m\u001b[0m\u001b[0m\n\u001b[1;32m   2344\u001b[0m             \u001b[0;32mif\u001b[0m \u001b[0mbbox_inches\u001b[0m\u001b[0;34m:\u001b[0m\u001b[0;34m\u001b[0m\u001b[0;34m\u001b[0m\u001b[0m\n",
            "\u001b[0;32m/usr/local/lib/python3.10/dist-packages/matplotlib/artist.py\u001b[0m in \u001b[0;36mdraw_wrapper\u001b[0;34m(artist, renderer, *args, **kwargs)\u001b[0m\n\u001b[1;32m     93\u001b[0m     \u001b[0;34m@\u001b[0m\u001b[0mwraps\u001b[0m\u001b[0;34m(\u001b[0m\u001b[0mdraw\u001b[0m\u001b[0;34m)\u001b[0m\u001b[0;34m\u001b[0m\u001b[0;34m\u001b[0m\u001b[0m\n\u001b[1;32m     94\u001b[0m     \u001b[0;32mdef\u001b[0m \u001b[0mdraw_wrapper\u001b[0m\u001b[0;34m(\u001b[0m\u001b[0martist\u001b[0m\u001b[0;34m,\u001b[0m \u001b[0mrenderer\u001b[0m\u001b[0;34m,\u001b[0m \u001b[0;34m*\u001b[0m\u001b[0margs\u001b[0m\u001b[0;34m,\u001b[0m \u001b[0;34m**\u001b[0m\u001b[0mkwargs\u001b[0m\u001b[0;34m)\u001b[0m\u001b[0;34m:\u001b[0m\u001b[0;34m\u001b[0m\u001b[0;34m\u001b[0m\u001b[0m\n\u001b[0;32m---> 95\u001b[0;31m         \u001b[0mresult\u001b[0m \u001b[0;34m=\u001b[0m \u001b[0mdraw\u001b[0m\u001b[0;34m(\u001b[0m\u001b[0martist\u001b[0m\u001b[0;34m,\u001b[0m \u001b[0mrenderer\u001b[0m\u001b[0;34m,\u001b[0m \u001b[0;34m*\u001b[0m\u001b[0margs\u001b[0m\u001b[0;34m,\u001b[0m \u001b[0;34m**\u001b[0m\u001b[0mkwargs\u001b[0m\u001b[0;34m)\u001b[0m\u001b[0;34m\u001b[0m\u001b[0;34m\u001b[0m\u001b[0m\n\u001b[0m\u001b[1;32m     96\u001b[0m         \u001b[0;32mif\u001b[0m \u001b[0mrenderer\u001b[0m\u001b[0;34m.\u001b[0m\u001b[0m_rasterizing\u001b[0m\u001b[0;34m:\u001b[0m\u001b[0;34m\u001b[0m\u001b[0;34m\u001b[0m\u001b[0m\n\u001b[1;32m     97\u001b[0m             \u001b[0mrenderer\u001b[0m\u001b[0;34m.\u001b[0m\u001b[0mstop_rasterizing\u001b[0m\u001b[0;34m(\u001b[0m\u001b[0;34m)\u001b[0m\u001b[0;34m\u001b[0m\u001b[0;34m\u001b[0m\u001b[0m\n",
            "\u001b[0;32m/usr/local/lib/python3.10/dist-packages/matplotlib/artist.py\u001b[0m in \u001b[0;36mdraw_wrapper\u001b[0;34m(artist, renderer)\u001b[0m\n\u001b[1;32m     70\u001b[0m                 \u001b[0mrenderer\u001b[0m\u001b[0;34m.\u001b[0m\u001b[0mstart_filter\u001b[0m\u001b[0;34m(\u001b[0m\u001b[0;34m)\u001b[0m\u001b[0;34m\u001b[0m\u001b[0;34m\u001b[0m\u001b[0m\n\u001b[1;32m     71\u001b[0m \u001b[0;34m\u001b[0m\u001b[0m\n\u001b[0;32m---> 72\u001b[0;31m             \u001b[0;32mreturn\u001b[0m \u001b[0mdraw\u001b[0m\u001b[0;34m(\u001b[0m\u001b[0martist\u001b[0m\u001b[0;34m,\u001b[0m \u001b[0mrenderer\u001b[0m\u001b[0;34m)\u001b[0m\u001b[0;34m\u001b[0m\u001b[0;34m\u001b[0m\u001b[0m\n\u001b[0m\u001b[1;32m     73\u001b[0m         \u001b[0;32mfinally\u001b[0m\u001b[0;34m:\u001b[0m\u001b[0;34m\u001b[0m\u001b[0;34m\u001b[0m\u001b[0m\n\u001b[1;32m     74\u001b[0m             \u001b[0;32mif\u001b[0m \u001b[0martist\u001b[0m\u001b[0;34m.\u001b[0m\u001b[0mget_agg_filter\u001b[0m\u001b[0;34m(\u001b[0m\u001b[0;34m)\u001b[0m \u001b[0;32mis\u001b[0m \u001b[0;32mnot\u001b[0m \u001b[0;32mNone\u001b[0m\u001b[0;34m:\u001b[0m\u001b[0;34m\u001b[0m\u001b[0;34m\u001b[0m\u001b[0m\n",
            "\u001b[0;32m/usr/local/lib/python3.10/dist-packages/matplotlib/figure.py\u001b[0m in \u001b[0;36mdraw\u001b[0;34m(self, renderer)\u001b[0m\n\u001b[1;32m   3138\u001b[0m \u001b[0;34m\u001b[0m\u001b[0m\n\u001b[1;32m   3139\u001b[0m             \u001b[0mself\u001b[0m\u001b[0;34m.\u001b[0m\u001b[0mpatch\u001b[0m\u001b[0;34m.\u001b[0m\u001b[0mdraw\u001b[0m\u001b[0;34m(\u001b[0m\u001b[0mrenderer\u001b[0m\u001b[0;34m)\u001b[0m\u001b[0;34m\u001b[0m\u001b[0;34m\u001b[0m\u001b[0m\n\u001b[0;32m-> 3140\u001b[0;31m             mimage._draw_list_compositing_images(\n\u001b[0m\u001b[1;32m   3141\u001b[0m                 renderer, self, artists, self.suppressComposite)\n\u001b[1;32m   3142\u001b[0m \u001b[0;34m\u001b[0m\u001b[0m\n",
            "\u001b[0;32m/usr/local/lib/python3.10/dist-packages/matplotlib/image.py\u001b[0m in \u001b[0;36m_draw_list_compositing_images\u001b[0;34m(renderer, parent, artists, suppress_composite)\u001b[0m\n\u001b[1;32m    129\u001b[0m     \u001b[0;32mif\u001b[0m \u001b[0mnot_composite\u001b[0m \u001b[0;32mor\u001b[0m \u001b[0;32mnot\u001b[0m \u001b[0mhas_images\u001b[0m\u001b[0;34m:\u001b[0m\u001b[0;34m\u001b[0m\u001b[0;34m\u001b[0m\u001b[0m\n\u001b[1;32m    130\u001b[0m         \u001b[0;32mfor\u001b[0m \u001b[0ma\u001b[0m \u001b[0;32min\u001b[0m \u001b[0martists\u001b[0m\u001b[0;34m:\u001b[0m\u001b[0;34m\u001b[0m\u001b[0;34m\u001b[0m\u001b[0m\n\u001b[0;32m--> 131\u001b[0;31m             \u001b[0ma\u001b[0m\u001b[0;34m.\u001b[0m\u001b[0mdraw\u001b[0m\u001b[0;34m(\u001b[0m\u001b[0mrenderer\u001b[0m\u001b[0;34m)\u001b[0m\u001b[0;34m\u001b[0m\u001b[0;34m\u001b[0m\u001b[0m\n\u001b[0m\u001b[1;32m    132\u001b[0m     \u001b[0;32melse\u001b[0m\u001b[0;34m:\u001b[0m\u001b[0;34m\u001b[0m\u001b[0;34m\u001b[0m\u001b[0m\n\u001b[1;32m    133\u001b[0m         \u001b[0;31m# Composite any adjacent images together\u001b[0m\u001b[0;34m\u001b[0m\u001b[0;34m\u001b[0m\u001b[0m\n",
            "\u001b[0;32m/usr/local/lib/python3.10/dist-packages/matplotlib/artist.py\u001b[0m in \u001b[0;36mdraw_wrapper\u001b[0;34m(artist, renderer)\u001b[0m\n\u001b[1;32m     70\u001b[0m                 \u001b[0mrenderer\u001b[0m\u001b[0;34m.\u001b[0m\u001b[0mstart_filter\u001b[0m\u001b[0;34m(\u001b[0m\u001b[0;34m)\u001b[0m\u001b[0;34m\u001b[0m\u001b[0;34m\u001b[0m\u001b[0m\n\u001b[1;32m     71\u001b[0m \u001b[0;34m\u001b[0m\u001b[0m\n\u001b[0;32m---> 72\u001b[0;31m             \u001b[0;32mreturn\u001b[0m \u001b[0mdraw\u001b[0m\u001b[0;34m(\u001b[0m\u001b[0martist\u001b[0m\u001b[0;34m,\u001b[0m \u001b[0mrenderer\u001b[0m\u001b[0;34m)\u001b[0m\u001b[0;34m\u001b[0m\u001b[0;34m\u001b[0m\u001b[0m\n\u001b[0m\u001b[1;32m     73\u001b[0m         \u001b[0;32mfinally\u001b[0m\u001b[0;34m:\u001b[0m\u001b[0;34m\u001b[0m\u001b[0;34m\u001b[0m\u001b[0m\n\u001b[1;32m     74\u001b[0m             \u001b[0;32mif\u001b[0m \u001b[0martist\u001b[0m\u001b[0;34m.\u001b[0m\u001b[0mget_agg_filter\u001b[0m\u001b[0;34m(\u001b[0m\u001b[0;34m)\u001b[0m \u001b[0;32mis\u001b[0m \u001b[0;32mnot\u001b[0m \u001b[0;32mNone\u001b[0m\u001b[0;34m:\u001b[0m\u001b[0;34m\u001b[0m\u001b[0;34m\u001b[0m\u001b[0m\n",
            "\u001b[0;32m/usr/local/lib/python3.10/dist-packages/matplotlib/axes/_base.py\u001b[0m in \u001b[0;36mdraw\u001b[0;34m(self, renderer)\u001b[0m\n\u001b[1;32m   3062\u001b[0m             \u001b[0m_draw_rasterized\u001b[0m\u001b[0;34m(\u001b[0m\u001b[0mself\u001b[0m\u001b[0;34m.\u001b[0m\u001b[0mfigure\u001b[0m\u001b[0;34m,\u001b[0m \u001b[0martists_rasterized\u001b[0m\u001b[0;34m,\u001b[0m \u001b[0mrenderer\u001b[0m\u001b[0;34m)\u001b[0m\u001b[0;34m\u001b[0m\u001b[0;34m\u001b[0m\u001b[0m\n\u001b[1;32m   3063\u001b[0m \u001b[0;34m\u001b[0m\u001b[0m\n\u001b[0;32m-> 3064\u001b[0;31m         mimage._draw_list_compositing_images(\n\u001b[0m\u001b[1;32m   3065\u001b[0m             renderer, self, artists, self.figure.suppressComposite)\n\u001b[1;32m   3066\u001b[0m \u001b[0;34m\u001b[0m\u001b[0m\n",
            "\u001b[0;32m/usr/local/lib/python3.10/dist-packages/matplotlib/image.py\u001b[0m in \u001b[0;36m_draw_list_compositing_images\u001b[0;34m(renderer, parent, artists, suppress_composite)\u001b[0m\n\u001b[1;32m    129\u001b[0m     \u001b[0;32mif\u001b[0m \u001b[0mnot_composite\u001b[0m \u001b[0;32mor\u001b[0m \u001b[0;32mnot\u001b[0m \u001b[0mhas_images\u001b[0m\u001b[0;34m:\u001b[0m\u001b[0;34m\u001b[0m\u001b[0;34m\u001b[0m\u001b[0m\n\u001b[1;32m    130\u001b[0m         \u001b[0;32mfor\u001b[0m \u001b[0ma\u001b[0m \u001b[0;32min\u001b[0m \u001b[0martists\u001b[0m\u001b[0;34m:\u001b[0m\u001b[0;34m\u001b[0m\u001b[0;34m\u001b[0m\u001b[0m\n\u001b[0;32m--> 131\u001b[0;31m             \u001b[0ma\u001b[0m\u001b[0;34m.\u001b[0m\u001b[0mdraw\u001b[0m\u001b[0;34m(\u001b[0m\u001b[0mrenderer\u001b[0m\u001b[0;34m)\u001b[0m\u001b[0;34m\u001b[0m\u001b[0;34m\u001b[0m\u001b[0m\n\u001b[0m\u001b[1;32m    132\u001b[0m     \u001b[0;32melse\u001b[0m\u001b[0;34m:\u001b[0m\u001b[0;34m\u001b[0m\u001b[0;34m\u001b[0m\u001b[0m\n\u001b[1;32m    133\u001b[0m         \u001b[0;31m# Composite any adjacent images together\u001b[0m\u001b[0;34m\u001b[0m\u001b[0;34m\u001b[0m\u001b[0m\n",
            "\u001b[0;32m/usr/local/lib/python3.10/dist-packages/matplotlib/artist.py\u001b[0m in \u001b[0;36mdraw_wrapper\u001b[0;34m(artist, renderer)\u001b[0m\n\u001b[1;32m     70\u001b[0m                 \u001b[0mrenderer\u001b[0m\u001b[0;34m.\u001b[0m\u001b[0mstart_filter\u001b[0m\u001b[0;34m(\u001b[0m\u001b[0;34m)\u001b[0m\u001b[0;34m\u001b[0m\u001b[0;34m\u001b[0m\u001b[0m\n\u001b[1;32m     71\u001b[0m \u001b[0;34m\u001b[0m\u001b[0m\n\u001b[0;32m---> 72\u001b[0;31m             \u001b[0;32mreturn\u001b[0m \u001b[0mdraw\u001b[0m\u001b[0;34m(\u001b[0m\u001b[0martist\u001b[0m\u001b[0;34m,\u001b[0m \u001b[0mrenderer\u001b[0m\u001b[0;34m)\u001b[0m\u001b[0;34m\u001b[0m\u001b[0;34m\u001b[0m\u001b[0m\n\u001b[0m\u001b[1;32m     73\u001b[0m         \u001b[0;32mfinally\u001b[0m\u001b[0;34m:\u001b[0m\u001b[0;34m\u001b[0m\u001b[0;34m\u001b[0m\u001b[0m\n\u001b[1;32m     74\u001b[0m             \u001b[0;32mif\u001b[0m \u001b[0martist\u001b[0m\u001b[0;34m.\u001b[0m\u001b[0mget_agg_filter\u001b[0m\u001b[0;34m(\u001b[0m\u001b[0;34m)\u001b[0m \u001b[0;32mis\u001b[0m \u001b[0;32mnot\u001b[0m \u001b[0;32mNone\u001b[0m\u001b[0;34m:\u001b[0m\u001b[0;34m\u001b[0m\u001b[0;34m\u001b[0m\u001b[0m\n",
            "\u001b[0;32m/usr/local/lib/python3.10/dist-packages/matplotlib/image.py\u001b[0m in \u001b[0;36mdraw\u001b[0;34m(self, renderer, *args, **kwargs)\u001b[0m\n\u001b[1;32m    639\u001b[0m                 \u001b[0mrenderer\u001b[0m\u001b[0;34m.\u001b[0m\u001b[0mdraw_image\u001b[0m\u001b[0;34m(\u001b[0m\u001b[0mgc\u001b[0m\u001b[0;34m,\u001b[0m \u001b[0ml\u001b[0m\u001b[0;34m,\u001b[0m \u001b[0mb\u001b[0m\u001b[0;34m,\u001b[0m \u001b[0mim\u001b[0m\u001b[0;34m,\u001b[0m \u001b[0mtrans\u001b[0m\u001b[0;34m)\u001b[0m\u001b[0;34m\u001b[0m\u001b[0;34m\u001b[0m\u001b[0m\n\u001b[1;32m    640\u001b[0m         \u001b[0;32melse\u001b[0m\u001b[0;34m:\u001b[0m\u001b[0;34m\u001b[0m\u001b[0;34m\u001b[0m\u001b[0m\n\u001b[0;32m--> 641\u001b[0;31m             im, l, b, trans = self.make_image(\n\u001b[0m\u001b[1;32m    642\u001b[0m                 renderer, renderer.get_image_magnification())\n\u001b[1;32m    643\u001b[0m             \u001b[0;32mif\u001b[0m \u001b[0mim\u001b[0m \u001b[0;32mis\u001b[0m \u001b[0;32mnot\u001b[0m \u001b[0;32mNone\u001b[0m\u001b[0;34m:\u001b[0m\u001b[0;34m\u001b[0m\u001b[0;34m\u001b[0m\u001b[0m\n",
            "\u001b[0;32m/usr/local/lib/python3.10/dist-packages/matplotlib/image.py\u001b[0m in \u001b[0;36mmake_image\u001b[0;34m(self, renderer, magnification, unsampled)\u001b[0m\n\u001b[1;32m    947\u001b[0m         clip = ((self.get_clip_box() or self.axes.bbox) if self.get_clip_on()\n\u001b[1;32m    948\u001b[0m                 else self.figure.bbox)\n\u001b[0;32m--> 949\u001b[0;31m         return self._make_image(self._A, bbox, transformed_bbox, clip,\n\u001b[0m\u001b[1;32m    950\u001b[0m                                 magnification, unsampled=unsampled)\n\u001b[1;32m    951\u001b[0m \u001b[0;34m\u001b[0m\u001b[0m\n",
            "\u001b[0;32m/usr/local/lib/python3.10/dist-packages/matplotlib/image.py\u001b[0m in \u001b[0;36m_make_image\u001b[0;34m(self, A, in_bbox, out_bbox, clip_bbox, magnification, unsampled, round_to_pixel_border)\u001b[0m\n\u001b[1;32m    554\u001b[0m                     self, A[..., 3], out_shape, t, alpha=alpha)\n\u001b[1;32m    555\u001b[0m                 output = _resample(  # resample rgb channels\n\u001b[0;32m--> 556\u001b[0;31m                     self, _rgb_to_rgba(A[..., :3]), out_shape, t, alpha=alpha)\n\u001b[0m\u001b[1;32m    557\u001b[0m                 \u001b[0moutput\u001b[0m\u001b[0;34m[\u001b[0m\u001b[0;34m...\u001b[0m\u001b[0;34m,\u001b[0m \u001b[0;36m3\u001b[0m\u001b[0;34m]\u001b[0m \u001b[0;34m=\u001b[0m \u001b[0moutput_alpha\u001b[0m  \u001b[0;31m# recombine rgb and alpha\u001b[0m\u001b[0;34m\u001b[0m\u001b[0;34m\u001b[0m\u001b[0m\n\u001b[1;32m    558\u001b[0m \u001b[0;34m\u001b[0m\u001b[0m\n",
            "\u001b[0;31mKeyboardInterrupt\u001b[0m: "
          ]
        },
        {
          "output_type": "display_data",
          "data": {
            "text/plain": [
              "<Figure size 640x480 with 1 Axes>"
            ],
            "image/png": "[encoded data removed]"
          },
          "metadata": {}
        }
      ]
    },
    {
      "cell_type": "markdown",
      "source": [
        "После обучения корабль стал приземляться более удачно"
      ],
      "metadata": {
        "id": "kr_rWMVrJdcc"
      }
    },
    {
      "cell_type": "code",
      "source": [
        "print(\"mean reward:\", sum(total_reward_episode)/n_episode)\n",
        "print(\"max reward:\", max(total_reward_episode))\n",
        "print(\"min reward:\", min(total_reward_episode))\n",
        "\n"
      ],
      "metadata": {
        "colab": {
          "base_uri": "https://localhost:8080/"
        },
        "id": "B91FYgbMJxnk",
        "outputId": "5581c42c-1864-48a6-e101-d9354751c7c5"
      },
      "execution_count": null,
      "outputs": [
        {
          "output_type": "stream",
          "name": "stdout",
          "text": [
            "mean reward: -178.34880781064462\n",
            "max reward: 59.136176739870734\n",
            "min reward: -612.1870761932041\n"
          ]
        }
      ]
    },
    {
      "cell_type": "code",
      "source": [],
      "metadata": {
        "id": "zLRDjiZgLUg0"
      },
      "execution_count": null,
      "outputs": []
    },
    {
      "cell_type": "markdown",
      "source": [
        "#**Реализация алгоритма Актор-Критик**"
      ],
      "metadata": {
        "id": "dcY0HHRV2I9D"
      }
    },
    {
      "cell_type": "code",
      "source": [
        "class ActorCriticModel(nn.Module):\n",
        "\n",
        "  def __init__(self, n_input, n_output, n_hidden):\n",
        "\n",
        "    super(ActorCriticModel, self).__init__()\n",
        "    self.fc = nn.Linear(n_input, n_hidden)\n",
        "    self.action = nn.Linear(n_hidden, n_output)\n",
        "    self.value = nn.Linear(n_hidden, 1)\n",
        "\n",
        "  def forward(self, x):\n",
        "\n",
        "    x = torch.Tensor(x)\n",
        "    x = F.relu(self.fc(x))\n",
        "    action_probs = F.softmax(self.action(x), dim=-1)\n",
        "    state_value = self.value(x)\n",
        "    return action_probs, state_value\n",
        "\n"
      ],
      "metadata": {
        "id": "e6rcm_p22YmT"
      },
      "execution_count": null,
      "outputs": []
    },
    {
      "cell_type": "code",
      "source": [
        "class PolicyNetwork():\n",
        "\n",
        "  def __init__(self, n_state, n_action, n_hidden=50, lr=0.001):\n",
        "\n",
        "    self. model = ActorCriticModel(n_state, n_action, n_hidden)\n",
        "    self.optimizer = torch.optim.Adam(self.model.parameters(), lr)\n",
        "    self.scheduler = torch.optim.lr_scheduler.StepLR(self.optimizer, step_size=10, gamma=0.9)\n",
        "\n",
        "  def predict(self, s):\n",
        "\n",
        "    return self. model(torch.Tensor(s))\n",
        "\n",
        "  def update(self, returns, log_probs, state_values):\n",
        "\n",
        "    loss = 0\n",
        "    for log_prob, value, Gt in zip(log_probs, state_values, returns):\n",
        "\n",
        "      advantage = Gt - value.item()\n",
        "      policy_loss = -log_prob * advantage\n",
        "      value_loss = F.smooth_l1_loss(value, Gt)\n",
        "      loss += policy_loss + value_loss\n",
        "\n",
        "    self.optimizer.zero_grad()\n",
        "    loss.backward()\n",
        "    self.optimizer.step()\n",
        "\n",
        "  def get_action(self, s):\n",
        "\n",
        "    action_probs, state_value = self.predict(s)\n",
        "    action = torch.multinomial(action_probs, 1).item()\n",
        "    log_prob = torch.log(action_probs[action])\n",
        "    return action, log_prob, state_value\n",
        "\n",
        "  def get_state_value(self, s):\n",
        "\n",
        "    _, state_value = self.predict(s)\n",
        "    return state_value"
      ],
      "metadata": {
        "id": "wDRTia304fm5"
      },
      "execution_count": null,
      "outputs": []
    },
    {
      "cell_type": "code",
      "source": [
        "def actor_critic(env, estimator, n_episode, gamma=1.0):\n",
        "\n",
        "  for episode in range(n_episode):\n",
        "    log_probs=[]\n",
        "    rewards = []\n",
        "    state_values = []\n",
        "\n",
        "    state = env.reset()\n",
        "    while True:\n",
        "      action, log_prob, state_value = estimator.get_action(state)\n",
        "      next_state, reward, is_done, _ = env.step(action)\n",
        "      total_reward_episode[episode] += reward\n",
        "      log_probs.append(log_prob)\n",
        "      rewards.append(reward)\n",
        "      state_values.append(state_value)\n",
        "\n",
        "      if is_done:\n",
        "        returns = []\n",
        "        Gt = 0\n",
        "        pw = 0\n",
        "        for reward in rewards[::-1]:\n",
        "          Gt += gamma ** pw * reward\n",
        "          pw += 1\n",
        "          returns.append(Gt)\n",
        "\n",
        "        returns = returns[::-1]\n",
        "        returns = torch.tensor(returns)\n",
        "        returns = (returns - returns.mean()) / (returns.std() + 1e-9)\n",
        "\n",
        "        estimator.update(returns, log_probs, state_values)\n",
        "        if total_reward_episode[episode] >= 195:\n",
        "          estimator.scheduler.step()\n",
        "        break\n",
        "\n",
        "      state = next_state"
      ],
      "metadata": {
        "id": "Iqrr1fXp4hpD"
      },
      "execution_count": null,
      "outputs": []
    },
    {
      "cell_type": "markdown",
      "source": [
        "##**Реализация для среды CartPole-vo (по полным траекториям)**"
      ],
      "metadata": {
        "id": "zkw3rBSe2Orj"
      }
    },
    {
      "cell_type": "code",
      "source": [
        "env = gym.envs.make('CartPole-v0')"
      ],
      "metadata": {
        "id": "yMHuHohH2Y8r"
      },
      "execution_count": null,
      "outputs": []
    },
    {
      "cell_type": "code",
      "source": [
        "n_state = env.observation_space.shape[0]\n",
        "n_action = env.action_space.n\n",
        "n_hidden = 128\n",
        "lr = 0.03\n",
        "policy_net = PolicyNetwork(n_state, n_action, n_hidden, lr)"
      ],
      "metadata": {
        "id": "K2fg-uBi4p_x"
      },
      "execution_count": null,
      "outputs": []
    },
    {
      "cell_type": "code",
      "source": [
        "n_episode = 1000\n",
        "gamma = 0.9\n",
        "total_reward_episode = [0] * n_episode"
      ],
      "metadata": {
        "id": "AvocJmJD5IiI"
      },
      "execution_count": null,
      "outputs": []
    },
    {
      "cell_type": "code",
      "source": [
        "actor_critic(env, policy_net, n_episode, gamma)"
      ],
      "metadata": {
        "id": "E9VQV3fW5Ifw"
      },
      "execution_count": null,
      "outputs": []
    },
    {
      "cell_type": "code",
      "source": [
        "plt.plot(total_reward_episode)\n",
        "plt.title('Зависимость вознаграждения в эпизоде от времени')\n",
        "plt.xlabel('Эпизод')\n",
        "plt.ylabel('Полное вознаграждение')\n",
        "plt.show()"
      ],
      "metadata": {
        "colab": {
          "base_uri": "https://localhost:8080/",
          "height": 472
        },
        "id": "YrOlRXMk5IdQ",
        "outputId": "df366309-4720-4528-8364-97725ef74b13"
      },
      "execution_count": null,
      "outputs": [
        {
          "output_type": "display_data",
          "data": {
            "text/plain": [
              "<Figure size 640x480 with 1 Axes>"
            ],
            "image/png": "[encoded data removed]"
          },
          "metadata": {}
        }
      ]
    },
    {
      "cell_type": "code",
      "source": [],
      "metadata": {
        "id": "EJe0NrwH5Ia4"
      },
      "execution_count": null,
      "outputs": []
    },
    {
      "cell_type": "code",
      "source": [],
      "metadata": {
        "id": "of8XhoTy5IYg"
      },
      "execution_count": null,
      "outputs": []
    },
    {
      "cell_type": "markdown",
      "source": [
        "## **Реализация для среды CartPole-v0 с одношаговым бутстрэппингом**"
      ],
      "metadata": {
        "id": "jc4SlXgi2Oo7"
      }
    },
    {
      "cell_type": "code",
      "source": [
        "def actor_critic(env, estimator, n_episode, gamma=1.0):\n",
        "\n",
        "  for episode in range(n_episode):\n",
        "    log_probs=[]\n",
        "    rewards = []\n",
        "    state_values = []\n",
        "\n",
        "    state = env.reset()\n",
        "    while True:\n",
        "      action, log_prob, state_value = estimator.get_action(state)\n",
        "      next_state, reward, is_done, _ = env.step(action)\n",
        "      total_reward_episode[episode] += reward\n",
        "      log_probs.append(log_prob)\n",
        "      rewards.append(reward)\n",
        "      state_values.append(state_value)\n",
        "\n",
        "      if is_done:\n",
        "        next_state_value = estimator.get_state_value(next_state)\n",
        "        returns = []\n",
        "\n",
        "        Gt = reward + gamma * next_state_value\n",
        "\n",
        "        returns.append(Gt)\n",
        "\n",
        "        returns = torch.tensor(returns)\n",
        "        returns = (torch.tensor(returns) - torch.tensor(next_state_value))\n",
        "\n",
        "        estimator.update(returns, log_probs, state_values)\n",
        "        if total_reward_episode[episode] >= 195:\n",
        "          estimator.scheduler.step()\n",
        "        break\n",
        "\n",
        "      state = next_state"
      ],
      "metadata": {
        "id": "Zj62PHOq2Z2j"
      },
      "execution_count": null,
      "outputs": []
    },
    {
      "cell_type": "code",
      "source": [
        "env = gym.envs.make('CartPole-v0')\n",
        "n_state = env.observation_space.shape[0]\n",
        "n_action = env.action_space.n\n",
        "n_hidden = 128\n",
        "lr = 0.03\n",
        "policy_net = PolicyNetwork(n_state, n_action, n_hidden, lr)\n",
        "n_episode = 1000\n",
        "gamma = 0.9\n",
        "total_reward_episode = [0] * n_episode"
      ],
      "metadata": {
        "id": "G6qXksV59JT0"
      },
      "execution_count": null,
      "outputs": []
    },
    {
      "cell_type": "code",
      "source": [
        "actor_critic(env, policy_net, n_episode, gamma)"
      ],
      "metadata": {
        "id": "Riq2DUwV9ONs"
      },
      "execution_count": null,
      "outputs": []
    },
    {
      "cell_type": "code",
      "source": [
        "plt.plot(total_reward_episode)\n",
        "plt.title('Зависимость вознаграждения в эпизоде от времени')\n",
        "plt.xlabel('Эпизод')\n",
        "plt.ylabel('Полное вознаграждение')\n",
        "plt.show()"
      ],
      "metadata": {
        "colab": {
          "base_uri": "https://localhost:8080/",
          "height": 472
        },
        "id": "I2PjFG0A9Pp0",
        "outputId": "2da5ec89-764d-462a-bada-3942c08fe3fe"
      },
      "execution_count": null,
      "outputs": [
        {
          "output_type": "display_data",
          "data": {
            "text/plain": [
              "<Figure size 640x480 with 1 Axes>"
            ],
            "image/png": "[encoded data removed]"
          },
          "metadata": {}
        }
      ]
    },
    {
      "cell_type": "markdown",
      "source": [
        "## **Реализация для среды Lunar Lander (по полным траекториям**)"
      ],
      "metadata": {
        "id": "QsFAOoNQ2OmL"
      }
    },
    {
      "cell_type": "markdown",
      "source": [
        "## **Реализация для среды Lunar Lander c одношаговым бутстрэппингом**"
      ],
      "metadata": {
        "id": "21lmfyyq2Ofz"
      }
    },
    {
      "cell_type": "code",
      "source": [],
      "metadata": {
        "id": "2ecAvhfr2L_r"
      },
      "execution_count": null,
      "outputs": []
    },
    {
      "cell_type": "markdown",
      "source": [
        "# Тесты"
      ],
      "metadata": {
        "id": "776HdAy0Pg0P"
      }
    },
    {
      "cell_type": "markdown",
      "source": [
        "Вопросы Зайцев:\n",
        "\n",
        "\n",
        "В чем отличие контекстуальных бандитов от многоруких?\n",
        "1. добавляется состояние*\n",
        "2. нет агента\n",
        "3. контекстуальные бандиты используют меньше данных\n",
        "4. многорукие бандиты используют контекст для принятия решений\n",
        "\n",
        "Из каких объектов может быть представлена задача RL?\n",
        "1. оценщик\n",
        "2. агент*\n",
        "3. модель\n",
        "4. среда*"
      ],
      "metadata": {
        "id": "8XzZsdyEPiHj"
      }
    },
    {
      "cell_type": "markdown",
      "source": [
        "Вопросы Пикалов:\n",
        "\n",
        "\n",
        "с какой вероятностью выбирается действие в epsilon-жадной стратегии?\n",
        "1. 1-eps + eps/A     *\n",
        "2. eps/A\n",
        "3. 1/eps\n",
        "4. A-eps\n",
        "\n",
        "\n",
        "\n",
        "\n",
        "Две основные категории управления методом Монте-Карло:\n",
        "1. Методы с единой стратегией (on-policy)       *\n",
        "2. Методы с разделенной стратегией (off-policy) *\n",
        "3. Методы целевой стратегии (target policy)\n",
        "4. Методы поведенческой стратегии (behaviour policy)"
      ],
      "metadata": {
        "id": "QVuEhRC5Pj9N"
      }
    },
    {
      "cell_type": "markdown",
      "source": [
        "# Алгоритм PPO"
      ],
      "metadata": {
        "id": "PpyQ8Gg5Kb-N"
      }
    },
    {
      "cell_type": "code",
      "source": [
        "import os\n",
        "import numpy as np\n",
        "import torch as T\n",
        "import torch.nn as nn\n",
        "import torch.optim as optim\n",
        "from torch.distributions.categorical import Categorical"
      ],
      "metadata": {
        "id": "XBwIiq7kKoQW"
      },
      "execution_count": null,
      "outputs": []
    },
    {
      "cell_type": "code",
      "source": [
        "class PPOMemory:\n",
        "    def __init__(self, batch_size):\n",
        "        self.states = []\n",
        "        self.probs = []\n",
        "        self.vals = []\n",
        "        self.actions = []\n",
        "        self.rewards = []\n",
        "        self.dones = []\n",
        "\n",
        "        self.batch_size = batch_size\n",
        "\n",
        "    def generate_batches(self):\n",
        "        n_states = len(self.states)\n",
        "        batch_start = np.arange(0, n_states, self.batch_size)\n",
        "        indices = np.arange(n_states, dtype=np.int64)\n",
        "        np.random.shuffle(indices)\n",
        "        batches = [indices[i:i+self.batch_size] for i in batch_start]\n",
        "\n",
        "        return np.array(self.states),\\\n",
        "                np.array(self.actions),\\\n",
        "                np.array(self.probs),\\\n",
        "                np.array(self.vals),\\\n",
        "                np.array(self.rewards),\\\n",
        "                np.array(self.dones),\\\n",
        "                batches\n",
        "\n",
        "    def store_memory(self, state, action, probs, vals, reward, done):\n",
        "        self.states.append(state)\n",
        "        self.actions.append(action)\n",
        "        self.probs.append(probs)\n",
        "        self.vals.append(vals)\n",
        "        self.rewards.append(reward)\n",
        "        self.dones.append(done)\n",
        "\n",
        "    def clear_memory(self):\n",
        "        self.states = []\n",
        "        self.probs = []\n",
        "        self.actions = []\n",
        "        self.rewards = []\n",
        "        self.dones = []\n",
        "        self.vals = []"
      ],
      "metadata": {
        "id": "WZdJXaSSKpuu"
      },
      "execution_count": null,
      "outputs": []
    },
    {
      "cell_type": "code",
      "source": [
        "class ActorNetwork(nn.Module):\n",
        "    def __init__(self, n_actions, input_dims, alpha,\n",
        "            fc1_dims=256, fc2_dims=256, chkpt_dir='sample_data'):\n",
        "        super(ActorNetwork, self).__init__()\n",
        "\n",
        "        self.checkpoint_file = os.path.join(chkpt_dir, 'sample_data')\n",
        "        self.actor = nn.Sequential(\n",
        "                nn.Linear(*input_dims, fc1_dims),\n",
        "                nn.ReLU(),\n",
        "                nn.Linear(fc1_dims, fc2_dims),\n",
        "                nn.ReLU(),\n",
        "                nn.Linear(fc2_dims, n_actions),\n",
        "                nn.Softmax(dim=-1)\n",
        "        )\n",
        "\n",
        "        self.optimizer = optim.Adam(self.parameters(), lr=alpha)\n",
        "        self.device = T.device('cuda:0' if T.cuda.is_available() else 'cpu')\n",
        "        self.to(self.device)\n",
        "\n",
        "    def forward(self, state):\n",
        "        dist = self.actor(state)\n",
        "        dist = Categorical(dist)\n",
        "\n",
        "        return dist\n",
        "\n",
        "    def save_checkpoint(self):\n",
        "        T.save(self.state_dict(), self.checkpoint_file)\n",
        "\n",
        "    def load_checkpoint(self):\n",
        "        self.load_state_dict(T.load(self.checkpoint_file))"
      ],
      "metadata": {
        "id": "fZ1bhpZyK8KH"
      },
      "execution_count": null,
      "outputs": []
    },
    {
      "cell_type": "code",
      "source": [
        "class CriticNetwork(nn.Module):\n",
        "    def __init__(self, input_dims, alpha, fc1_dims=256, fc2_dims=256,\n",
        "            chkpt_dir='sample_data'):\n",
        "        super(CriticNetwork, self).__init__()\n",
        "\n",
        "        self.checkpoint_file = os.path.join(chkpt_dir, 'sample_data')\n",
        "        self.critic = nn.Sequential(\n",
        "                nn.Linear(*input_dims, fc1_dims),\n",
        "                nn.ReLU(),\n",
        "                nn.Linear(fc1_dims, fc2_dims),\n",
        "                nn.ReLU(),\n",
        "                nn.Linear(fc2_dims, 1)\n",
        "        )\n",
        "\n",
        "        self.optimizer = optim.Adam(self.parameters(), lr=alpha)\n",
        "        self.device = T.device('cuda:0' if T.cuda.is_available() else 'cpu')\n",
        "        self.to(self.device)\n",
        "\n",
        "    def forward(self, state):\n",
        "        value = self.critic(state)\n",
        "\n",
        "        return value\n",
        "\n",
        "    def save_checkpoint(self):\n",
        "        T.save(self.state_dict(), self.checkpoint_file)\n",
        "\n",
        "    def load_checkpoint(self):\n",
        "        self.load_state_dict(T.load(self.checkpoint_file))"
      ],
      "metadata": {
        "id": "0KPGbFZxK_Im"
      },
      "execution_count": null,
      "outputs": []
    },
    {
      "cell_type": "code",
      "source": [],
      "metadata": {
        "id": "vTK47xuULB4e"
      },
      "execution_count": null,
      "outputs": []
    },
    {
      "cell_type": "code",
      "source": [
        "class Agent:\n",
        "    def __init__(self, n_actions, input_dims, gamma=0.99, alpha=0.0003, gae_lambda=0.95,\n",
        "            policy_clip=0.2, batch_size=64, n_epochs=10):\n",
        "        self.gamma = gamma\n",
        "        self.policy_clip = policy_clip\n",
        "        self.n_epochs = n_epochs\n",
        "        self.gae_lambda = gae_lambda\n",
        "\n",
        "        self.actor = ActorNetwork(n_actions, input_dims, alpha)\n",
        "        self.critic = CriticNetwork(input_dims, alpha)\n",
        "        self.memory = PPOMemory(batch_size)\n",
        "\n",
        "    def remember(self, state, action, probs, vals, reward, done):\n",
        "        self.memory.store_memory(state, action, probs, vals, reward, done)\n",
        "\n",
        "    def save_models(self):\n",
        "        print('... saving models ...')\n",
        "        self.actor.save_checkpoint()\n",
        "        self.critic.save_checkpoint()\n",
        "\n",
        "    def load_models(self):\n",
        "        print('... loading models ...')\n",
        "        self.actor.load_checkpoint()\n",
        "        self.critic.load_checkpoint()\n",
        "\n",
        "    def choose_action(self, observation):\n",
        "        state = T.tensor([observation], dtype=T.float).to(self.actor.device)\n",
        "\n",
        "        dist = self.actor(state)\n",
        "        value = self.critic(state)\n",
        "        action = dist.sample()\n",
        "\n",
        "        probs = T.squeeze(dist.log_prob(action)).item()\n",
        "        action = T.squeeze(action).item()\n",
        "        value = T.squeeze(value).item()\n",
        "\n",
        "        return action, probs, value\n",
        "\n",
        "    def learn(self):\n",
        "        for _ in range(self.n_epochs):\n",
        "            state_arr, action_arr, old_prob_arr, vals_arr,\\\n",
        "            reward_arr, dones_arr, batches = \\\n",
        "                    self.memory.generate_batches()\n",
        "\n",
        "            values = vals_arr\n",
        "            advantage = np.zeros(len(reward_arr), dtype=np.float32)\n",
        "\n",
        "            for t in range(len(reward_arr)-1):\n",
        "                discount = 1\n",
        "                a_t = 0\n",
        "                for k in range(t, len(reward_arr)-1):\n",
        "                    a_t += discount*(reward_arr[k] + self.gamma*values[k+1]*\\\n",
        "                            (1-int(dones_arr[k])) - values[k])\n",
        "                    discount *= self.gamma*self.gae_lambda\n",
        "                advantage[t] = a_t\n",
        "            advantage = T.tensor(advantage).to(self.actor.device)\n",
        "\n",
        "            values = T.tensor(values).to(self.actor.device)\n",
        "            for batch in batches:\n",
        "                states = T.tensor(state_arr[batch], dtype=T.float).to(self.actor.device)\n",
        "                old_probs = T.tensor(old_prob_arr[batch]).to(self.actor.device)\n",
        "                actions = T.tensor(action_arr[batch]).to(self.actor.device)\n",
        "\n",
        "                dist = self.actor(states)\n",
        "                critic_value = self.critic(states)\n",
        "\n",
        "                critic_value = T.squeeze(critic_value)\n",
        "\n",
        "                new_probs = dist.log_prob(actions)\n",
        "                prob_ratio = new_probs.exp() / old_probs.exp()\n",
        "                #prob_ratio = (new_probs - old_probs).exp()\n",
        "                weighted_probs = advantage[batch] * prob_ratio\n",
        "                weighted_clipped_probs = T.clamp(prob_ratio, 1-self.policy_clip,\n",
        "                        1+self.policy_clip)*advantage[batch]\n",
        "                actor_loss = -T.min(weighted_probs, weighted_clipped_probs).mean()\n",
        "\n",
        "                returns = advantage[batch] + values[batch]\n",
        "                critic_loss = (returns-critic_value)**2\n",
        "                critic_loss = critic_loss.mean()\n",
        "\n",
        "                total_loss = actor_loss + 0.5*critic_loss\n",
        "                self.actor.optimizer.zero_grad()\n",
        "                self.critic.optimizer.zero_grad()\n",
        "                total_loss.backward()\n",
        "                self.actor.optimizer.step()\n",
        "                self.critic.optimizer.step()\n",
        "\n",
        "        self.memory.clear_memory()\n",
        "\n"
      ],
      "metadata": {
        "id": "eiK66WJqKbaW"
      },
      "execution_count": null,
      "outputs": []
    },
    {
      "cell_type": "code",
      "source": [
        "import numpy as np\n",
        "import matplotlib.pyplot as plt\n",
        "\n",
        "def plot_learning_curve(x, scores, figure_file):\n",
        "    running_avg = np.zeros(len(scores))\n",
        "    for i in range(len(running_avg)):\n",
        "        running_avg[i] = np.mean(scores[max(0, i-100):(i+1)])\n",
        "    plt.plot(x, running_avg)\n",
        "    plt.title('Running average of previous 100 scores')\n",
        "    plt.savefig(figure_file)"
      ],
      "metadata": {
        "id": "TzxynnnpN-vu"
      },
      "execution_count": null,
      "outputs": []
    },
    {
      "cell_type": "code",
      "source": [
        "import gym\n",
        "import numpy as np\n",
        "\n",
        "if __name__ == '__main__':\n",
        "    env = gym.make('CartPole-v1')\n",
        "    N = 20\n",
        "    batch_size = 5\n",
        "    n_epochs = 4\n",
        "    alpha = 0.0003\n",
        "    agent = Agent(n_actions=env.action_space.n, batch_size=batch_size,\n",
        "                    alpha=alpha, n_epochs=n_epochs,\n",
        "                    input_dims=env.observation_space.shape)\n",
        "    n_games = 50\n",
        "\n",
        "    figure_file = '/content/cartpole.png'\n",
        "\n",
        "    best_score = env.reward_range[0]\n",
        "    score_history = []\n",
        "\n",
        "    learn_iters = 0\n",
        "    avg_score = 0\n",
        "    n_steps = 0\n",
        "\n",
        "    for i in range(n_games):\n",
        "        observation = env.reset()\n",
        "        done = False\n",
        "        score = 0\n",
        "        while not done:\n",
        "            action, prob, val = agent.choose_action(observation)\n",
        "            observation_, reward, done, info = env.step(action)\n",
        "            n_steps += 1\n",
        "            score += reward\n",
        "            agent.remember(observation, action, prob, val, reward, done)\n",
        "            if n_steps % N == 0:\n",
        "                agent.learn()\n",
        "                learn_iters += 1\n",
        "            observation = observation_\n",
        "        score_history.append(score)\n",
        "        avg_score = np.mean(score_history[-100:])\n",
        "\n",
        "        if avg_score > best_score:\n",
        "            best_score = avg_score\n",
        "            agent.save_models()\n",
        "\n",
        "        print('episode', i, 'score %.1f' % score, 'avg score %.1f' % avg_score,\n",
        "                'time_steps', n_steps, 'learning_steps', learn_iters)\n",
        "    x = [i+1 for i in range(len(score_history))]\n",
        "    plot_learning_curve(x, score_history, figure_file)"
      ],
      "metadata": {
        "colab": {
          "base_uri": "https://localhost:8080/",
          "height": 1000
        },
        "id": "KuwErdaANscT",
        "outputId": "a85bb161-e8b7-4a78-cddd-34c9288c840f"
      },
      "execution_count": null,
      "outputs": [
        {
          "output_type": "stream",
          "name": "stdout",
          "text": [
            "... saving models ...\n",
            "episode 0 score 10.0 avg score 10.0 time_steps 10 learning_steps 0\n",
            "... saving models ...\n",
            "episode 1 score 11.0 avg score 10.5 time_steps 21 learning_steps 1\n",
            "... saving models ...\n",
            "episode 2 score 17.0 avg score 12.7 time_steps 38 learning_steps 1\n",
            "... saving models ...\n",
            "episode 3 score 17.0 avg score 13.8 time_steps 55 learning_steps 2\n",
            "... saving models ...\n",
            "episode 4 score 21.0 avg score 15.2 time_steps 76 learning_steps 3\n",
            "... saving models ...\n",
            "episode 5 score 24.0 avg score 16.7 time_steps 100 learning_steps 5\n",
            "episode 6 score 10.0 avg score 15.7 time_steps 110 learning_steps 5\n",
            "episode 7 score 14.0 avg score 15.5 time_steps 124 learning_steps 6\n",
            "episode 8 score 12.0 avg score 15.1 time_steps 136 learning_steps 6\n",
            "episode 9 score 10.0 avg score 14.6 time_steps 146 learning_steps 7\n",
            "episode 10 score 9.0 avg score 14.1 time_steps 155 learning_steps 7\n",
            "episode 11 score 11.0 avg score 13.8 time_steps 166 learning_steps 8\n",
            "episode 12 score 8.0 avg score 13.4 time_steps 174 learning_steps 8\n",
            "episode 13 score 8.0 avg score 13.0 time_steps 182 learning_steps 9\n",
            "episode 14 score 10.0 avg score 12.8 time_steps 192 learning_steps 9\n",
            "episode 15 score 8.0 avg score 12.5 time_steps 200 learning_steps 10\n",
            "episode 16 score 10.0 avg score 12.4 time_steps 210 learning_steps 10\n",
            "episode 17 score 10.0 avg score 12.2 time_steps 220 learning_steps 11\n",
            "episode 18 score 9.0 avg score 12.1 time_steps 229 learning_steps 11\n",
            "episode 19 score 10.0 avg score 11.9 time_steps 239 learning_steps 11\n",
            "episode 20 score 10.0 avg score 11.9 time_steps 249 learning_steps 12\n",
            "episode 21 score 11.0 avg score 11.8 time_steps 260 learning_steps 13\n",
            "episode 22 score 9.0 avg score 11.7 time_steps 269 learning_steps 13\n",
            "episode 23 score 14.0 avg score 11.8 time_steps 283 learning_steps 14\n",
            "episode 24 score 10.0 avg score 11.7 time_steps 293 learning_steps 14\n",
            "episode 25 score 16.0 avg score 11.9 time_steps 309 learning_steps 15\n",
            "episode 26 score 12.0 avg score 11.9 time_steps 321 learning_steps 16\n",
            "episode 27 score 15.0 avg score 12.0 time_steps 336 learning_steps 16\n",
            "episode 28 score 10.0 avg score 11.9 time_steps 346 learning_steps 17\n",
            "episode 29 score 12.0 avg score 11.9 time_steps 358 learning_steps 17\n",
            "episode 30 score 11.0 avg score 11.9 time_steps 369 learning_steps 18\n",
            "episode 31 score 11.0 avg score 11.9 time_steps 380 learning_steps 19\n",
            "episode 32 score 9.0 avg score 11.8 time_steps 389 learning_steps 19\n",
            "episode 33 score 10.0 avg score 11.7 time_steps 399 learning_steps 19\n",
            "episode 34 score 12.0 avg score 11.7 time_steps 411 learning_steps 20\n",
            "episode 35 score 11.0 avg score 11.7 time_steps 422 learning_steps 21\n",
            "episode 36 score 26.0 avg score 12.1 time_steps 448 learning_steps 22\n",
            "episode 37 score 22.0 avg score 12.4 time_steps 470 learning_steps 23\n",
            "episode 38 score 40.0 avg score 13.1 time_steps 510 learning_steps 25\n",
            "episode 39 score 36.0 avg score 13.7 time_steps 546 learning_steps 27\n",
            "episode 40 score 37.0 avg score 14.2 time_steps 583 learning_steps 29\n",
            "episode 41 score 41.0 avg score 14.9 time_steps 624 learning_steps 31\n",
            "episode 42 score 50.0 avg score 15.7 time_steps 674 learning_steps 33\n",
            "episode 43 score 34.0 avg score 16.1 time_steps 708 learning_steps 35\n",
            "episode 44 score 30.0 avg score 16.4 time_steps 738 learning_steps 36\n",
            "... saving models ...\n",
            "episode 45 score 79.0 avg score 17.8 time_steps 817 learning_steps 40\n",
            "... saving models ...\n",
            "episode 46 score 75.0 avg score 19.0 time_steps 892 learning_steps 44\n",
            "... saving models ...\n",
            "episode 47 score 108.0 avg score 20.8 time_steps 1000 learning_steps 50\n",
            "... saving models ...\n",
            "episode 48 score 32.0 avg score 21.1 time_steps 1032 learning_steps 51\n",
            "... saving models ...\n",
            "episode 49 score 66.0 avg score 22.0 time_steps 1098 learning_steps 54\n"
          ]
        },
        {
          "output_type": "display_data",
          "data": {
            "text/plain": [
              "<Figure size 640x480 with 1 Axes>"
            ],
            "image/png": "[encoded data removed]"
          },
          "metadata": {}
        }
      ]
    },
    {
      "cell_type": "markdown",
      "source": [
        "# Алгоритм DDPG"
      ],
      "metadata": {
        "id": "4Ko6FLpTXkhq"
      }
    },
    {
      "cell_type": "code",
      "source": [
        "!pip install ddpg_torch"
      ],
      "metadata": {
        "colab": {
          "base_uri": "https://localhost:8080/"
        },
        "id": "DbdgEhZUaPqq",
        "outputId": "82a27782-b51b-46cc-cf00-3bd2163be40c"
      },
      "execution_count": null,
      "outputs": [
        {
          "output_type": "stream",
          "name": "stderr",
          "text": [
            "/usr/local/lib/python3.10/dist-packages/ipykernel/ipkernel.py:283: DeprecationWarning: `should_run_async` will not call `transform_cell` automatically in the future. Please pass the result to `transformed_cell` argument and any exception that happen during thetransform in `preprocessing_exc_tuple` in IPython 7.17 and above.\n",
            "  and should_run_async(code)\n"
          ]
        },
        {
          "output_type": "stream",
          "name": "stdout",
          "text": [
            "\u001b[31mERROR: Could not find a version that satisfies the requirement ddpg_torch (from versions: none)\u001b[0m\u001b[31m\n",
            "\u001b[0m\u001b[31mERROR: No matching distribution found for ddpg_torch\u001b[0m\u001b[31m\n",
            "\u001b[0m"
          ]
        }
      ]
    },
    {
      "cell_type": "code",
      "source": [
        "import os\n",
        "import torch as T\n",
        "import torch.nn as nn\n",
        "import torch.nn.functional as F\n",
        "import torch.optim as optim\n",
        "import numpy as np\n",
        "\n",
        "class OUActionNoise(object):\n",
        "    def __init__(self, mu, sigma=0.15, theta=.2, dt=1e-2, x0=None):\n",
        "        self.theta = theta\n",
        "        self.mu = mu\n",
        "        self.sigma = sigma\n",
        "        self.dt = dt\n",
        "        self.x0 = x0\n",
        "        self.reset()\n",
        "\n",
        "    def __call__(self):\n",
        "        x = self.x_prev + self.theta * (self.mu - self.x_prev) * self.dt + \\\n",
        "            self.sigma * np.sqrt(self.dt) * np.random.normal(size=self.mu.shape)\n",
        "        self.x_prev = x\n",
        "        return x\n",
        "\n",
        "    def reset(self):\n",
        "        self.x_prev = self.x0 if self.x0 is not None else np.zeros_like(self.mu)\n",
        "\n",
        "    def __repr__(self):\n",
        "        return 'OrnsteinUhlenbeckActionNoise(mu={}, sigma={})'.format(\n",
        "                                                            self.mu, self.sigma)\n",
        "\n",
        "class ReplayBuffer(object):\n",
        "    def __init__(self, max_size, input_shape, n_actions):\n",
        "        self.mem_size = max_size\n",
        "        self.mem_cntr = 0\n",
        "        self.state_memory = np.zeros((self.mem_size, *input_shape))\n",
        "        self.new_state_memory = np.zeros((self.mem_size, *input_shape))\n",
        "        self.action_memory = np.zeros((self.mem_size, n_actions))\n",
        "        self.reward_memory = np.zeros(self.mem_size)\n",
        "        self.terminal_memory = np.zeros(self.mem_size, dtype=np.float32)\n",
        "\n",
        "    def store_transition(self, state, action, reward, state_, done):\n",
        "        index = self.mem_cntr % self.mem_size\n",
        "        self.state_memory[index] = state\n",
        "        self.new_state_memory[index] = state_\n",
        "        self.action_memory[index] = action\n",
        "        self.reward_memory[index] = reward\n",
        "        self.terminal_memory[index] = 1 - done\n",
        "        self.mem_cntr += 1\n",
        "\n",
        "    def sample_buffer(self, batch_size):\n",
        "        max_mem = min(self.mem_cntr, self.mem_size)\n",
        "\n",
        "        batch = np.random.choice(max_mem, batch_size)\n",
        "\n",
        "        states = self.state_memory[batch]\n",
        "        actions = self.action_memory[batch]\n",
        "        rewards = self.reward_memory[batch]\n",
        "        states_ = self.new_state_memory[batch]\n",
        "        terminal = self.terminal_memory[batch]\n",
        "\n",
        "        return states, actions, rewards, states_, terminal\n",
        "\n",
        "class CriticNetwork(nn.Module):\n",
        "    def __init__(self, beta, input_dims, fc1_dims, fc2_dims, n_actions, name,\n",
        "                 chkpt_dir='sample_data/ddpg'):\n",
        "        super(CriticNetwork, self).__init__()\n",
        "        self.input_dims = input_dims\n",
        "        self.fc1_dims = fc1_dims\n",
        "        self.fc2_dims = fc2_dims\n",
        "        self.n_actions = n_actions\n",
        "        self.checkpoint_file = os.path.join(chkpt_dir,name+'_ddpg')\n",
        "        self.fc1 = nn.Linear(*self.input_dims, self.fc1_dims)\n",
        "        f1 = 1./np.sqrt(self.fc1.weight.data.size()[0])\n",
        "        T.nn.init.uniform_(self.fc1.weight.data, -f1, f1)\n",
        "        T.nn.init.uniform_(self.fc1.bias.data, -f1, f1)\n",
        "        #self.fc1.weight.data.uniform_(-f1, f1)\n",
        "        #self.fc1.bias.data.uniform_(-f1, f1)\n",
        "        self.bn1 = nn.LayerNorm(self.fc1_dims)\n",
        "\n",
        "        self.fc2 = nn.Linear(self.fc1_dims, self.fc2_dims)\n",
        "        f2 = 1./np.sqrt(self.fc2.weight.data.size()[0])\n",
        "        #f2 = 0.002\n",
        "        T.nn.init.uniform_(self.fc2.weight.data, -f2, f2)\n",
        "        T.nn.init.uniform_(self.fc2.bias.data, -f2, f2)\n",
        "        #self.fc2.weight.data.uniform_(-f2, f2)\n",
        "        #self.fc2.bias.data.uniform_(-f2, f2)\n",
        "        self.bn2 = nn.LayerNorm(self.fc2_dims)\n",
        "\n",
        "        self.action_value = nn.Linear(self.n_actions, self.fc2_dims)\n",
        "        f3 = 0.003\n",
        "        self.q = nn.Linear(self.fc2_dims, 1)\n",
        "        T.nn.init.uniform_(self.q.weight.data, -f3, f3)\n",
        "        T.nn.init.uniform_(self.q.bias.data, -f3, f3)\n",
        "        #self.q.weight.data.uniform_(-f3, f3)\n",
        "        #self.q.bias.data.uniform_(-f3, f3)\n",
        "\n",
        "        self.optimizer = optim.Adam(self.parameters(), lr=beta)\n",
        "        self.device = T.device('cuda:0' if T.cuda.is_available() else 'cuda:1')\n",
        "\n",
        "        self.to(self.device)\n",
        "\n",
        "    def forward(self, state, action):\n",
        "        state_value = self.fc1(state)\n",
        "        state_value = self.bn1(state_value)\n",
        "        state_value = F.relu(state_value)\n",
        "        state_value = self.fc2(state_value)\n",
        "        state_value = self.bn2(state_value)\n",
        "\n",
        "        action_value = F.relu(self.action_value(action))\n",
        "        state_action_value = F.relu(T.add(state_value, action_value))\n",
        "        state_action_value = self.q(state_action_value)\n",
        "\n",
        "        return state_action_value\n",
        "\n",
        "    def save_checkpoint(self):\n",
        "        print('... saving checkpoint ...')\n",
        "        T.save(self.state_dict(), self.checkpoint_file)\n",
        "\n",
        "    def load_checkpoint(self):\n",
        "        print('... loading checkpoint ...')\n",
        "        self.load_state_dict(T.load(self.checkpoint_file))\n",
        "\n",
        "class ActorNetwork(nn.Module):\n",
        "    def __init__(self, alpha, input_dims, fc1_dims, fc2_dims, n_actions, name,\n",
        "                 chkpt_dir='sample_data/ddpg'):\n",
        "        super(ActorNetwork, self).__init__()\n",
        "        self.input_dims = input_dims\n",
        "        self.fc1_dims = fc1_dims\n",
        "        self.fc2_dims = fc2_dims\n",
        "        self.n_actions = n_actions\n",
        "        self.checkpoint_file = os.path.join(chkpt_dir,name+'_ddpg')\n",
        "        self.fc1 = nn.Linear(*self.input_dims, self.fc1_dims)\n",
        "        f1 = 1./np.sqrt(self.fc1.weight.data.size()[0])\n",
        "        T.nn.init.uniform_(self.fc1.weight.data, -f1, f1)\n",
        "        T.nn.init.uniform_(self.fc1.bias.data, -f1, f1)\n",
        "        #self.fc1.weight.data.uniform_(-f1, f1)\n",
        "        #self.fc1.bias.data.uniform_(-f1, f1)\n",
        "        self.bn1 = nn.LayerNorm(self.fc1_dims)\n",
        "\n",
        "        self.fc2 = nn.Linear(self.fc1_dims, self.fc2_dims)\n",
        "        #f2 = 0.002\n",
        "        f2 = 1./np.sqrt(self.fc2.weight.data.size()[0])\n",
        "        T.nn.init.uniform_(self.fc2.weight.data, -f2, f2)\n",
        "        T.nn.init.uniform_(self.fc2.bias.data, -f2, f2)\n",
        "        #self.fc2.weight.data.uniform_(-f2, f2)\n",
        "        #self.fc2.bias.data.uniform_(-f2, f2)\n",
        "        self.bn2 = nn.LayerNorm(self.fc2_dims)\n",
        "\n",
        "        #f3 = 0.004\n",
        "        f3 = 0.003\n",
        "        self.mu = nn.Linear(self.fc2_dims, self.n_actions)\n",
        "        T.nn.init.uniform_(self.mu.weight.data, -f3, f3)\n",
        "        T.nn.init.uniform_(self.mu.bias.data, -f3, f3)\n",
        "        #self.mu.weight.data.uniform_(-f3, f3)\n",
        "        #self.mu.bias.data.uniform_(-f3, f3)\n",
        "\n",
        "        self.optimizer = optim.Adam(self.parameters(), lr=alpha)\n",
        "        self.device = T.device('cuda:0' if T.cuda.is_available() else 'cuda:1')\n",
        "\n",
        "        self.to(self.device)\n",
        "\n",
        "    def forward(self, state):\n",
        "        x = self.fc1(state)\n",
        "        x = self.bn1(x)\n",
        "        x = F.relu(x)\n",
        "        x = self.fc2(x)\n",
        "        x = self.bn2(x)\n",
        "        x = F.relu(x)\n",
        "        x = T.tanh(self.mu(x))\n",
        "\n",
        "        return x\n",
        "\n",
        "    def save_checkpoint(self):\n",
        "        print('... saving checkpoint ...')\n",
        "        T.save(self.state_dict(), self.checkpoint_file)\n",
        "\n",
        "    def load_checkpoint(self):\n",
        "        print('... loading checkpoint ...')\n",
        "        self.load_state_dict(T.load(self.checkpoint_file))\n",
        "\n",
        "class Agent(object):\n",
        "    def __init__(self, alpha, beta, input_dims, tau, env, gamma=0.99,\n",
        "                 n_actions=2, max_size=1000000, layer1_size=400,\n",
        "                 layer2_size=300, batch_size=64):\n",
        "        self.gamma = gamma\n",
        "        self.tau = tau\n",
        "        self.memory = ReplayBuffer(max_size, input_dims, n_actions)\n",
        "        self.batch_size = batch_size\n",
        "\n",
        "        self.actor = ActorNetwork(alpha, input_dims, layer1_size,\n",
        "                                  layer2_size, n_actions=n_actions,\n",
        "                                  name='Actor')\n",
        "        self.critic = CriticNetwork(beta, input_dims, layer1_size,\n",
        "                                    layer2_size, n_actions=n_actions,\n",
        "                                    name='Critic')\n",
        "\n",
        "        self.target_actor = ActorNetwork(alpha, input_dims, layer1_size,\n",
        "                                         layer2_size, n_actions=n_actions,\n",
        "                                         name='TargetActor')\n",
        "        self.target_critic = CriticNetwork(beta, input_dims, layer1_size,\n",
        "                                           layer2_size, n_actions=n_actions,\n",
        "                                           name='TargetCritic')\n",
        "\n",
        "        self.noise = OUActionNoise(mu=np.zeros(n_actions))\n",
        "\n",
        "        self.update_network_parameters(tau=1)\n",
        "\n",
        "    def choose_action(self, observation):\n",
        "        self.actor.eval()\n",
        "        observation = T.tensor(observation, dtype=T.float).to(self.actor.device)\n",
        "        mu = self.actor.forward(observation).to(self.actor.device)\n",
        "        mu_prime = mu + T.tensor(self.noise(),\n",
        "                                 dtype=T.float).to(self.actor.device)\n",
        "        self.actor.train()\n",
        "        return mu_prime.cpu().detach().numpy()\n",
        "\n",
        "\n",
        "    def remember(self, state, action, reward, new_state, done):\n",
        "        self.memory.store_transition(state, action, reward, new_state, done)\n",
        "\n",
        "    def learn(self):\n",
        "        if self.memory.mem_cntr < self.batch_size:\n",
        "            return\n",
        "        state, action, reward, new_state, done = \\\n",
        "                                      self.memory.sample_buffer(self.batch_size)\n",
        "\n",
        "        reward = T.tensor(reward, dtype=T.float).to(self.critic.device)\n",
        "        done = T.tensor(done).to(self.critic.device)\n",
        "        new_state = T.tensor(new_state, dtype=T.float).to(self.critic.device)\n",
        "        action = T.tensor(action, dtype=T.float).to(self.critic.device)\n",
        "        state = T.tensor(state, dtype=T.float).to(self.critic.device)\n",
        "\n",
        "        self.target_actor.eval()\n",
        "        self.target_critic.eval()\n",
        "        self.critic.eval()\n",
        "        target_actions = self.target_actor.forward(new_state)\n",
        "        critic_value_ = self.target_critic.forward(new_state, target_actions)\n",
        "        critic_value = self.critic.forward(state, action)\n",
        "\n",
        "        target = []\n",
        "        for j in range(self.batch_size):\n",
        "            target.append(reward[j] + self.gamma*critic_value_[j]*done[j])\n",
        "        target = T.tensor(target).to(self.critic.device)\n",
        "        target = target.view(self.batch_size, 1)\n",
        "\n",
        "        self.critic.train()\n",
        "        self.critic.optimizer.zero_grad()\n",
        "        critic_loss = F.mse_loss(target, critic_value)\n",
        "        critic_loss.backward()\n",
        "        self.critic.optimizer.step()\n",
        "\n",
        "        self.critic.eval()\n",
        "        self.actor.optimizer.zero_grad()\n",
        "        mu = self.actor.forward(state)\n",
        "        self.actor.train()\n",
        "        actor_loss = -self.critic.forward(state, mu)\n",
        "        actor_loss = T.mean(actor_loss)\n",
        "        actor_loss.backward()\n",
        "        self.actor.optimizer.step()\n",
        "\n",
        "        self.update_network_parameters()\n",
        "\n",
        "    def update_network_parameters(self, tau=None):\n",
        "        if tau is None:\n",
        "            tau = self.tau\n",
        "\n",
        "        actor_params = self.actor.named_parameters()\n",
        "        critic_params = self.critic.named_parameters()\n",
        "        target_actor_params = self.target_actor.named_parameters()\n",
        "        target_critic_params = self.target_critic.named_parameters()\n",
        "\n",
        "        critic_state_dict = dict(critic_params)\n",
        "        actor_state_dict = dict(actor_params)\n",
        "        target_critic_dict = dict(target_critic_params)\n",
        "        target_actor_dict = dict(target_actor_params)\n",
        "\n",
        "        for name in critic_state_dict:\n",
        "            critic_state_dict[name] = tau*critic_state_dict[name].clone() + \\\n",
        "                                      (1-tau)*target_critic_dict[name].clone()\n",
        "\n",
        "        self.target_critic.load_state_dict(critic_state_dict)\n",
        "\n",
        "        for name in actor_state_dict:\n",
        "            actor_state_dict[name] = tau*actor_state_dict[name].clone() + \\\n",
        "                                      (1-tau)*target_actor_dict[name].clone()\n",
        "        self.target_actor.load_state_dict(actor_state_dict)\n",
        "\n",
        "        \"\"\"\n",
        "        #Verify that the copy assignment worked correctly\n",
        "        target_actor_params = self.target_actor.named_parameters()\n",
        "        target_critic_params = self.target_critic.named_parameters()\n",
        "\n",
        "        critic_state_dict = dict(target_critic_params)\n",
        "        actor_state_dict = dict(target_actor_params)\n",
        "        print('\\nActor Networks', tau)\n",
        "        for name, param in self.actor.named_parameters():\n",
        "            print(name, T.equal(param, actor_state_dict[name]))\n",
        "        print('\\nCritic Networks', tau)\n",
        "        for name, param in self.critic.named_parameters():\n",
        "            print(name, T.equal(param, critic_state_dict[name]))\n",
        "        input()\n",
        "        \"\"\"\n",
        "    def save_models(self):\n",
        "        self.actor.save_checkpoint()\n",
        "        self.target_actor.save_checkpoint()\n",
        "        self.critic.save_checkpoint()\n",
        "        self.target_critic.save_checkpoint()\n",
        "\n",
        "    def load_models(self):\n",
        "        self.actor.load_checkpoint()\n",
        "        self.target_actor.load_checkpoint()\n",
        "        self.critic.load_checkpoint()\n",
        "        self.target_critic.load_checkpoint()\n",
        "\n",
        "    def check_actor_params(self):\n",
        "        current_actor_params = self.actor.named_parameters()\n",
        "        current_actor_dict = dict(current_actor_params)\n",
        "        original_actor_dict = dict(self.original_actor.named_parameters())\n",
        "        original_critic_dict = dict(self.original_critic.named_parameters())\n",
        "        current_critic_params = self.critic.named_parameters()\n",
        "        current_critic_dict = dict(current_critic_params)\n",
        "        print('Checking Actor parameters')\n",
        "\n",
        "        for param in current_actor_dict:\n",
        "            print(param, T.equal(original_actor_dict[param], current_actor_dict[param]))\n",
        "        print('Checking critic parameters')\n",
        "        for param in current_critic_dict:\n",
        "            print(param, T.equal(original_critic_dict[param], current_critic_dict[param]))\n",
        "        input()"
      ],
      "metadata": {
        "id": "yv8cVDywPA44"
      },
      "execution_count": null,
      "outputs": []
    },
    {
      "cell_type": "code",
      "source": [
        "import matplotlib.pyplot as plt\n",
        "import numpy as np\n",
        "\n",
        "def plotLearning(scores, filename, x=None, window=5):\n",
        "    N = len(scores)\n",
        "    running_avg = np.empty(N)\n",
        "    for t in range(N):\n",
        "\t    running_avg[t] = np.mean(scores[max(0, t-window):(t+1)])\n",
        "    if x is None:\n",
        "        x = [i for i in range(N)]\n",
        "    plt.ylabel('Score')\n",
        "    plt.xlabel('Game')\n",
        "    plt.plot(x, running_avg)\n",
        "    plt.savefig(filename)"
      ],
      "metadata": {
        "id": "aN9uUNCnaijh"
      },
      "execution_count": null,
      "outputs": []
    },
    {
      "cell_type": "code",
      "source": [
        "import gym\n",
        "import numpy as np\n",
        "\n",
        "env = gym.make('LunarLanderContinuous-v2')\n",
        "agent = Agent(alpha=0.000025, beta=0.00025, input_dims=[8], tau=0.001, env=env,\n",
        "              batch_size=64,  layer1_size=400, layer2_size=300, n_actions=2)\n",
        "\n",
        "#agent.load_models()\n",
        "np.random.seed(0)\n",
        "\n",
        "score_history = []\n",
        "for i in range(50):\n",
        "    obs = env.reset()\n",
        "    done = False\n",
        "    score = 0\n",
        "    while not done:\n",
        "        act = agent.choose_action(obs)\n",
        "        new_state, reward, done, info = env.step(act)\n",
        "        agent.remember(obs, act, reward, new_state, int(done))\n",
        "        agent.learn()\n",
        "        score += reward\n",
        "        obs = new_state\n",
        "        #env.render()\n",
        "    score_history.append(score)\n",
        "\n",
        "    #if i % 25 == 0:\n",
        "    #    agent.save_models()\n",
        "\n",
        "    print('episode ', i, 'score %.2f' % score,\n",
        "          'trailing 100 games avg %.3f' % np.mean(score_history[-100:]))\n",
        "\n",
        "filename = 'LunarLander-alpha000025-beta00025-400-300.png'\n",
        "plotLearning(score_history, filename, window=100)"
      ],
      "metadata": {
        "colab": {
          "base_uri": "https://localhost:8080/",
          "height": 1000
        },
        "id": "pHPtk7hhZfGM",
        "outputId": "33b0fcd1-7772-4341-e01b-492f373e65cf"
      },
      "execution_count": null,
      "outputs": [
        {
          "output_type": "stream",
          "name": "stdout",
          "text": [
            "episode  0 score -368.83 trailing 100 games avg -368.833\n",
            "episode  1 score -142.25 trailing 100 games avg -255.543\n",
            "episode  2 score -131.29 trailing 100 games avg -214.127\n",
            "episode  3 score -145.86 trailing 100 games avg -197.060\n",
            "episode  4 score -124.45 trailing 100 games avg -182.538\n",
            "episode  5 score -110.29 trailing 100 games avg -170.497\n",
            "episode  6 score -148.01 trailing 100 games avg -167.285\n",
            "episode  7 score -251.32 trailing 100 games avg -177.789\n",
            "episode  8 score -273.47 trailing 100 games avg -188.421\n",
            "episode  9 score -348.19 trailing 100 games avg -204.397\n",
            "episode  10 score -317.65 trailing 100 games avg -214.693\n",
            "episode  11 score -523.01 trailing 100 games avg -240.386\n",
            "episode  12 score -407.33 trailing 100 games avg -253.228\n",
            "episode  13 score -333.93 trailing 100 games avg -258.993\n",
            "episode  14 score -293.24 trailing 100 games avg -261.276\n",
            "episode  15 score -244.00 trailing 100 games avg -260.197\n",
            "episode  16 score -312.61 trailing 100 games avg -263.280\n",
            "episode  17 score -392.23 trailing 100 games avg -270.444\n",
            "episode  18 score -397.14 trailing 100 games avg -277.112\n",
            "episode  19 score -565.11 trailing 100 games avg -291.512\n",
            "episode  20 score -687.23 trailing 100 games avg -310.355\n",
            "episode  21 score -291.48 trailing 100 games avg -309.497\n",
            "episode  22 score -533.18 trailing 100 games avg -319.223\n",
            "episode  23 score -378.80 trailing 100 games avg -321.705\n",
            "episode  24 score -205.50 trailing 100 games avg -317.057\n",
            "episode  25 score -646.83 trailing 100 games avg -329.740\n",
            "episode  26 score -602.18 trailing 100 games avg -339.831\n",
            "episode  27 score -688.97 trailing 100 games avg -352.300\n",
            "episode  28 score -588.83 trailing 100 games avg -360.456\n",
            "episode  29 score -140.73 trailing 100 games avg -353.132\n",
            "episode  30 score -527.55 trailing 100 games avg -358.759\n",
            "episode  31 score -751.09 trailing 100 games avg -371.019\n",
            "episode  32 score -465.24 trailing 100 games avg -373.874\n",
            "episode  33 score -784.64 trailing 100 games avg -385.955\n",
            "episode  34 score -668.26 trailing 100 games avg -394.021\n",
            "episode  35 score -729.57 trailing 100 games avg -403.342\n",
            "episode  36 score -511.53 trailing 100 games avg -406.266\n",
            "episode  37 score -526.60 trailing 100 games avg -409.433\n",
            "episode  38 score -714.29 trailing 100 games avg -417.249\n",
            "episode  39 score -745.74 trailing 100 games avg -425.462\n",
            "episode  40 score -729.14 trailing 100 games avg -432.868\n",
            "episode  41 score -691.21 trailing 100 games avg -439.019\n",
            "episode  42 score -474.02 trailing 100 games avg -439.833\n",
            "episode  43 score -678.26 trailing 100 games avg -445.252\n",
            "episode  44 score -574.25 trailing 100 games avg -448.119\n",
            "episode  45 score -632.20 trailing 100 games avg -452.120\n",
            "episode  46 score -669.16 trailing 100 games avg -456.738\n",
            "episode  47 score -571.93 trailing 100 games avg -459.138\n",
            "episode  48 score -401.63 trailing 100 games avg -457.964\n",
            "episode  49 score -364.84 trailing 100 games avg -456.102\n"
          ]
        },
        {
          "output_type": "display_data",
          "data": {
            "text/plain": [
              "<Figure size 640x480 with 1 Axes>"
            ],
            "image/png": "[encoded data removed]"
          },
          "metadata": {}
        }
      ]
    },
    {
      "cell_type": "markdown",
      "source": [
        "# Алгоритм TD3"
      ],
      "metadata": {
        "id": "7XtoJtUYeNTS"
      }
    },
    {
      "cell_type": "code",
      "source": [
        "import numpy as np\n",
        "import torch as T\n",
        "import torch.nn.functional as F\n",
        "import torch.nn as nn\n",
        "import torch.optim as optim\n",
        "import os\n",
        "\n",
        "class ReplayBuffer():\n",
        "    def __init__(self, max_size, input_shape, n_actions):\n",
        "        self.mem_size = max_size\n",
        "        self.mem_cntr = 0\n",
        "        self.state_memory = np.zeros((self.mem_size, *input_shape))\n",
        "        self.new_state_memory = np.zeros((self.mem_size, *input_shape))\n",
        "        self.action_memory = np.zeros((self.mem_size, n_actions))\n",
        "        self.reward_memory = np.zeros(self.mem_size)\n",
        "        self.terminal_memory = np.zeros(self.mem_size, dtype=bool)\n",
        "\n",
        "    def store_transition(self, state, action, reward, state_, done):\n",
        "        index = self.mem_cntr % self.mem_size\n",
        "        self.state_memory[index] = state\n",
        "        self.new_state_memory[index] = state_\n",
        "        self.terminal_memory[index] = done\n",
        "        self.reward_memory[index] = reward\n",
        "        self.action_memory[index] = action\n",
        "\n",
        "        self.mem_cntr += 1\n",
        "\n",
        "    def sample_buffer(self, batch_size):\n",
        "        max_mem = min(self.mem_cntr, self.mem_size)\n",
        "\n",
        "        batch = np.random.choice(max_mem, batch_size)\n",
        "\n",
        "        states = self.state_memory[batch]\n",
        "        states_ = self.new_state_memory[batch]\n",
        "        actions = self.action_memory[batch]\n",
        "        rewards = self.reward_memory[batch]\n",
        "        dones = self.terminal_memory[batch]\n",
        "\n",
        "        return states, actions, rewards, states_, dones\n",
        "\n",
        "\n",
        "class CriticNetwork(nn.Module):\n",
        "    def __init__(self, beta, input_dims, fc1_dims, fc2_dims, n_actions,\n",
        "            name, chkpt_dir='sample_data/td3'):\n",
        "        super(CriticNetwork, self).__init__()\n",
        "        self.input_dims = input_dims\n",
        "        self.fc1_dims = fc1_dims\n",
        "        self.fc2_dims = fc2_dims\n",
        "        self.n_actions = n_actions\n",
        "        self.name = name\n",
        "        self.checkpoint_dir = chkpt_dir\n",
        "        self.checkpoint_file = os.path.join(self.checkpoint_dir, name+'_td3')\n",
        "\n",
        "        self.fc1 = nn.Linear(self.input_dims[0] + n_actions, self.fc1_dims)\n",
        "        self.fc2 = nn.Linear(self.fc1_dims, self.fc2_dims)\n",
        "        self.q1 = nn.Linear(self.fc2_dims, 1)\n",
        "\n",
        "        self.optimizer = optim.Adam(self.parameters(), lr=beta)\n",
        "        self.device = T.device('cuda:0' if T.cuda.is_available() else 'cpu')\n",
        "\n",
        "        self.to(self.device)\n",
        "\n",
        "    def forward(self, state, action):\n",
        "        q1_action_value = self.fc1(T.cat([state, action], dim=1))\n",
        "        q1_action_value = F.relu(q1_action_value)\n",
        "        q1_action_value = self.fc2(q1_action_value)\n",
        "        q1_action_value = F.relu(q1_action_value)\n",
        "\n",
        "        q1 = self.q1(q1_action_value)\n",
        "\n",
        "        return q1\n",
        "\n",
        "    def save_checkpoint(self):\n",
        "        print('... saving checkpoint ...')\n",
        "        T.save(self.state_dict(), self.checkpoint_file)\n",
        "\n",
        "    def load_checkpoint(self):\n",
        "        print('... loading checkpoint ...')\n",
        "        self.load_state_dict(T.load(self.checkpoint_file))\n",
        "\n",
        "class ActorNetwork(nn.Module):\n",
        "    def __init__(self, alpha, input_dims, fc1_dims, fc2_dims,\n",
        "            n_actions, name, chkpt_dir='sample_data/td3'):\n",
        "        super(ActorNetwork, self).__init__()\n",
        "        self.input_dims = input_dims\n",
        "        self.fc1_dims = fc1_dims\n",
        "        self.fc2_dims = fc2_dims\n",
        "        self.n_actions = n_actions\n",
        "        self.name = name\n",
        "        self.checkpoint_dir = chkpt_dir\n",
        "        self.checkpoint_file = self.checkpoint_file = os.path.join(self.checkpoint_dir, name+'_td3')\n",
        "\n",
        "        self.fc1 = nn.Linear(*self.input_dims, self.fc1_dims)\n",
        "        self.fc2 = nn.Linear(self.fc1_dims, self.fc2_dims)\n",
        "        self.mu = nn.Linear(self.fc2_dims, self.n_actions)\n",
        "\n",
        "        self.optimizer = optim.Adam(self.parameters(), lr=alpha)\n",
        "        self.device = T.device('cuda:0' if T.cuda.is_available() else 'cpu')\n",
        "\n",
        "        self.to(self.device)\n",
        "\n",
        "    def forward(self, state):\n",
        "        prob = self.fc1(state)\n",
        "        prob = F.relu(prob)\n",
        "        prob = self.fc2(prob)\n",
        "        prob = F.relu(prob)\n",
        "\n",
        "        mu = T.tanh(self.mu(prob))\n",
        "\n",
        "        return mu\n",
        "\n",
        "    def save_checkpoint(self):\n",
        "        print('... saving checkpoint ...')\n",
        "        T.save(self.state_dict(), self.checkpoint_file)\n",
        "\n",
        "    def load_checkpoint(self):\n",
        "        print('... loading checkpoint ...')\n",
        "        self.load_state_dict(T.load(self.checkpoint_file))\n",
        "\n",
        "\n",
        "class Agent():\n",
        "    def __init__(self, alpha, beta, input_dims, tau, env,\n",
        "            gamma=0.99, update_actor_interval=2, warmup=1000,\n",
        "            n_actions=2, max_size=1000000, layer1_size=400,\n",
        "            layer2_size=300, batch_size=100, noise=0.1):\n",
        "        self.gamma = gamma\n",
        "        self.tau = tau\n",
        "        self.max_action = env.action_space.high\n",
        "        self.min_action = env.action_space.low\n",
        "        self.memory = ReplayBuffer(max_size, input_dims, n_actions)\n",
        "        self.batch_size = batch_size\n",
        "        self.learn_step_cntr = 0\n",
        "        self.time_step = 0\n",
        "        self.warmup = warmup\n",
        "        self.n_actions = n_actions\n",
        "        self.update_actor_iter = update_actor_interval\n",
        "\n",
        "        self.actor = ActorNetwork(alpha, input_dims, layer1_size,\n",
        "                        layer2_size, n_actions=n_actions, name='actor')\n",
        "\n",
        "        self.critic_1 = CriticNetwork(beta, input_dims, layer1_size,\n",
        "                        layer2_size, n_actions=n_actions, name='critic_1')\n",
        "        self.critic_2 = CriticNetwork(beta, input_dims, layer1_size,\n",
        "                        layer2_size, n_actions=n_actions, name='critic_2')\n",
        "\n",
        "        self.target_actor = ActorNetwork(alpha, input_dims, layer1_size,\n",
        "                    layer2_size, n_actions=n_actions, name='target_actor')\n",
        "        self.target_critic_1 = CriticNetwork(beta, input_dims, layer1_size,\n",
        "                layer2_size, n_actions=n_actions, name='target_critic_1')\n",
        "        self.target_critic_2 = CriticNetwork(beta, input_dims, layer1_size,\n",
        "                layer2_size, n_actions=n_actions, name='target_critic_2')\n",
        "\n",
        "        self.noise = noise\n",
        "        self.update_network_parameters(tau=1)\n",
        "\n",
        "    def choose_action(self, observation):\n",
        "        if self.time_step < self.warmup:\n",
        "            mu = T.tensor(np.random.normal(scale=self.noise,\n",
        "                                            size=(self.n_actions,)))\n",
        "        else:\n",
        "            state = T.tensor(observation, dtype=T.float).to(self.actor.device)\n",
        "            mu = self.actor.forward(state).to(self.actor.device)\n",
        "        mu_prime = mu + T.tensor(np.random.normal(scale=self.noise),\n",
        "                                    dtype=T.float).to(self.actor.device)\n",
        "\n",
        "        mu_prime = T.clamp(mu_prime, self.min_action[0], self.max_action[0])\n",
        "        self.time_step += 1\n",
        "\n",
        "        return mu_prime.cpu().detach().numpy()\n",
        "\n",
        "    def remember(self, state, action, reward, new_state, done):\n",
        "        self.memory.store_transition(state, action, reward, new_state, done)\n",
        "\n",
        "    def learn(self):\n",
        "        if self.memory.mem_cntr < self.batch_size:\n",
        "            return\n",
        "        state, action, reward, new_state, done = \\\n",
        "                self.memory.sample_buffer(self.batch_size)\n",
        "\n",
        "        reward = T.tensor(reward, dtype=T.float).to(self.critic_1.device)\n",
        "        done = T.tensor(done).to(self.critic_1.device)\n",
        "        state_ = T.tensor(new_state, dtype=T.float).to(self.critic_1.device)\n",
        "        state = T.tensor(state, dtype=T.float).to(self.critic_1.device)\n",
        "        action = T.tensor(action, dtype=T.float).to(self.critic_1.device)\n",
        "\n",
        "        target_actions = self.target_actor.forward(state_)\n",
        "        target_actions = target_actions + \\\n",
        "                T.clamp(T.tensor(np.random.normal(scale=0.2)), -0.5, 0.5)\n",
        "        target_actions = T.clamp(target_actions, self.min_action[0],\n",
        "                                self.max_action[0])\n",
        "\n",
        "        q1_ = self.target_critic_1.forward(state_, target_actions)\n",
        "        q2_ = self.target_critic_2.forward(state_, target_actions)\n",
        "\n",
        "        q1 = self.critic_1.forward(state, action)\n",
        "        q2 = self.critic_2.forward(state, action)\n",
        "\n",
        "        q1_[done] = 0.0\n",
        "        q2_[done] = 0.0\n",
        "\n",
        "        q1_ = q1_.view(-1)\n",
        "        q2_ = q2_.view(-1)\n",
        "\n",
        "        critic_value_ = T.min(q1_, q2_)\n",
        "\n",
        "        target = reward + self.gamma*critic_value_\n",
        "        target = target.view(self.batch_size, 1)\n",
        "\n",
        "        self.critic_1.optimizer.zero_grad()\n",
        "        self.critic_2.optimizer.zero_grad()\n",
        "\n",
        "        q1_loss = F.mse_loss(target, q1)\n",
        "        q2_loss = F.mse_loss(target, q2)\n",
        "        critic_loss = q1_loss + q2_loss\n",
        "        critic_loss.backward()\n",
        "        self.critic_1.optimizer.step()\n",
        "        self.critic_2.optimizer.step()\n",
        "\n",
        "        self.learn_step_cntr += 1\n",
        "\n",
        "        if self.learn_step_cntr % self.update_actor_iter != 0:\n",
        "            return\n",
        "\n",
        "        self.actor.optimizer.zero_grad()\n",
        "        actor_q1_loss = self.critic_1.forward(state, self.actor.forward(state))\n",
        "        actor_loss = -T.mean(actor_q1_loss)\n",
        "        actor_loss.backward()\n",
        "        self.actor.optimizer.step()\n",
        "\n",
        "        self.update_network_parameters()\n",
        "\n",
        "    def update_network_parameters(self, tau=None):\n",
        "        if tau is None:\n",
        "            tau = self.tau\n",
        "\n",
        "        actor_params = self.actor.named_parameters()\n",
        "        critic_1_params = self.critic_1.named_parameters()\n",
        "        critic_2_params = self.critic_2.named_parameters()\n",
        "        target_actor_params = self.target_actor.named_parameters()\n",
        "        target_critic_1_params = self.target_critic_1.named_parameters()\n",
        "        target_critic_2_params = self.target_critic_2.named_parameters()\n",
        "\n",
        "        critic_1 = dict(critic_1_params)\n",
        "        critic_2 = dict(critic_2_params)\n",
        "        actor = dict(actor_params)\n",
        "        target_actor = dict(target_actor_params)\n",
        "        target_critic_1 = dict(target_critic_1_params)\n",
        "        target_critic_2 = dict(target_critic_2_params)\n",
        "\n",
        "        for name in critic_1:\n",
        "            critic_1[name] = tau*critic_1[name].clone() + \\\n",
        "                    (1-tau)*target_critic_1[name].clone()\n",
        "\n",
        "        for name in critic_2:\n",
        "            critic_2[name] = tau*critic_2[name].clone() + \\\n",
        "                    (1-tau)*target_critic_2[name].clone()\n",
        "\n",
        "        for name in actor:\n",
        "            actor[name] = tau*actor[name].clone() + \\\n",
        "                    (1-tau)*target_actor[name].clone()\n",
        "\n",
        "        self.target_critic_1.load_state_dict(critic_1)\n",
        "        self.target_critic_2.load_state_dict(critic_2)\n",
        "        self.target_actor.load_state_dict(actor)\n",
        "\n",
        "    def save_models(self):\n",
        "        self.actor.save_checkpoint()\n",
        "        self.target_actor.save_checkpoint()\n",
        "        self.critic_1.save_checkpoint()\n",
        "        self.critic_2.save_checkpoint()\n",
        "        self.target_critic_1.save_checkpoint()\n",
        "        self.target_critic_2.save_checkpoint()\n",
        "\n",
        "    def load_models(self):\n",
        "        self.actor.load_checkpoint()\n",
        "        self.target_actor.load_checkpoint()\n",
        "        self.critic_1.load_checkpoint()\n",
        "        self.critic_2.load_checkpoint()\n",
        "        self.target_critic_1.load_checkpoint()\n",
        "        self.target_critic_2.load_checkpoint()"
      ],
      "metadata": {
        "id": "NgvyJTvabk_R"
      },
      "execution_count": null,
      "outputs": []
    },
    {
      "cell_type": "code",
      "source": [
        "import numpy as np\n",
        "import matplotlib.pyplot as plt\n",
        "\n",
        "def plot_learning_curve(x, scores, figure_file):\n",
        "    running_avg = np.zeros(len(scores))\n",
        "    for i in range(len(running_avg)):\n",
        "        running_avg[i] = np.mean(scores[max(0, i-100):(i+1)])\n",
        "    plt.plot(x, running_avg)\n",
        "    plt.title('Running average of previous 100 scores')\n",
        "    plt.savefig(figure_file)"
      ],
      "metadata": {
        "id": "z4_Wu--eemro"
      },
      "execution_count": null,
      "outputs": []
    },
    {
      "cell_type": "code",
      "source": [
        "import gym\n",
        "import numpy as np\n",
        "\n",
        "if __name__ == '__main__':\n",
        "    env = gym.make('LunarLanderContinuous-v2')\n",
        "    agent = Agent(alpha=0.001, beta=0.001,\n",
        "            input_dims=env.observation_space.shape, tau=0.005,\n",
        "            env=env, batch_size=100, layer1_size=400, layer2_size=300,\n",
        "            n_actions=env.action_space.shape[0])\n",
        "    n_games = 1000\n",
        "    filename = 'plots/' + 'LunarLanderContinuous_' + str(n_games) + '_games.png'\n",
        "\n",
        "    best_score = env.reward_range[0]\n",
        "    score_history = []\n",
        "\n",
        "    agent.load_models()\n",
        "\n",
        "    for i in range(n_games):\n",
        "        observation = env.reset()\n",
        "        done = False\n",
        "        score = 0\n",
        "        while not done:\n",
        "            action = agent.choose_action(observation)\n",
        "            observation_, reward, done, info = env.step(action)\n",
        "            agent.remember(observation, action, reward, observation_, done)\n",
        "            agent.learn()\n",
        "            score += reward\n",
        "            observation = observation_\n",
        "        score_history.append(score)\n",
        "        avg_score = np.mean(score_history[-100:])\n",
        "\n",
        "        if avg_score > best_score:\n",
        "            best_score = avg_score\n",
        "            agent.save_models()\n",
        "\n",
        "        print('episode ', i, 'score %.1f' % score,\n",
        "                'average score %.1f' % avg_score)\n",
        "\n",
        "    x = [i+1 for i in range(n_games)]\n",
        "    plot_learning_curve(x, score_history, filename)"
      ],
      "metadata": {
        "colab": {
          "base_uri": "https://localhost:8080/",
          "height": 373
        },
        "id": "1Po9-hG9eR3T",
        "outputId": "1b68e004-ecfb-49ab-f890-f70ac74a07d7"
      },
      "execution_count": null,
      "outputs": [
        {
          "output_type": "stream",
          "name": "stdout",
          "text": [
            "... loading checkpoint ...\n"
          ]
        },
        {
          "output_type": "error",
          "ename": "FileNotFoundError",
          "evalue": "[Errno 2] No such file or directory: 'sample_data/td3/actor_td3'",
          "traceback": [
            "\u001b[0;31m---------------------------------------------------------------------------\u001b[0m",
            "\u001b[0;31mFileNotFoundError\u001b[0m                         Traceback (most recent call last)",
            "\u001b[0;32m<ipython-input-32-76d8d332c925>\u001b[0m in \u001b[0;36m<cell line: 4>\u001b[0;34m()\u001b[0m\n\u001b[1;32m     14\u001b[0m     \u001b[0mscore_history\u001b[0m \u001b[0;34m=\u001b[0m \u001b[0;34m[\u001b[0m\u001b[0;34m]\u001b[0m\u001b[0;34m\u001b[0m\u001b[0;34m\u001b[0m\u001b[0m\n\u001b[1;32m     15\u001b[0m \u001b[0;34m\u001b[0m\u001b[0m\n\u001b[0;32m---> 16\u001b[0;31m     \u001b[0magent\u001b[0m\u001b[0;34m.\u001b[0m\u001b[0mload_models\u001b[0m\u001b[0;34m(\u001b[0m\u001b[0;34m)\u001b[0m\u001b[0;34m\u001b[0m\u001b[0;34m\u001b[0m\u001b[0m\n\u001b[0m\u001b[1;32m     17\u001b[0m \u001b[0;34m\u001b[0m\u001b[0m\n\u001b[1;32m     18\u001b[0m     \u001b[0;32mfor\u001b[0m \u001b[0mi\u001b[0m \u001b[0;32min\u001b[0m \u001b[0mrange\u001b[0m\u001b[0;34m(\u001b[0m\u001b[0mn_games\u001b[0m\u001b[0;34m)\u001b[0m\u001b[0;34m:\u001b[0m\u001b[0;34m\u001b[0m\u001b[0;34m\u001b[0m\u001b[0m\n",
            "\u001b[0;32m<ipython-input-30-f2418b9ac2bd>\u001b[0m in \u001b[0;36mload_models\u001b[0;34m(self)\u001b[0m\n\u001b[1;32m    273\u001b[0m \u001b[0;34m\u001b[0m\u001b[0m\n\u001b[1;32m    274\u001b[0m     \u001b[0;32mdef\u001b[0m \u001b[0mload_models\u001b[0m\u001b[0;34m(\u001b[0m\u001b[0mself\u001b[0m\u001b[0;34m)\u001b[0m\u001b[0;34m:\u001b[0m\u001b[0;34m\u001b[0m\u001b[0;34m\u001b[0m\u001b[0m\n\u001b[0;32m--> 275\u001b[0;31m         \u001b[0mself\u001b[0m\u001b[0;34m.\u001b[0m\u001b[0mactor\u001b[0m\u001b[0;34m.\u001b[0m\u001b[0mload_checkpoint\u001b[0m\u001b[0;34m(\u001b[0m\u001b[0;34m)\u001b[0m\u001b[0;34m\u001b[0m\u001b[0;34m\u001b[0m\u001b[0m\n\u001b[0m\u001b[1;32m    276\u001b[0m         \u001b[0mself\u001b[0m\u001b[0;34m.\u001b[0m\u001b[0mtarget_actor\u001b[0m\u001b[0;34m.\u001b[0m\u001b[0mload_checkpoint\u001b[0m\u001b[0;34m(\u001b[0m\u001b[0;34m)\u001b[0m\u001b[0;34m\u001b[0m\u001b[0;34m\u001b[0m\u001b[0m\n\u001b[1;32m    277\u001b[0m         \u001b[0mself\u001b[0m\u001b[0;34m.\u001b[0m\u001b[0mcritic_1\u001b[0m\u001b[0;34m.\u001b[0m\u001b[0mload_checkpoint\u001b[0m\u001b[0;34m(\u001b[0m\u001b[0;34m)\u001b[0m\u001b[0;34m\u001b[0m\u001b[0;34m\u001b[0m\u001b[0m\n",
            "\u001b[0;32m<ipython-input-30-f2418b9ac2bd>\u001b[0m in \u001b[0;36mload_checkpoint\u001b[0;34m(self)\u001b[0m\n\u001b[1;32m    116\u001b[0m     \u001b[0;32mdef\u001b[0m \u001b[0mload_checkpoint\u001b[0m\u001b[0;34m(\u001b[0m\u001b[0mself\u001b[0m\u001b[0;34m)\u001b[0m\u001b[0;34m:\u001b[0m\u001b[0;34m\u001b[0m\u001b[0;34m\u001b[0m\u001b[0m\n\u001b[1;32m    117\u001b[0m         \u001b[0mprint\u001b[0m\u001b[0;34m(\u001b[0m\u001b[0;34m'... loading checkpoint ...'\u001b[0m\u001b[0;34m)\u001b[0m\u001b[0;34m\u001b[0m\u001b[0;34m\u001b[0m\u001b[0m\n\u001b[0;32m--> 118\u001b[0;31m         \u001b[0mself\u001b[0m\u001b[0;34m.\u001b[0m\u001b[0mload_state_dict\u001b[0m\u001b[0;34m(\u001b[0m\u001b[0mT\u001b[0m\u001b[0;34m.\u001b[0m\u001b[0mload\u001b[0m\u001b[0;34m(\u001b[0m\u001b[0mself\u001b[0m\u001b[0;34m.\u001b[0m\u001b[0mcheckpoint_file\u001b[0m\u001b[0;34m)\u001b[0m\u001b[0;34m)\u001b[0m\u001b[0;34m\u001b[0m\u001b[0;34m\u001b[0m\u001b[0m\n\u001b[0m\u001b[1;32m    119\u001b[0m \u001b[0;34m\u001b[0m\u001b[0m\n\u001b[1;32m    120\u001b[0m \u001b[0;34m\u001b[0m\u001b[0m\n",
            "\u001b[0;32m/usr/local/lib/python3.10/dist-packages/torch/serialization.py\u001b[0m in \u001b[0;36mload\u001b[0;34m(f, map_location, pickle_module, weights_only, mmap, **pickle_load_args)\u001b[0m\n\u001b[1;32m    996\u001b[0m         \u001b[0mpickle_load_args\u001b[0m\u001b[0;34m[\u001b[0m\u001b[0;34m'encoding'\u001b[0m\u001b[0;34m]\u001b[0m \u001b[0;34m=\u001b[0m \u001b[0;34m'utf-8'\u001b[0m\u001b[0;34m\u001b[0m\u001b[0;34m\u001b[0m\u001b[0m\n\u001b[1;32m    997\u001b[0m \u001b[0;34m\u001b[0m\u001b[0m\n\u001b[0;32m--> 998\u001b[0;31m     \u001b[0;32mwith\u001b[0m \u001b[0m_open_file_like\u001b[0m\u001b[0;34m(\u001b[0m\u001b[0mf\u001b[0m\u001b[0;34m,\u001b[0m \u001b[0;34m'rb'\u001b[0m\u001b[0;34m)\u001b[0m \u001b[0;32mas\u001b[0m \u001b[0mopened_file\u001b[0m\u001b[0;34m:\u001b[0m\u001b[0;34m\u001b[0m\u001b[0;34m\u001b[0m\u001b[0m\n\u001b[0m\u001b[1;32m    999\u001b[0m         \u001b[0;32mif\u001b[0m \u001b[0m_is_zipfile\u001b[0m\u001b[0;34m(\u001b[0m\u001b[0mopened_file\u001b[0m\u001b[0;34m)\u001b[0m\u001b[0;34m:\u001b[0m\u001b[0;34m\u001b[0m\u001b[0;34m\u001b[0m\u001b[0m\n\u001b[1;32m   1000\u001b[0m             \u001b[0;31m# The zipfile reader is going to advance the current file position.\u001b[0m\u001b[0;34m\u001b[0m\u001b[0;34m\u001b[0m\u001b[0m\n",
            "\u001b[0;32m/usr/local/lib/python3.10/dist-packages/torch/serialization.py\u001b[0m in \u001b[0;36m_open_file_like\u001b[0;34m(name_or_buffer, mode)\u001b[0m\n\u001b[1;32m    443\u001b[0m \u001b[0;32mdef\u001b[0m \u001b[0m_open_file_like\u001b[0m\u001b[0;34m(\u001b[0m\u001b[0mname_or_buffer\u001b[0m\u001b[0;34m,\u001b[0m \u001b[0mmode\u001b[0m\u001b[0;34m)\u001b[0m\u001b[0;34m:\u001b[0m\u001b[0;34m\u001b[0m\u001b[0;34m\u001b[0m\u001b[0m\n\u001b[1;32m    444\u001b[0m     \u001b[0;32mif\u001b[0m \u001b[0m_is_path\u001b[0m\u001b[0;34m(\u001b[0m\u001b[0mname_or_buffer\u001b[0m\u001b[0;34m)\u001b[0m\u001b[0;34m:\u001b[0m\u001b[0;34m\u001b[0m\u001b[0;34m\u001b[0m\u001b[0m\n\u001b[0;32m--> 445\u001b[0;31m         \u001b[0;32mreturn\u001b[0m \u001b[0m_open_file\u001b[0m\u001b[0;34m(\u001b[0m\u001b[0mname_or_buffer\u001b[0m\u001b[0;34m,\u001b[0m \u001b[0mmode\u001b[0m\u001b[0;34m)\u001b[0m\u001b[0;34m\u001b[0m\u001b[0;34m\u001b[0m\u001b[0m\n\u001b[0m\u001b[1;32m    446\u001b[0m     \u001b[0;32melse\u001b[0m\u001b[0;34m:\u001b[0m\u001b[0;34m\u001b[0m\u001b[0;34m\u001b[0m\u001b[0m\n\u001b[1;32m    447\u001b[0m         \u001b[0;32mif\u001b[0m \u001b[0;34m'w'\u001b[0m \u001b[0;32min\u001b[0m \u001b[0mmode\u001b[0m\u001b[0;34m:\u001b[0m\u001b[0;34m\u001b[0m\u001b[0;34m\u001b[0m\u001b[0m\n",
            "\u001b[0;32m/usr/local/lib/python3.10/dist-packages/torch/serialization.py\u001b[0m in \u001b[0;36m__init__\u001b[0;34m(self, name, mode)\u001b[0m\n\u001b[1;32m    424\u001b[0m \u001b[0;32mclass\u001b[0m \u001b[0m_open_file\u001b[0m\u001b[0;34m(\u001b[0m\u001b[0m_opener\u001b[0m\u001b[0;34m)\u001b[0m\u001b[0;34m:\u001b[0m\u001b[0;34m\u001b[0m\u001b[0;34m\u001b[0m\u001b[0m\n\u001b[1;32m    425\u001b[0m     \u001b[0;32mdef\u001b[0m \u001b[0m__init__\u001b[0m\u001b[0;34m(\u001b[0m\u001b[0mself\u001b[0m\u001b[0;34m,\u001b[0m \u001b[0mname\u001b[0m\u001b[0;34m,\u001b[0m \u001b[0mmode\u001b[0m\u001b[0;34m)\u001b[0m\u001b[0;34m:\u001b[0m\u001b[0;34m\u001b[0m\u001b[0;34m\u001b[0m\u001b[0m\n\u001b[0;32m--> 426\u001b[0;31m         \u001b[0msuper\u001b[0m\u001b[0;34m(\u001b[0m\u001b[0;34m)\u001b[0m\u001b[0;34m.\u001b[0m\u001b[0m__init__\u001b[0m\u001b[0;34m(\u001b[0m\u001b[0mopen\u001b[0m\u001b[0;34m(\u001b[0m\u001b[0mname\u001b[0m\u001b[0;34m,\u001b[0m \u001b[0mmode\u001b[0m\u001b[0;34m)\u001b[0m\u001b[0;34m)\u001b[0m\u001b[0;34m\u001b[0m\u001b[0;34m\u001b[0m\u001b[0m\n\u001b[0m\u001b[1;32m    427\u001b[0m \u001b[0;34m\u001b[0m\u001b[0m\n\u001b[1;32m    428\u001b[0m     \u001b[0;32mdef\u001b[0m \u001b[0m__exit__\u001b[0m\u001b[0;34m(\u001b[0m\u001b[0mself\u001b[0m\u001b[0;34m,\u001b[0m \u001b[0;34m*\u001b[0m\u001b[0margs\u001b[0m\u001b[0;34m)\u001b[0m\u001b[0;34m:\u001b[0m\u001b[0;34m\u001b[0m\u001b[0;34m\u001b[0m\u001b[0m\n",
            "\u001b[0;31mFileNotFoundError\u001b[0m: [Errno 2] No such file or directory: 'sample_data/td3/actor_td3'"
          ]
        }
      ]
    },
    {
      "cell_type": "code",
      "source": [],
      "metadata": {
        "id": "qoHwy0U6eR0K"
      },
      "execution_count": null,
      "outputs": []
    },
    {
      "cell_type": "code",
      "source": [],
      "metadata": {
        "id": "LgkG76yBeRxw"
      },
      "execution_count": null,
      "outputs": []
    },
    {
      "cell_type": "code",
      "source": [],
      "metadata": {
        "id": "pMJtvvY2eRvY"
      },
      "execution_count": null,
      "outputs": []
    },
    {
      "cell_type": "markdown",
      "source": [
        "# **Оптимизация**"
      ],
      "metadata": {
        "id": "R6TWeZVXsA3G"
      }
    },
    {
      "cell_type": "markdown",
      "source": [
        "[Моделирование размещения хабов в pyomo](https://habr.com/ru/articles/772012/)"
      ],
      "metadata": {
        "id": "XYCo_7F2sPfo"
      }
    },
    {
      "cell_type": "markdown",
      "source": [
        "## О задаче"
      ],
      "metadata": {
        "id": "i44zObRmVg5H"
      }
    },
    {
      "cell_type": "markdown",
      "source": [
        "![image.png](data:image/png;base64,iVBORw0KGgoAAAANSUhEUgAAAZAAAACrCAYAAABIdcoWAAAgAElEQVR4Ae3dB9w1TVUY8IlGAgKJJfbeNRq7YieCIkrEGkXQiKKioFgxgIgFNQpRsaEBBewYAooK2BWNKBpLsGGLxhKVYIuJsfG9uf/3nfNxvvl29+69d2995vx+zzO7O/3c3Tlz6pTSoWOgY6BjoGOgY+BCMfDKpZQnllL+sJTy96WUvyylPKOU8i/2ON9rpRR/HToGOgaWwUB8U3/UNPcH9VuL/HP67mLMppSvmyne6vYutfw7bbm2RV+R/slqPfxPpZTXvFVPmz2I9jardeKln1ORfa9Sym1LKdK/KqV8z47jflxtN5rJ9xeJyJhoTzsGjoCB+Kaksfl7g7Twen5uEHPadNyPKKX8z1LKnLUtr0vRT+73JUsp96l4/PEosGWa292yidOr9jcVOS83MrSXLqV8ZSnFzgZheUIp5Z+UUt6olPKsUsqfVa7F9evVNgJR61LFx9ofGU5/3DHQMTCAAd/a/yul/Hkp5RNr/sfV+/jG43u8Xf3m/7iUct9V+ReWUv5HKeWupZSpPM1Ofa9ja8Jtan//u5Ty0FKK9NdKKa9T1xLry1/U5/+xbmT1FeNtr9+ulPJjdd2xJv1gIprK/kAp5SmllJj32NoW7UeqLmjvbaw90xcYm6e8tm6+z9c3WrqA/z9RJ/3LpZQHrziPtyml/KM0Lz+uiX94fdlcP6SU8pNV5KW8F8/zZ6d6LbLyfb4eaz811S87BjoG1mDAN/WiUsp3l1KeWst+Wynl6WlRi+/O9+3670opH1NKuWe9f1799sfyNDv1vU6tCdH3/VfE6qNqf8RCX1CvPzatL4+q4486bvP1f6/3b1hKeYdSyl+XUr6/1sExIFCfslqX1q1tbbu1iVv09RJpXM+sBebMc6itPIfIP/v0VUsp31pK+T/pR/rt+sOYHFbQxO9Y/1z/UjProNB/m563yMr3+XpO+6nZftkx0DEwgIH4ph5USvnTUoqFz7f1gPRdRxnV4/qfVS7APYKyLm/u99quCbm/l63944CsNfJwCfH8d5tx5DG5jjF8dd28kogEvHVtD5eybm1TJ8YV9fOzyCNleVptL5dzPTbPKBdt5HYj76LSl1qxgu9clUUmjSMBiEIgIVKs3HtUQuKluymVqdVurjN0H+1MtR/1etox0DGwHgPxTREju/43NX3t9G1GGa3l6/Z+Km9sPdDG1JqgTesE+Me1f20Ru8nDOcRzz0AeR76+RyI8nlvg713rIKD/t7ZVH5Wxta3tI8rnvuJZTtfNU/2A3Fa+jvyLS/9p/eFC3veb9R6lzUBmCiF3SnLTMcSpl5GXr8faz331646BjoFpDORv6vmllOeuiMiv1CqRF6nH+bq9n8qb+l6n1oRo0/ryCrV/lp8hjsJ9xPPfasbdjq9mF0YCD69t4WYAsdiP1us2adc2+TGuXHboWc6fmqcNtfq4opdp2l/Xbu7jbK6xZmSGH1wn/ZF10mSp4JH13vM71x0DCy2KNwh586o7QfXd+5FA3L/WwH1G5Fj7tVpPOgY6BmZgIH9TX1q/xUfXepEXqcf5ur2fypv6XqfWBG3iQCjt6V3cf1NaX+hF6Ec8/9xm3O34rD/WLPpXCm11EE2AKNGrgHVrmzLtOuWZ9vyNwdQ8SW7Ufd9Syv2SBEdb69od6++kn2N5IfoFVSkOOZRvr1hHjfP4svrD8BGhSMIW+8H/V2UfWVY8sN7/Rq33xdUKQrsg32dEjrVfq/WkY6BjYAYG8jcVfhDvXutFXqQe5+v2fipv6nudWhO0Scn/2VXf+t9KKa9eN610GQiC9eUrSimstqbGRL9BkW3xJylhkfWWK4L0unVe713rr1vbFMvrUq12K9zE80in5vlepZTfq2uhTTfOyNzppFq8Rns97RjoGOgY6BiYwEBfPCeQ07M6BjoGOgY6BsYx0AnIOG6uXA5riZcv5bp1w5WbfJ9wx0DHwMYY6ARkY5RdXgVeqFz/Oe7wG5F+c7U2uLzZ9hl1DJwOBpi5cub9xlLK91adI6ulDh0DZ4EBttTCDyAasZuQChfAXFB+h46BjoHlMcCy8eeqwji+PQpk4T+Y0XfoGDh5DHxW460eL7IUNyK/Q8dAx8DyGPiWFNcpf3euWU3eYfkue4sdA8tiIByI2hc47sN8d9lee2sdA1cbAxzScpih+N4iZf4aXthXG1N99ieNATHx46UdSsMT9KQn0QfXMXBmGBCaXYTdoW/OM74VDzuzOfXhXkEMcNYZe4k9/4UriJM+5Y6BfWOAQ+8UB0InGeHb9z2W3n7HwNYYEGhx7EUW/Ex8GHH5RcPs0DHQMbAcBiJi7dAGzjf5Gst11VvqGNgfBsTYFzoA2+xl/od6/0nVVV8EUC+7gGZi9XfoGOgY2A0D4j2J78TaMUe99v35Fr9ot+Z77Y6Bw2LgjVd+H4+pQcK+tjkJzEjEsXESmpj9CIlTxzp0DHQMbI6Bj1gFHnSm+XuWUt6ilPLDNZipMOieC0rYoWPgLDHw+yng4tAEmBb+uxqk0TGVrzRUqD/rGOgYuBUGRHoQ5E/AQQECM0SgwfysX3cMnB0GfmfkhK52IkKe+BhE7pU6Aa1Dx0DHwDAGeJc7z+LJpZTbDxfpTzsGzh8D/D7irI85sxG6GSfC3Bdncrs5lXqZjoErhAEGKA5Y8n04t7xDx8DFYkD4ktffYnbOEkFIWG3RlWDXO3QMXHUMiHNFr3G3q46IPv+rgYFfLKW8yQ5TfdOqZCcKQ0gEi+vQMXDVMDCl77hquOjzvUIY+Nl6nO2uU37HKvN1FCQz4A4dA1cFA/QdP7LaiH1H13dclZ+8zzMw8FP1TOK43zV9jxpx9DmllDiKc9c2e/2OgVPFAH0H7tv5313fcaq/Uh/X3jDw43sIJe1DwoX8evdq39vv1hs+PgboOxiT3PP4Q+kj6Bg4DgY4Nb3Lnrp2AH33at8TcnuzR8NA6Ducq8Mh91IhQq78UTNBRgKRJ2vsuqm22G3ub7FGe0PbYeD7DiBq6l7t2/02vdbpYeCfV33Hd5dSHBB1yRALtVQ0YfAGiWB43kLUaZ8veX+IPpYc70W39T0HNDnsXu0X/Spd/OTeqvp3cKTFXV86WKgFWBWGPiIFs7R0L6ZXEJC8oMe16MOuxd0DH1bvH17v37ve33clQn9WKeXPSil/Wa9fr+ZF+6pEu+21ssbznVUH5bjuryyl4JrEGHtCKcVZLGAqrxbpyaYYeFop5R6bVtqxfPdq3xGBvfrBMXCfqu94v4P3fLwOLdoCruK2nlqH8W2llKdPLOh5oeek7Ox38LgaxeKH6j1CIoT9z6xOQf37ashz19rus5v2VcntxvVt6/ETDsmLyBiIh3z6KcTJ9UNqn1N5tUhPNsWAQInH+ii6V/umv1Yvf2gMhL7j+Rek72Dk8j6rCBRPrKFW7l9KueMAYmOhflAp5U8r1yW46gNGFnRNRB3Xdv/Pq+1a5HnmOwOeSNvGlelzBgRBfUEmczvK5Pu4/obKIb15asT45JuPP9e/VPOn8lIT/XITDHxrKeWDN6mwh7Ldq30PSO1N7owB+g5GJnbgscPdudEjN/BSdeF2hG4sxBZ1J5W+XTO2yA+REoMYz3yvkafK2PVHV+6C3sSRES9T+2G087srkdPnlVKY/Vvg/24gzL12A4b6wB35e8so1BCfqEOUBTJhavNqkZ5sioEnVfnkpvX2Ub57te8Dq73NbTBwqfqOL5g4UA6XkTmRWGThDwf23JVVpdBHIOeNXTtLSN5XrcTkHJYBiceX1eeIh1BIytypxtWLthAU1/QXCE8810Zcv9FKx/IXpZSfuNH09f84Hfm4mRam8tqy/X4mBh6/Ugz+25llD1WMVzv2tnu1HwrjvZ+MgXtfqL6D6GrsNFKLrrx8Nkks1HDzpXVhfnRFVM4bu1YUZ6PdL6n1HliV5fQeohS/sLZLDPXgKuLS3u/V5+9bSrlf4h40k/tDEN3TeYBH1vuPXEXGuHMVcTEUWpdXi/RkUww8tv5Am9Y7RPnu1X4ILPc+AgNZ37FLfLho79RSoiiWTrEAD6XWg4DId3+XWi+iS+S8sWv16Drk3702+mb1nvIcfFRVrrPCeujqGoFxZIQ6iIhrxIDDpmes33J/xIxEcPQbuCecBw7H6Y/m+swqctPXVN6N0fT/G2PgK1Y/zsdvXOtwFbpX++FwfZV7shCxELJbvRR9R/t7vloyv41FOKd0BJ/aVur3HQNTGMCaho33VLlj53Wv9mP/ApfbPyWs8zsu1b/jZVe+Ep9cSvntKtLJRCNfUzbjEDp0DMzGgI/mnHYd3at99k/bC87AAAc34pH3n1H23Iq8TT2zhx7C2T0I5dtXBzvWS5l40FPYTHboGNgIA5ROn7lRjdMo3L3aT+N3ONdRhL5DwM9L0ncIr8Jb3Dnsv1p9L3AgGVhHicLNyxzXwZP7M3o04Yyifj0XA49Y2Wp/1tzCJ1iue7Wf4I9y4kPyztB3fO8F6TuC22DVxFSWAco64BPyyp1wrENTz5/CwMNWmc4yOHfoXu3n/gseZvzEOHQBl6DvYFXEue8HSynh6c0YoEPHwMEwwPaaLfWlQPdqv5Rfcvl5hL7jA5Zv+qAtEkEhgHQbiAdfCdaKHToGDo4B0TLDyefgne+xw+7VvkfknlnTL1kXXPqOCEt+ZlO4Hj8quA0+DgjIa57bJPp4Lw8DHHc43lwqdK/2S/1l582LvsMunb5DSIxzA74bghAK+WEeiAgDgA4dAyeBARYbYtVcOnSv9kv/hW89v7c4U30HnyfvK2U4T2zOvq976+n1Jx0Dx8eAUAJfd/xhHGQE3av9IGg+iU7uVf07zknf8UqV2+DU+F+rOe7tTgKbfRAdAyMY+IhSyteP5F3q4+7Vfqm/bClZ30EPdg7ABPebamBBDn/5fItzGH8f4xXGgJ1anBp21dDQvdov6xen7/iB1bkWzzgDfYd4W8THzsIIboNzbIeOgbPCwAeVUhxTeZWhe7Wf/69/LvqOcPhz9sZch799/DoOkXNaoLPNKeiZ8uPeQIQ4qbe3SKbyblFwzzcxDmefZ/iDZvxRLpdxzYdmLK8t2+8nMHDPUspTJvKvUlb3aj/PX/tDq77jA090+BYrZ+783OrwNqbErKq8a/sE5srwgbC2cLd6+p/IwyzTnAlkMf3CWvAcFtYYozRMs518mJ+38873nYBkbOxw/d6rIGvftUP9S6zavdrP41cNfcdvrDZBp6jvcGIefw275OA29u3w5939xVKKI2vFuHJin3M18rGv31cX2neuP/Nrrc4E+v0acNEji7AjaO9b9TI4lLvWsrFAu3VaoAOm1NXfs0opr1/Lmbt753w4l8O180g4+hLbCd4ohJIxapNeUntfWcesPfogC/0QqCOWl/oRTZxI0D2uSj7I4+U3E31/Tsp7xXrNJw5wOFXv4fXeGukeLtv5KGJuYooZP/hXtXyMqz6+zOQ9q8z4Mme326y6V/tu+Ntn7ZcrpXx/PTDolPw76NXC4Y84BQGxqB8CHKgkTIvFPxbOSC3ioZy34Hs+du6JPCcGOp2QhMK94Iwg2nPtTHP3Fm6LpjrPvlGs/GS9J7JDfJSTh5C6dl76/Zv24nTBj63ES7lH1fbaRJ6Iws6rf2rNJIp/etOmcv7Ak+u1A6ravm1CQhf8uGo+LV4aQEiinXY+8j+k5iM0gGO2I3n3zWXW7o6b+OF9iB3GMdC92sdxc4wcC+Fv1cXZzvUUwO4asRAa/lgOf5+QjoSNBS/Sm+ox0XAVO/TQebT4izoIjF21ewsiiDzXfgP3iPkUhLjIgVXCr6gjQrAFNreH+EV78l3/7kjDUe9BpRT6JO+BUwkf0LQZ5TST+zbmnPeEqhNSLuKKOenQhsCpio7YDsjz8QyOjCHcIeiWroxUBxubkRNI6umtMdC92m+Nk0M/CX0H449jg0UrHP4ivMjrHHFQdv2xKA6lRD7Aoixf6PchiLqRl+/ztfbcDxEieCEuQngQr6jnPurAXzzXV26Pt728GHOUa1OE2zNcn5TUIMpoM1/nvqN9+QBHhIOiR8HB4WoRnHep+ILbofnU6tdFbwgYblObp6qPi/Euljpg5icWa+1qNBRe7c5UiDOir8bMjzfLrO849ql5QqBThFuImeBSkAuNfkwQhTd28LFotinOA4QYKXQgFmG77i+q+VGv3t5iEc55v1MXyyFRDb2JsndaiXQ4Q0a94AJwAC0HwoFSOdzHK9RrXM4QRHvynl9Kee6KiPxKLZjz8nX0jThw2sx5AlS6F5XjZ2s78CTMU5STtvOJsdExySf+wo3gXK4EvNXqwPufvhIzXXaS3at9WXxOtZb1He3hSFP1ls6zG7WoCC9CwXtMQmZRtpEhNkPE6Dgs6EP6j1gAidbA29Zy4S9DfKPM59f8KF9vb15A3ec8BMf9x6/EdoiRvu3UgXNJ5BE3ivhNHOSen450SAficDt5omOEjuJza3ttopw/4CRF1xT6IOfla7oS93QgrahLPQSGcj+Cy4oTCK84k+CO2vlkLu7nq17msTeGcTX++wiYF3bYDgPYcOyz3Z/FxU6mw3IY+JdH1nfYrVIS/3Jy+Lv9ctPbqCXxsIzFe8YaCOFAQBASHBBrIs+zyCgWUFZC75B6u0cp5ReqPgQn5WA57zKIOvX2Fvc5jy7gMdXyidXUM6ullXqIAEJrPA9dXVuM3Rsbbkd5Vli5PbqEr655Fm4xwMZ28rneXWo7IQ3IefmaeCr6dgpr6IKCe6TrUP7udeLWRvc/MzEfyveAz67lcSlXBt44WVhcmUnvYaJedB83OagP/Jiy8D1M7yhNsm6hlOb0dmjIDn/CjLz1oQew4nJepW5OcDt0LDYprm1Y8s43D80iyWyXyalds4Xa3ynojPI4XZuDBbp1BmzLnfo98SrOmI7kyqkDyD+dndxhGQx0r/bd8Ug8SMdgd3dIMREzWJsAO3NydWNYZ2G0+2xf3IJ3J4ulwn/EmIR1nws4iXdbERF+DUIVnZKZM4tP3BBuQRw+BOSJcyd2ouXuU40FSHIQ8CsFnGuwdS1QFPph7XzIALGUZKbh9dmWz/deCn/rYG653M42dXL9uN42lEPUX5dSEBIvYNulYzb369oZyw88SO02/TZ2zecOdqVs+TlnHUrf8Sb1N8Lt4B4t4vt2+PM7sQTymyFU9BOc4KTuPT/EGA79vrxd1ZPQidA5POnARPrQ8734/rDJQ7bWz6lEwA6GrFNq5yD8wTqIxS3KsUzwrIW2XJs/dL9NnbaddaEc2vJj42/LDd3vy6s944HXLxn9Xzcex0PjOeVn5oEbRnCHTEOXHDt5ezj8sfSxaLP82TdM6THG5P37HlNv/wAY2GVHfoDhbd0F8z9cRguhYBpj4cdCFWgnL25xHWnuZ+iZ/LltE7/ZtX1n3a29dA2FgPVH7FiXWChamBPKwdhAjDFS7Uabm4QsWNqrPcZTh3mzx3B45Y7hIkwq7baHQlUwYbQzjN3vu1YcCP0gzESL22jPc0rEsNuPcc1NnevtPdy3vkOoDQTKHMPhb5/EyrqBUNFd8ADPeoyludK5uO7ljoCBXXbkRxju7C69xC8YKE0ZZJGys2WG17LUY6EKNNUubu19dDf2fE7buCKyauK3+BAtcNr88Lo4un5IdJbSOaEc1A2IcS4RsmApr/YYU4yRnNszIjMwhguEQTlOVTlUBe9ZAF/ymXeDf1/vI0REi9toj5ex9wRB2QTUt/un72BxtQ9AIIilcM+IFAIi/tM+gIVW1mOEWIwe4zX20WFv8zwwMLUjH9sxx+5sbLd3CjP3wjO1a+FVVwqhb6120bFY2T1lU8Co07r2R/nIb+/XPY986Vjb31B3uxHfR1kWUPqiDPXnmmVEC/Fbju082/HGPc5jqZAFu3q1x5hibkwRPUMYwBQuoi7Ca065HiWg+yC8YiBx0prT3qYiIPoOIR9whPvQd3iHESci2uA2wmSzomnnxDt01fQYOyPtKjYwtSMf2zHH7mxst3cKeCR3JZYZAx8cJyHKRQsLjgTYZY259scCVYter+dZC225yJ/T9ouq006OMmoXHG1GOjQ3C4r8MVPIqBvjyfd29hbTpUIWmCvrjU292vOYjJMuyzNjA1O4aOu297iRH62WP/I+fWZ73ve5sC99BwskOPW+4saIjpaO1Jv1GDYU2R8jxJtz8dDLXREMzN2Rj+2Yh3Z7p4A6H/0cuXXYbMeCPBaqwJzaBam9j3mPPZ/TtgWI9VG2uybO0qbfYAqCGG4TymEfIQv8BuTkzoqwU57jc9Dijp2/Z7hGMIWLtm57T99h08MMVB5xzybt1SGMJqHvMOelAAfzyVXHYEEnMqIHWgI46IUeg49F1mOckonsEnPtbewZA0M78jk75hhW+7HG82Omdqst8MrkgESpaVfF/d/YhU8GY6EKgtAoGxBhDFq58xgu5rYd4Z/J5UGEQjDWO1fCOGQ1tmkoh3b8+wpZsIlXe8ZdnHNgnGFmPYWLXBfe2vvwwLWDjzA3m7R349e49X+Ecml9B/ERLoNSXJo50luPYN4ThMc3TVeCGGnbpgNRat/heS32Uh0DDQZiobQjn7NjjurtxxrPj5niQCKMQYyDhRMiQsHOD8SiLt6+3RgYC1VAGdrO0YdI79Aq66Ncm85tmwWZRZPYhs4D5yH4GUUpvxWhFVg/DcEmoRza8e87ZMEcr/aMM78fkZPAmAFTuIi6Uba99xw35Pmn1UKbtBft5tT3wlrOODfVleR2XGvLYk4/w+wXUdpFh9L1GC2G+/3iGJjakc/dMRvU0Me6+GA3bBCn0WW365FmobFQHSpkwaV4tYsPZqHHIXCe2xaC2/C94QhwCdtC1mNor+sxtsVkrzcLA1M78rk7Zh2dIgFhhWWx6jCNgWOFLNi3V/v0rHfL/dc1npWQ59sAzof+gW6IHga3gfPcFHA9ocdgRJH1GGO+Tpv20ct3DFxJDJDxdmXg6f/0+/Jq38fMQ99hscY5bAq4FqLDcPijeNfmXGj1GMSnocfogS7nYrGX6xiYgQFnN+8ql57Rzc5FEDlnFvx4Ve5+7hUlfEt7te/8wzQN0EfRd/xY0pk1RQZv6X6C24jzxBkIzIF1eoxWxzenzV6mY6BjYAYGHETDTPmUgWmrsCXiPYUYkPKYkyZ59lWEpbzal8TdNvoOkWaJphijhMPfHF1J1mOwGMt6DKKvDh0DHQMHwADLqVM2T7SYsKwKwpFTDoVxCtoBUHWSXYgO4Fx7Tp528McClm1iYs3Rd7QOfw4PWrcRoPsIPYbjT1nfhViKI2WHjoGOgSNgwFnCgsydKrxXdRrMhCNfsyLrJwHesEraxqt919896zv42EyBs6hxGwhAOPyNxc/yPPtjMM3Goai/jV5lalznmLdtgNf4dpac8z7aXHJ8R28rEJTTfQwq2t9H22Ntsqd3MuGpAis3ZxUHbtqUI+S3rOJUfdLKxJZHNg9zu9mxhelU57nEuCzmdunh1b7vhZa+g4n7s9foO4zDyX5MZpnz5hhmed5+Nx7lCAUfqyyWWjqOVe73HK/XBXgdO4Ygvp9znPPZjvmSke4j3Vck1CV+cKIRYUviN2hTzoRfXq12LFK8z82JiEMek83/Up9bvCjfOaKx7LGw0f9cmpLVfBAScyfm2QeHJvAi7hVOhxZ34Xvgmd9McButufg2x7Yu8U5dQhsRFHTIDLn9RvJ8Iy8/i2v+YOK9+d5w9n7b0Ce19fJ9vnZoFAMKHKNNgM1AREiIfq5cmhEUk982Cq8f6dH1fAA/ktPXQoSU+5n6IcbamHoBYtxtKpDfnPhLbb1D3ZuToHWBmzalSGeFMwTqIhAIBYJhQUNAyNwtrAiLRTY82i2IXniEiBmp3bCF+F0qV3Nuh/6EVzsdkvkuZcIa+g5hY1qAawuP30yf2eFvqWNb2z6v4v1UgFf4iO+kxc3Yc+UiPNDHpiMRHlUbaOvl+3xNPOnepoV+juGLo2yvNGQEBSK2jcL7eRXBFjOHEgkVQgQAcj9TP8RYG1MvQO3iVgmz2Dvd6ulpPSCaYnUV+JFSoNvhOP95CeBlzrLJgkcRjHggIogJooK42JkZR3A1FkjEiFxeHXW1cWpWbcL2GyN/CIs7XcQ2kPUdNjgBdqnmTwdDfKYvDpBX8djWwMm+U+/Y1JEL8a204xh7rpz3Wj6uxvfgmi8PaOvl+3yN83f/1atgp3ftUS5uibxAlDSDD8izCEwY5Yai8DpCU/4U66ntqR9irI2pFyCPN1//cN1h52endk1EwsxTSAzcAu95hxw5z/rQQLdCVo8ryVyNhbkVn/kNiW88l5/FZ8HVzDFZXWqOc73aEQebiixyou9w4mHWd+DCEVnWV8FtiNpgc+Te72T+yiCu58bBLYX3fbYzFOBVf7EGtX2PPVcuNmk4eu+lsp6Btl6+z9e401iHPPcO3Lu2cWWTjKBAgg9imzMx8o8UbUWa+5n6IcbayM/bFyD6aFPs5bu3D0/sXlA/ytpzAoulXWLmauzMW/GZTYePbEh8lrkaQQSXgjGv9o+4Yyl/87KlXHuVUm66XSnXbnsjIi/rqtB34GaI9XBlHP6+auWP8/GVQLq3eCCWythAdTgMBnKAVz3mtSSPYOy5MiH1wH1wLlbWZhUI8e+eWDhOwHQPhtqkI3t4zSNmvtIwhKBto/By3NOe3WALQ/0M/RBjbUy9AG1fcf+9K1+K94ybE0y9yEJawMOlQuZqLLxD4jPcDHmyBZruJsRnmavZ1Cgge7V/zR1KuemppVy7qZRr10q59selXPvAUq55Xk8pxEn4LYiqnCYotTgYC66jH9t6uDd0KsCrUeDUrSetj9fQGhOjjrD9LB/vX+t7vwA/I3Vx3fdLh4zJy23itul2vYs4VHnPv9HE1f2fERRY2DYK7xdVpNq1MTn9h+QMl/uZ+iHG2ph6AWLcbSrsxPu0D0/o/uzGxTcAACAASURBVOtWux5nc3e4YREzZBQQ4rPWKCDEZ2NGAWE99aZ3LOVvH1cJB+IRfy8q5dqb3VgEWP3YuLT+GJvEqOq/4XIYmArwqhfEfpNjFNTBXdBdIAB+Z9xyiB35YzlQi9c/4wkbB+sVi7+8bhF/0g8jYHSULLKWOKdlOcwdoaWMoOh+2yi89CWPWe0yhebwQzm3wssAcj9TP8RYG1MvQO3iVond4/vd6ulpPHiL6oW+pPjmNGa231EQXwahERH3Y0opj6iLgw0DHwLKURyNheBXb1PKtb9PhCMIiPTxpVy7/Y139b6VEyQCI+ZY6tS//WLjfFu3g//PVYyE28OZjlkcnu8s+8jPGgMsOZw8eIrgACKLVodbYoBCG4FgKklUQB/3ASvx1kesLK0eUK2gcG12k0+qym86i58ppfxa1V2wKGMBaCPzh3cYIR4IyJNuEBBWb8Ro9By/Xy266G60QffmmrkwEVv4flC465e4xUbl66t+hGmoHfJD6liJvxA54rsPrPNhoWhunA4ZLVw1ovVhdQcP77Gx5FD7s51w3/Jj6HfHxYAFxst6aoCo2XVdipMfPYddeyjWw4rLohlmw+TNFlaig3CKJJYiiqLEtoBTZlqwXXsmTxkiT3WIs9TXlh2rtvVBdq3PMDNmBchO/0soT29fyrVfGyEi9yrl2kvc6JeO7bn1dyGeMAYEQn+IALNNehBztOjrS58InP5jrsoaG6OCPGdjNwfExny0neePOOkTsaKXCcLlmbyMD3W1oa0WL/rVv3Fk/Bin8SJcxm4O5uJ3O6S1HH8d0okgHDklGnLyZoeOgZPAgF2hnespARGdxcrHfGyw8OdFPxbDTRZ9llax6MdCt82ibyHbhaASf8CpBR8XQblJRv3ClyzlBW9ZyrW/aojIj9zgPizWYi+pi8AJwGmxxuF8Sv2z+Fu0Kdkt8ObnmYUaztTfB7SE2eJvnPE7nSPR8vuE1VMmHnFN9Bj6q33gtLd5gRigzOKxzoxySfjalXLso5dscIG2mP+Jb7UtnMqiHzvYXRb9bXEQ9ejFLKYWJSImHAsRklhJHAsRgSfjKm5fyq+9TCnXHlzKta8o5doHv5h4IHrqZ4W5HbqdPEKBaNjl4zK8pwidRdwOXz2ERRuZsKirPBzldmPcp5oyTTY/XALdJYJFXwnHFM0IFo7e3B9YcfTZlfDSfWYuiwUk3NBJ+V0QdHiKMCVBMNoUdyIMfoeOgbUY8EF68bCu4QlNlr2UWavYN0z2jg2x6PNJIZfnfGSBiZ1+iDssSBarLOII8Y4Pb2ynH6IM9UO8EyIM/VjwstjinJWVcGlO8CSkiEUeJyDmGQ4C4YAH1jE/XT2a1QF3Y6J52xtmm99cRVIcCjmcsogbIoZMReHSb+K3k/rdWj8QC68FV55xKBeExQJqvH5ni7DfYqivOsyLTr60Wme2hCPuveM2Bh06BtZigBVG2HTHC0SxxsyOldKu4GX9xC0biUXfxx6ig00XfR+DP7tTsmxEko+NxWXTRf+QcuotUba3ahZnC69FmKkl/FnUX7H+ZcJBnCT+GTGhBTsDJzEEpgUWV+K2ffsa8QndSowjOA7EixJ8DCyG3iH1EHe/u00BUY3UvefyvWeXvniKsEDHFN97Tm2SnjKGyP68YyBjgCXKmDKNXJpCc1NoF32iInqQTXb6FgYfdyz6PvKQ6c9Z9C0CFgy6hSzLpdRFPLp56Lxf1SFLfjfEIu/8w+wZ8WgJh5bvU62phhxIhTARqG8IcMN+X6KX4FiGysUzuqwsPvOeIAR+/zmgvyAsCB3iiFPxTeBczNv84ECbu743Nj8/XzdsxHLEeyzejgEPGyAivjm6q5azO8b4ep9ngAHcQTbjyzsR10wofVhkrOTa5Kt2iD5wylFWTD40O0q7fGaA4hb9Zv0QiSUEv/PR0IX4GL24ztbg58ISygJgURGSmYWNne4+gBycOOVD9tH4BbVJXGRHHwpri6qFL+/KW8IRwROJ5fzGZO1jZ8BwErOhGANtfEN9v4JQjZXNz4mjLPIICELCKZEYzfuVNxG5ztg1TpPuxLy9/957Gxjcq/cdbrSNAyOazDG9xtrkJ9Pu+u32jXVf7/zYWOI5nYrzeny3uEqi7KV1oNFXTy8QA5y+WqKR7xEQL9Vn1UWFMhybb2dpN2/3ZsHxAYwpKj+nEo1jo8/CZREYG+exx3fM/v2ODAsQejtQ8afoilo9DUKROY4gHMYudM4PrcSe3qmpXbUoBw9eM1m/EVNSPglDIXnWVL+ejQBkQoizwUlMjW1Ou7haREnbQViIe8Pk2DN5ygR+RIRoiUd8Zyzo6Ak7dAycHQY+o3IO8TK3KW5iV8BxICLHBDtEC+O6I1GPOcZD941o2K2LQBy7dbvpIQKLM7TjxmkiIG2kZ8pzQfHkrVNMi7h7z5mTtfu3Q7do7wIhikNE7LRxEBb5Jc86t4lqLcPCpyTCcrTfV9zjAIbwvsuce92Ogb1jwEKALY8XOad2TEtYT9ltOkfkmPCF1az0mGM4dt8WdgucRZ6I0cLs2rMxWEc41BPKhPmuM1XmgKB5m5xgSNyJOOEolgC6FaIpnIIFns4DId1X6H7BOnF2+dtqr+keQlwXeTFXxgjEw/SRc/RCUe/QKXH086qJMD2jbz442HZOhx5b72+PGKB/oNALFpvyHFv9xIX65AjGG/lYwJ7eznlfjmbHmtecfn3ACATuwWKJaFgsxUCagtdsOI4hGb0dMw5BzKu5Smvj8Z5tqpOga8BB4pqWhMAPQkpXR78BV3C2jpNaN45Q8Gvb9xWL6FBKaR8cSORrH+cEv/5CHLau32PkM822bjA6YGX3+DpfG7chGDtPfahsf3YGGLD7IR+m3PTje+Fj97Dr8JnwHjM0ApHJp+86iTOqHztsyu/sozHHMWwO4YAKIkHm306bpFCfCxzjxMraBu5VLbv2GXkVgUIU6cp8A0MGBFNjxyUhdkRlYWKsPVwaMVUQh5wyof/y1Gjk+f7olOhX3izlI/7MnbUvzzW8+t3VJS4T3000b5yA8C+AM+LQWeJj7U3VudHii/9/X+2brgfQiyL4uDwQc8rX8cz4bSrCSINlqLxtTf9v9Nj/HxUDXrSlQrATg4WSMF6afUyOPNsuiIVYAEWwD9fzJeXd0f6ppHZ94RuRZfxzd60++KzjGOI4Yq4WScEMLQ6bchIOMXPOx7agPk4qFqpt25lTDzFFDFoTZrgOsGhTluMycHf8XuDFbxEiqSjLiMNC6V2M78C9gJ4Zj5H36GohefdooKbbHnVtbNpuzxIfa093Y3WaIV0nFtoeM/+NOUW9fM8q0v1710zSCmFWtjWeiD56ekQMiF1l574EsNxiwgvyi1MfLZrEOQHEB3ZwTBTt8Dy/NPCBTflozJlvSzjy4jhU3/nwdpYO/NkGnPy4qzjzztVUnNjkUICgBoHmD0Mnw/gAB0Ahj8uYI8ZjuYiAEpWJ9sBfpnVOjW8k0imDA++5ckTOIOpYyO3o3VuMAcLrnu/J2FnibXtz6mg7QqOMSS1iXDdG8uJxujdOnLIoBIAeZZdNRm2mJ8fEgJ3VUnoDxCjs/tsXKc9xCVaaqEofdm2fUBWk7lmbcQLDCbEss/N7QmKbnZxnV41bYbJskVCPHHyJceV57nJtVxymqX4fIhYL26a2+0E4LBB0IusIhzHbjVOWW8C3BbvzJeKisabbRHG/7XjV897gMnBodBF25U+v5+wYQzZGCD3GLv3FN4LbsrDqI/8+xrLNUddjR1hPtTdWp50fvBh3y3VFuZjT2L3v0rsomoCyQu53OHMMPLYuvLtOg+z6G2sj7YuU216ClaYw14eFCqFgCOCejNhL6vrDq4zYtfMiAJm1e4tbHLXpHiwxrtrUVkn4M7Ry+Sz2mNtwHDFLTj6XcNghcuxjSYSA7QJEo++0SwOpLsdTMn4OqUtD4Bx3YTMRXMaQpVaYQ7PmspB691h5bfP7mIf3Lt49ugzX8B9gzp4xfgm9R5SXxrXy7b1n7RHWU+1Fn22deB5pfD8hWvS9sfTj8wPacbT39FqeUa4jmiIEdDhzDGDJeRTvuqti3vltFRftizOGom1Zae1Z6Hz0HCDtDomxQLDjHMn8GYudHAgrGaIKoqGxce4yrtrVrCQWJeO3KO1qGdQSjjFZdTs4/hc/VX+/XcN4aBvhWlK2bcNgoWLptwvg4MK017GqRExBCEK5O6d94wkO0TtlYSVmHNuZD7XZvnsU6Z5FWJhtj7qmy2Ht5bvGVWvT9z3V3liddtw4QkdnP6NyS7h77X9+LdjOKWLv4YQDfLcvWhll2Lh2uBAM/MICO0bH2fqQQPsi1cfXkyVYaQ1ZbPXz/jW10wbkxNF/pERZIM5GIMMltop8eUuN60ZPw//16cM21jgLI3w0diHgFrTgxrQ9l3AY5VgwxOEZrH+qb4vV0sA4wkYAvjaBsLjKXIbFPy9qm7TXlg0dlXc/Gzasc4rM75427eb5iXD2ZP227VHXY0dYT7U3Vqedq3viLusFfYhNj9AtYQrdzslvpRwxbIBwScrhrDpcCAY4cWX2eZtpseYS3gK0L1J9fD1ZgpXWENNS/RD5SCOisJ2qe1xEC8GBcKxsOZClxtX2iViFj0bI0i3yQ2KStu66+10Ih7adN4FbsCtfCiwMfpN9AFNii9cUEfG70hchqI7NDZ8PG4R9i0yImoLD8VuH8yIx3FUH3wHO3yZgLMjmVcfR2c6f8s4uYRMWvJ0s1jtMa6cIyBKstF0QT2dOYfqySAQ8sj5jTkkRzLsXiw74NCg/pANZYly1m+vEKxYSOhoLKgseu8wloCUcm/5uPmaLMPyNBUPcdpxEObtuRqb69q7CJ4s/O9/g6uA3uAy/N2MAHvbHghiXzQKfmEzIWousY43xkP2yRCMBEJh1qTOIDjn+3tcaDNBffMyaMlPZHIO+vxYIAtKmsndlpSktyXQRLB6w+vgPaWA4Dw6NdoDML59ZSqEbAE5ixKGQEbPCivHJ23VcdAeIBoupcC4jKlnSM57SN4uqNiUc5on7+oEqx95E1HUdgTP++U0+c0a5XYogDL9Yf0s6r7CQwmVsq9TeZTxz6obCHvHbxbJuTl+9TMfAwTHAZpwidVtgmfEj21beoB4T3iV8Vyy+CMgugSRD/m3HS6EvtQNfemEm7kKYjNWOdhvCAcWUqnbDuI+QW2+A+llFcXlTPg2zGmkK4ZjojnAZsQDrx24W1zEkrmyaOKlbcbNa3x4c01yH0JOaTB9MxwAMUOJynHrzLdFB9r1v2SYZOD3GtiwwDolCnec6vxUEZNNYYHa/4blsJxkWOHPOitgUtWTnQTgsnrtYSBH70Xcwb94nEC0iVLuC3zqc+iin6RMQPlxGiIAQFuIyXt67hm/fdbzb1s+ca4Sk8VtvEohy2757vY6BRTHAQsLhU9sAa55dOJg5fbIfHwvcNqd+tjZBiJ5URTrr6obZZux+LerEVftSygbhIJ7ZlXDYGGiDxYxd/D4BV0M8uI0YKbgMHBZiEeaxiPVUeBrzE2OKxzeO8JwBDsLggplxiOY828VK75xx0sd+RhgQiM8udROb+JiesyJ8+PsCTkj0GtuKbzYdV/homFP4aOTd76btzSmvT8QpCAernl0ggiHiDA8hHmEkQD81F4yJKAcXx4ghuIxtouQikrifdeazc8d2CuXyO8hKMHxW9rVxOYU59zGcOQYoncX83xRY84Qz36Z155Tn3cyyal+QrWbakN/73v0tTTjgiKjNgmzR2YYj2AbPTLmF/xgDoifEgSjK2GxWQgQ4FdhxrL32OSKCgB3T+qod01L3DEFCdLpPfdtS4+3tXFEM8CgXenlTsPsUeG4fQBZuwVla8ZtFBnwGiAyIUA5lty9895IcR+D+XWswxF2s6qKtTdJPXelpHtVUIP6z8CEUZPx+RzgmTtsHYRaihjPeJesQWNKFfihb/M0J5d/8PP22Y2BZDGCPWftsGg9JeSaySwMLG4Ht7FyXAO2FjwZREb2Gneu2ivltxrQvwmEsFmvzYlZ9aBBp9eOroju4DO8SImnBy8EC9zk2DpKiCYdz6T77Onbb3meiVZEZ/O6xCdq3vuvY8+79nzAG+FVQqG8CZM92fkuDcXxzapQ4hsnwB2zgY5EtXfKObUo5m7pc7JKeyGJKp8JHZEnzU3or0ZB5ai8VpmPuxPk4IFys0ijRgyjvi8uYMy6HO1lQlwrqOKfPY5fJYljSABsvhGXfurtjz7v3f2IYYIbp5dtEZMS2nRhoScCSW5SCG3IYDWUrGTBCIFibIHRD8nNsflbQho/GoXbBGQ8IBxEORejShEM/cE9H9O07mvrmMU9dU+5blHAZdrzeFboWvwuR1akALgwHFAEKT2VchxrHmPPiPkzODzWn3s+ZYOA5dZGYO1wLM9PLJeFbVtE/H14bJI7gwxHe45EKnihMhN18dtDKPhrH8hHgU4Nw7IPjCDy/VV3AieH2oVOIfoLLCKfJCH0eohLOk3QcpwZMt1nvXfWzJ5y7PuS8uGSkhFP77ft4jogBp9HZ0c4FobJxBUuBU93s2MN5jlgkHxMaBEQq4icnSESDiGifPhpz5ncIwmEcEQxxac9vbcN7yNYRQEQal0GXMUSQ376eqTIHP4cuw8qNX8U+rfgOPadd+guRrt+TmC8MG5aOi7bLGHvdM8cANpcHMFHQHKB8j7Dpc8pPlbGTfm5drJSj9xDqOhON9hrHxKrqmIBLyhzHNv40c8ZvnvRU5NxLWhuFyCOCEgaXMSdyMM9+50OcKhCt2WQ86FQHeKRxhSUicaQjBiLoY3dePNIPckndUsrO/eAs+jiBJcAJbTiOEMlYiLXdEo18H5GAl+h/0zaCcDAioOPYF+EwLvoeIVmIknZ1qlzqgCXj+oJqzbYp7g5Zni6Nn8i+gz0eck5L94VbIw71/RFJB0e/z3d66Tn09k4EA++4kh0/b4OxCNe8K+B8mGCGbD3ai9DtmWjEtTPOWQEdGnjH4zgOQTjMDbeB67Bb3MTAIeMlFojMZSB6u1puCW7oULFThzlnipz6HA41PgTXdxV6r2Maohxqzr2fhTHAysZRlnMAl7DtwhbtO1+ZbLYFcn5newTRiJRehHx7SC7ftrHUPf2Mjwnh8IFFcL+l2h9qh5c3iyKiok0gnM7gdJ8HLDko6Fxk6Aw+frIeq7rr+7rJb3HOZXG+Q86Ll+j1f86/08mNXfh0h/fMATqQXeL0kMFThA9ZhuBIWPkw3f2LSkykFO1L6gGm5okjQziYrR6KcBDjESmY5xxCbkGEK3WCyzBm493Xx67PXX/7KbzvI4/4jiiQpd8hNgD7mMOx2szOizmCg/cuxM7HGlvv98QwwPzPoh7WUFPDY4Xlw9wWnrZyRPu0gcoc/iyg/EBwGkwyEba7HUhxfgzCAQ0+VE6U5NFTwRD9RnaHYVWDayTmYkV1iDhYCD8R47mBzY6zZb674vrcxn8K440Ni/A0rLlw5d5DlpCHePdOAQd9DGswQL49R3RC6bato54zOoRCaZV1FlEWWXOV+WumslE2L+ZDcxwxwFevH6SPseXqWM4El4G4hM8LLuMY8ZAQdovwOQJcOhPGYWiHFIOeI67mjDlb8kVIfv4nHbdzsHehZSwQPJ3XAXaWM9+m4CMWyZecPwN2+Fu3OPQpt7HNtVApCAeTxkOJqvI4mVDCZSaa8Boy6LEDlnIbh7gWQPPRNXyKkPGI3jmC9+wxdaMy12z9HOd56DGH8yJDE+8skSqDjUsKuX9onJ5lf9hUIqR1SlIOZ9vEl3pAfbla5DysKjtbrqQtt9T9sQmHeSBYnLscMYzLCNFA7Obkb4PjpXAU7Ty0lML67e+rYYNUHCxixXMFuP75lXKdpVaHZTEg/E0OYhrOi4eKfL3sbHprG2PgkStRCgupKSCCirhVU+VyHusO1kXMSzPgeiirD/Ex2/HjOJjIYrdxRIcGilzHsyLUz1jggKV9jt95MUNhZVjGeb6rSfA+x76ubcYHzo3fl8HBuv6vQr7vyzdHT8cvJzsv2qyOgbVFcEh6Fn+PPZHN1Nh4+/OEAZ68dsZTijELMLHGJkB04EjSDDyfERU78H2ClxhbTel8DMIRByz5KOzemSlT6hrLUIDIfeJik7YtsGFG3aZ8gb5mk8ZOsKyQ9DYvhwzxf4JoONiQwjcpOy8S12aDHIYsgnX+Q3r3vGssM895w3IwJJ9CRyLfYkPHgB5jnZgr10UonEqXz7Img8bJfEguuPA1wmEuxyAc7QFLiK4Pg7J8ave1MAp2as6H2xKOfL/Pkyl3GvgGle9dHVrFNetwOAyQONhAkQj4LqRE3AhFfsfiGkHhg9ThDDAgeN93TYyTXFPo8rng5EO7vQDcDWuYR8SDhVOE44fr2dmH4jjCZh67Dj84qzhg6aMrAT0HD+78U/zlyMccH/Wzc+EzvrZZwnXb/XY4PAYi1I5vdiyQqncO976p5OPws+k9XvdLoMwdU+L+1Mqc861n4smBP7/cOHFxWCTCWdoZ6dCEgykjZTfrkzjAimw9HK3IgBEUwevOUYn4VaUUYfSDYOT0WGFlZr52GxeLM0X41HQ4DgYeWMW7+T3L1xyK3/84Q+u9booBi4fFcAiYcgrrvQ74NVCe5YN+sKlO08tyz3XtrMtHOHA0WNx9chxjByyR47YBD90/vZ47v63PzLp57zufU6MzNsICKz5mOhzm3pfm2e1MEZyIUzA7HB4Dd6nirHjP2hQB8Rt1OAMMkAnzOh7iEizWTGHXwWeUUjgnBrxrjWe1qQVX1G/TlnDsQ7cQXEbIainjg8toxxP3lLJ0HpTmx7D0inEskQo34/dGNIgQcB6MIeZELFii/0O3QdEr5pqNSIfDYoBomx9JSzjinuXi0Hp02FH23mZj4OdWugSLfgtiC2H5p4CSjBjs9Wuh16672TtPVZqZh3D8aI0g7ENfknBsesBSO2RmyfQfl7YA4agYBrTe8u38L+HeUc/MRz+2mQwHyqsw/2baB72lh2IinnUhFOiU607l7HBGGCBuetLAeJ3JkcVSA0XK41ciDmdHAOENiJfaD7Jmz07Ip3+6Eg5io6V2IzksA4uQ4DLmHLAUgzcWnIld0hJsNv1T7LykCHBAPHcf15cmToq5HivFJePA/abEubgvfyJRM5Jo/ZmONc5L7JeBDo6fXtFm7HFHCt1zibg96Jycf/3CgbhX3zkQjiQPzPkZZOd2rbgDuoAvzQU2vA7CwWx0CcIRVh9Maokr4hhX1jisqTYFdVhcsW8fijC8aXvKCySJOMC/9F6pkSAaHsV1JyAJQQtd+i3thlsdkN0xC7VNTNkXGlJvpmPgvDAgSuz9myE/Zc2hQhSsIcJhhfQDWypcEQ4BFpcgHOHEhLsILmOJA5aINX62+ncsKd4QewpxoEeRcsQMCKLhPq5FLaZktGvGUeW8entzWfeCMTJmoNMQ2kP4/GhLGhDP3BPvfWXdFVpYHW0r/AzjAuXsFj+76kuUH+vDpiK3q2y+H+snxnSo1IbCPGNsOUVE+Bh16BjoGJjAAF3HzzT537YSSX1Q8yxuP7Sy+BYJ3AIrrE2tkBAOff7iDhzH1AFLS8XcYkggGOKYtVrgZJvUQUgWLIRPipAGxELmPq6JB0VSds+sOOfV25vLuhe8Utn71b9oJ9KhOoiH/A8vpTiO2PVDqijRNZPfB1eCMtWHvG36iTEdKo35xljbFNFdUv92qHmdYj9TIts83vgN8rN+fcIYINvnMe488IBvbEQq8dxOlPKRkpufiB3pJv4PuxAOH3KEPg8ugxyVn8Y+4h1FMESmh0sDToasnRgQCLdhcQ7Clz+iuEak/blnvAAir97e4l5kAPlCqRA1RtlIh+owcZVPp+XPdXgHR70cpXmsj3Vjm+onxnWIlKg25jWU+o22EXkeYuzn1seUyNZc6EHyb7Dr/KK9Xdvp9WdgQLTcLEL5+rrbbavyLKcLsJugTL5HW2DkHuEgBiJS2UTHMXXA0q7iJGFXzNm57RZk3vQIFF0DsRLuKCu2R6a21eM7NR9LfDjOLQFxn68RUCbD8hCbnFdvb1EvwpSEmXG2etFGQO5ryKmQiAdEuWzYMNZHLn+j9ovru5/qJ8ofIiXiHDpeOeaK0HVYBgNzRLaBdylgLee7pGynk3LNUz1EqjYwOGV6ROuRyNcgt+N6rJ1avCe7YoAy0Y8RO2Ce5MJzZCDvduARHwiWUp+SMweuLTRkzAgHz3bXefEZqHJ9gQwuY58HLCEeuCc7zHjZLLD0BXQM37GwI2Q710+t/T6qZoiObBxximOMSXZcE9kZt/vgXGIB97sFdyIfIIqucSA5b6oOTlSdoV2359F27WK0D/nb9hNtHyL13rO8irnlFOFc944fYoyX0seUyNYcM+7jPVOHgYM1AXHwXHgd64hr79jHrEL337PePy8hK9rzaKydVLxf7ooB4iD6DUA23CrWydQ/q549TcQ1BkE4mEI+Z03QRm1MHbA0FTF4rP85zzk/Du2C46UM35Y5bW1Thg5DXxFoMth7xgsgv/xxnXUZuEAghIx8xFl+zEmeUDLyPqr+lsGBTNUR6l+dj1z54fDnsTv3XoAYR729noz1IXPbfnL7h7h2gqbdbRgZWJTCgGDdhucQ47uEPtaJbM0x3q9I23nb1MjzjoMox5LUBsq93y4g8uM+0radeN7THTEgBg1rKvBlK49RcWsCOP84ZIoFDmoenErkS4NwcE6cIhxEKnYULIMQGTtlC+qhDlgiopoSW3hBH54ntodrYjMveFhT8Ulw7zmIl9+H5/qvVx+Og58sbCzW4sTA96pmyrx7LfqhkyDuQgRxU3bYFOFBQKbq+Lj89jgci+ozkxgvxlSHeD0Z60Pmtv3k9g91jbOzYWL27R33fnZYDgPrRLZ6ivcrUs+IvungEIZ4f+WDueC/yQAACTJJREFUXG7d/VQ7N1rr/3fGgN2+hYPc/0sS+24xYiHEaZBPRXuMZSYciIvdcAtiLjH7RSjIKxEO5r+U8drfJ/CY57diXJ9QSvnqJF6Jl7BN6YAuDWKO+5zXIfrY5/h72/vBwDqRrV7j3YnUM3oN9whQ6D3cg1xu3f1UOzda6/8XwQDCgTNALJhrAiIQCz6dwdvWZxILv0XZ0aH0FZlw2OUjDhH63M4Y8UBEljxgSVvMYO0wcDDGbhfJSssZIXbfFHCuPZP3hWsICO4Eobk0aD+4fczvEH1sM+4Yl5QvjZMi53IZUVe/+XqbcajDqi/aadOpNoWZUV4EiIDwIfJeB8hXblcDkBhbtLtLuk5kq+0QIeZ+w8lW3D7rUZTJVoUxrlwvt+eQqql2on5PF8DAG9aYNHw7iD9YZ7FEQcFDPzJGONoDlhAdC7oPdVNZMm4Ip6MuwoQ4IEZk/wgBz3Ivk7Hph5zeR8RfA5FCUIiHxnQozkLBFsdLl1Oim5bLWgC1R28i5rjPgRyij23Gn8fFIod+hlgQZ7oOct18va7eWD5LxjBj1t4QjJmgEnGGWbV6DFS0YT4BFMkkBdtA7neJucYY1olslfN9Z6MWz2xeiWdtAolwidXdOz6hHV97H+0x/JlqJ8bY0x0x8Gr/tJQ/f7VSrn16KdceUcq1Nyjl2h1uyB7JxYNwMMXFcXA0tFAHl4FDscAz02X1Mwb0J0EclGVKqQ27FO22xMFzOy3EQXmcDeIQ5qlj/Uw9p7jXD6urePHCCouzXofLwkD8xjGrsNphBACmzDxz3Xw9VkecNJEabETorGx4sq8UPSNjidxWHcb1JJ5HmvM4+L6o+ugQ6bBQYm7u3cWNC+EjMOG3VD0lYxgcF07cBouOK0RBvtccVSD6y6m2hsxk85j6dcfAda+xF3xcKddeVMq1a/XvplKufUIp1+54IzSI8OV2+0J9W9TtCiz4FvbgMrygFneLvMVensVfeXXtvHAOFm91PUc8EBHltYO47Fsv4ienoMZhGRdvc2KNOWeg9Nfl/DAQi2KMPMya7WbBlJlnrpuvx+pwClUON/8OldMR3RrY9FjMmQfntmr2zclYnlM/5TFpZSXn+pNqyifr3eo1jp0YWr4IBhFVgNk4aYDnjEVyVAGde+4vrhGobCZ7CUcc1+n1ZEkM3O3lS7n2d4l4BBH5m1KuveyNl4oeA2ssUi9FNFbcrob4KIgDsQDiYNeFG0EcvMzEUEEclhx3b6tjYA4G8sKoPNGmZ9nsM9ppzTxz3Xwd5aW5ToinfCMW+myxKHqDNnAp0VZOo814FveR4mTkMadnWed7EzEAMeBL5Hwe+bgj36Fr/kO4E9csKYFrfzmqQH6er8fMZK831P91DMDAF79PKTcF0WjTu9942XAOZK4i72KNvcDEPWJpcS7EGp8axIcSaZgMx4FX8fxQ4z50f4ea16n30+I94jJZ7MGUmWeum6/H6uAEYvFWHqd+79rPgyoHzsgkt1Wzb07G8nAPuCabNnq8H681OPbicnybNnogTNVxPdGfZyDab3WT8TyXuVHjxXXivqcdAzdj4KHvMkFA3vOGjNUO59wgfxA+pPvUjyc+vJx/bnPr452PgfZ3pr/zjHMsmDLzzHXz9VQdbdpU8SdSJxZ1IlsHpYHcVn10czKVJ36X9iimcfiAWJlOw/NwRg1RGu4Dp6HN36rlx9rPz/O1au19baonHQOlvNLtS7npDwZEWH9SyrXb33h5zvFshPalD1ED5SaQP6YoJHoYUkKqNxaOPBSUPuQh5WOMR8gQHzOiRkSgPDHgIXQ/N2Z+tf4H3s0a98mSCUcdyu0pM89cN1+P1RFqg56DyJYoSR1WjYCfVRzCltuq2TcnxiafCWoL4VMhnzEAENEg2qMTARFVICIRyGcVCaJsvb05yf22Zdr7myv1i44BQtxnvUkpN/1OIiK/Xsq1Ny3lptu+eNd0bpjKL73FOZSJPKyB/DFF4ZgSUj2ERd2xsOdk61n5GDF6YjxMol07RIqRASsaCtcO+8FA4F1KjIMLyAYTU2aeUdfI8vVYHWUo2C3GNiosspgLMy6R50jktq366OYEZ8GklQlqCwhTjCN0GKJRx7OIqm0DRA+DmLEI855FANIo27ad+23LtPdt3X5/1TFwm1K+63al3PQ6pdz0WqXcxIT3Ni9mic8RPfHSR0oe/bTk5xHPhxSFIcceUkKGonQq7PlQm9Ef2bOQL0Lj44CeeI7I7WPuGOgYODwGYhHZZ8+hJIy+NvFKvUM1qWVB4nodRB/ryh0jf93Y2vx8P6WEZPUSZSPNYjHPAiLffb6OAIoIiN+rQ8dAx0DHwFoM5EVkbeEtC8TiFHLafN72lk2OVjvEfEY7X5Oxbmxtfr6fUkJuEvY8t5mvn1zFKcRdvGw7dAx0DHQMrMVAXkTawlOK23UerrmtocNb1il4cSmUi7yz2Zk7V9xY6Q7GlMb6zPOZKrfJ+PNcdrnOYxtqp83P91NKyMibE/Y8txnXTD1dc7T8/OqPkOOMDY21P+sY6BjoGLjFgtuiY0pxGzviIQ/Xth1KPAtUPm87PFDHFLxMDNVxkJTQ1rHYaXtMaSxvbrlNxt/OZ9v7PLahNtr8fD+lhGTNNTfseW4zrpmACkLJPl8/vPzFHhOKokPHQMdAx8AoBmIRGSowR3E75OGa25o6vCX6HlLw5hPs4uQ75cEcpfG6ctHGuvHf6LH/7xjoGOgY6Bi4FQZiEb9Vxhrv0SkP19zW1OEtbd/5Hmfinm8CsVXOm6s0nio3d/x5Lv26Y6BjoGOgYyBhIC/M6fH1yxDzDHmPRtkhD9fIk4aj0dB5223f+T44kHz2tnwwV2k8Va42NeihG3k97RjoGOgY6BiYwEBetNtioZwd8h4V/2bMwzW3E7qMofO2277zvXPC3Q/pQGJc65TGU+Xmjj/PpV93DHQMdAx0DCQMxKLdpopMKW5ZMQ15uKamr19OHd4SfUadfO98axwEIsUKK+fNVRpPlZs7/hhbTzsGOgY6BjoGzhADcWSkAG0dOgY6BjoGOgY6BiYxIBw0b+p3r2HacSA9xMYkynpmx0DHQMdAxwAMZBEThfqTVv4fFOodOgY6BjoGOgY6BjoGOgY6BjoGOgaOiYH/D3I3nHrDv05HAAAAAElFTkSuQmCC)"
      ],
      "metadata": {
        "id": "g-kd3zhli1of"
      }
    },
    {
      "cell_type": "markdown",
      "source": [
        "Задача размещения хабов состоит в размещении хабов и построении сети хабов (построение соединений/ребер сети) с целью оптимизации затрат/уровня сервиса.  \n",
        "Хабом называется объект сети, который обеспечивает распределение, соединение, переключение, консолидацию, сортировку или перевалку в распределенных системах много-ко-многим."
      ],
      "metadata": {
        "id": "6agYkuVkVnVm"
      }
    },
    {
      "cell_type": "markdown",
      "source": [
        "Выделяют следующие преимущества использования сетей с хабами:\n",
        "\n",
        "- Экономия на масштабе (экономика масштаба). Консолидация трафика на хабах позволяет сформировать большие потоки между хабами, что приводит к меньшим издержкам на трансфер (например, более плотное заполнение транспорта в перевозке сборных грузов);\n",
        "\n",
        "- Сокращение затрат на установку соединений между \"непопулярными\" или труднодоступными направлениями;\n",
        "\n",
        "- Повышение уровня сервиса за счет более регулярных отправок;\n",
        "\n",
        "- Сокращение затрат на управление сетью.\n",
        "\n",
        "Задача является актуальной в транспортных, компьютерных и телекоммуникационных сетях. В частности, авиа перевозки пассажиров или грузов, почтовые отправки, перевозки сборных грузов, службы экстренного реагирования, сети маркетплэйсов и другие."
      ],
      "metadata": {
        "id": "1vli5C0Da5xB"
      }
    },
    {
      "cell_type": "markdown",
      "source": [
        "## Математическая модель\n",
        "Так как проведение реальных экспериментов на реальных объектов безумно дорого, то используются различные модели, позволяющие оценить перспективы того или иного решения"
      ],
      "metadata": {
        "id": "-3_5FBVZV4iH"
      }
    },
    {
      "cell_type": "markdown",
      "source": [
        "Рассмотрим две наиболее популярных модели:\n",
        "- Четырехиндексная (Campbell 1994, Skorin-Kapov et al., 1996)\n",
        "- Трехиндексная (Ernst and Krishnamoorthy 1996)\n",
        "\n",
        "Эти модели отличаются отличаются решающими переменными"
      ],
      "metadata": {
        "id": "v70E7wVDWRxO"
      }
    },
    {
      "cell_type": "markdown",
      "source": [
        "#### Общая часть"
      ],
      "metadata": {
        "id": "WB2MDpr7XJRX"
      }
    },
    {
      "cell_type": "markdown",
      "source": [
        "Индексы"
      ],
      "metadata": {
        "id": "hq4MAISKXPMe"
      }
    },
    {
      "cell_type": "markdown",
      "source": [
        "N = {1, .., n} - множество узлов  \n",
        "K - подмножество узлов в N, которое может быть выбрано в качестве хаба"
      ],
      "metadata": {
        "id": "cpxIxPxDXDj-"
      }
    },
    {
      "cell_type": "markdown",
      "source": [
        "Константы"
      ],
      "metadata": {
        "id": "mXsCrWyGV4f_"
      }
    },
    {
      "cell_type": "markdown",
      "source": [
        "$w_{ij}$- поток из узла i в узел j;\n",
        "\n",
        "$f_i$ - установка хаба в узле i;\n",
        "\n",
        "$d_{ij}$ - расстояние между узлами i и j;\n",
        "\n",
        "$\\chi$ - стоимость консолидации потоков за единицу расстояния и единицу потока;\n",
        "\n",
        "$\\alpha$ - стоимость трансфера потоков за единицу расстояния и единицу потока (между хабами);\n",
        "\n",
        "$\\delta$ - стоимость распределения потоков за единицу расстояния и единицу потока;\n",
        "\n",
        "$O_i = \\sum_{j \\in N} w_{ij}$ - общий исток из узла i;\n",
        "\n",
        "$D_i = \\sum_{j \\in N} w_{ji}$ - общий сток в узел i;\n",
        "\n",
        "$F_{ijkl} = w_{ij} (\\chi d_{ik} + \\alpha d_{kl} + \\delta d_{lj})$ - затраты на транспортировку потока по маршруту из i в j через хабы k и l;"
      ],
      "metadata": {
        "id": "1UDDjCmDV4Xm"
      }
    },
    {
      "cell_type": "markdown",
      "source": [
        "Размещение хабов в сети является целесообразным, когда $\\alpha < \\chi$ и $\\alpha < \\delta$. Здесь $\\alpha$ моделирует эффект масштаба.\n",
        "\n",
        "Иными словами, размещение хаба целесообразно, если переправка потоков между ними будет дешевле, чем напрямую из узла в узел"
      ],
      "metadata": {
        "id": "ufvnOrHYYjIh"
      }
    },
    {
      "cell_type": "markdown",
      "source": [
        "Переменные"
      ],
      "metadata": {
        "id": "EdMLQH3nYuVf"
      }
    },
    {
      "cell_type": "markdown",
      "source": [
        "$z_{kk}$ - бинарная переменная, принимает значение 1, если k выбран в качестве хаба;\n",
        "\n",
        "$z_{ik}$ - бинарная переменная, привязка узла i сети к хабу k;"
      ],
      "metadata": {
        "id": "hQhSwtw3ZDAp"
      }
    },
    {
      "cell_type": "markdown",
      "source": [
        "Ограничения"
      ],
      "metadata": {
        "id": "uCSiS1-0ZC-Y"
      }
    },
    {
      "cell_type": "markdown",
      "source": [
        "Каждый узел сети связан только с одним хабом:\n",
        "\n",
        "$\\sum_{k \\in K} z_{ik} = 1$, $\\quad \\forall i \\in N$\n",
        "\n",
        "Связь узловой точки с хабом возможна, только если узловая точка выбрана в качестве хаба:\n",
        "\n",
        "$z_{ik} \\le z_{kk}, \\quad \\forall i \\in N, k \\in K$"
      ],
      "metadata": {
        "id": "2IVY4Mw_ZC7_"
      }
    },
    {
      "cell_type": "markdown",
      "source": [
        "### Модель 4-индекса"
      ],
      "metadata": {
        "id": "hTYHMtMdZC53"
      }
    },
    {
      "cell_type": "markdown",
      "source": [
        "Переменные"
      ],
      "metadata": {
        "id": "GMUdJVW6ZpQQ"
      }
    },
    {
      "cell_type": "markdown",
      "source": [
        "$x_{ijkl}$ -вещественная переменная, доля всего потока из i в j, проходящая через хабы k и l;"
      ],
      "metadata": {
        "id": "I4BJuiwoZpN3"
      }
    },
    {
      "cell_type": "markdown",
      "source": [
        "Ограничения\n",
        "- Весь поток из узла i в j должен проходить только через выбранный хаб (первый в маршруте):\n",
        "\n",
        "$\\sum_{l \\in K} x_{ijkl} = z_{ik}, \\quad \\forall i, j \\in N, k \\in K$  \n",
        "\n",
        "\n",
        "- Весь поток в узел j из i должен проходить только через связанный с этим узлом хаб (второй в маршруте):\n",
        "\n",
        "$\\sum_{k \\in K} x_{ijkl} = z_{jl}, \\quad \\forall i, j \\in N, l \\in K$\n",
        "\n",
        "- Общие ограничения (1) и (2)"
      ],
      "metadata": {
        "id": "x3is2XaBZpLQ"
      }
    },
    {
      "cell_type": "markdown",
      "source": [
        "Целевая функция  \n",
        "Минимизация затрат на установку хаба и транспортные затраты:\n",
        "\n",
        "$\\min \\sum_k f_{k} z_{kk} + \\sum_{i, j \\in N} \\sum_{k,l \\in K} F_{ijkl}x_{ijkl}$"
      ],
      "metadata": {
        "id": "AvOJjNY5ZpJH"
      }
    },
    {
      "cell_type": "markdown",
      "source": [
        "### Модель 3-индекса"
      ],
      "metadata": {
        "id": "oj_7r3aHZpGn"
      }
    },
    {
      "cell_type": "markdown",
      "source": [
        "Переменные\n",
        "$y_{ikl}$ - вещественная переменная, поток из узла i через хабы k и l;"
      ],
      "metadata": {
        "id": "L5YZiyTtZpEP"
      }
    },
    {
      "cell_type": "markdown",
      "source": [
        "Ограничения\n",
        "- Балансирование потоков (flow conservation constraint). Рассмотрим входящие и исходящие потоки хаба k. Входящие потоки $O_ix_{ik}$ и $\\sum_{l \\in K} y_{ilk}$, поток от отправителя напрямую и поток из первого хаба соответственно. Исходящие потоки $\\sum_{j \\in N} w_{ij}x_{jk} и \\sum_{l \\in K} y_{ikl}$, поток напрямую к получателю и поток на второй хаб соответственно. Если свести баланс потоков в уравнение, то получим следующий баланс потоков в сети:\n",
        "\n",
        "$O_ix_{ik} + \\sum_{l \\in K} y_{ilk} = \\sum_{j \\in N} w_{ij}x_{jk} + \\sum_{l \\in K} y_{ikl}, \\quad \\forall i \\in N, k \\in K$\n",
        "\n",
        "- Общие ограничения (1) и (2)"
      ],
      "metadata": {
        "id": "HjQ4MBzjgbZ1"
      }
    },
    {
      "cell_type": "markdown",
      "source": [
        "Целевая функция\n"
      ],
      "metadata": {
        "id": "BQ4QFKaAgbXn"
      }
    },
    {
      "cell_type": "markdown",
      "source": [
        "- Минимизация затрат на установку хаба и транспортные затраты:\n",
        "\n",
        "$\\min \\sum_k f_{k} z_{kk} + \\sum_{i \\in N, k \\in K} (\\chi O_i + \\delta D_i)d_{ik}z_{ik} + \\sum_{k,l \\in K} \\alpha d_{kl}y_{ikl}$"
      ],
      "metadata": {
        "id": "n0WhvuSigbVd"
      }
    },
    {
      "cell_type": "markdown",
      "source": [
        "## Данные"
      ],
      "metadata": {
        "id": "v8DyCdezgbS9"
      }
    },
    {
      "cell_type": "markdown",
      "source": [
        "Задачу размещения хабов можно решать методами линейного программирования, квадратичного программирования, эвристическими (например, GRASP) или мета-эвристическими методами. Оценку производительности и проведение сравнительного анализа подходов к решению между собой необходимо проводить на фиксированном наборе данных (тестовый набор). Кроме того, новые концепции задачи также сравнивают с существующими, а теоретические выкладки подтверждают практическими экспериментами на этих данных. В научной среде в этих целях часто используются следующие наборы:  \n",
        "\n",
        "- CAB (Civil Aeronautic Board). Данные совета гражданской авиации США: пассажиропоток авиакомпаний между 25 городами США, 1970 год.  \n",
        "\n",
        "- AP (Australia Post). Почтовые отправки между 200 почтовых округов в Сиднее, Австралия.\n",
        "\n",
        "- TR (Turkish Network). Потоки между 81 городом Турции; сформированы на основе численности населения.  "
      ],
      "metadata": {
        "id": "9Wt2VsVDhJK9"
      }
    },
    {
      "cell_type": "markdown",
      "source": [
        "## Эффект масштаба"
      ],
      "metadata": {
        "id": "OKK2fiQuhSul"
      }
    },
    {
      "cell_type": "markdown",
      "source": [
        "Одним из предположений классической постановки задачи размещения хабов является постоянная скидка на трансфер потоков между хабами. Это сильное предположение, которое не сочетается с реальностью. Одним из направлений в этой области является уход от классической постановки учета скидки (постоянный дисконт) к другим моделям:\n",
        "\n",
        "- Нелинейная функция или кусочно-линейная функция скидки;\n",
        "\n",
        "- Использование пороговых значений (кусочно-постоянная функция);\n",
        "\n",
        "- Учет в модели дискретных единиц транспорта;\n",
        "\n",
        "- Разложение функции затрат на постоянную и переменную часть."
      ],
      "metadata": {
        "id": "2apwXZuQhaYN"
      }
    },
    {
      "cell_type": "markdown",
      "source": [],
      "metadata": {
        "id": "CaNk38pQhJId"
      }
    },
    {
      "cell_type": "markdown",
      "source": [],
      "metadata": {
        "id": "Ei0jSqVnhJGV"
      }
    }
  ]
}