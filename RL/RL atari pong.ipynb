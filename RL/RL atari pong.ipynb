{
  "cells": [
    {
      "cell_type": "code",
      "execution_count": null,
      "metadata": {
        "id": "Ue_9rmZ73LLo"
      },
      "outputs": [],
      "source": [
        "!apt-get install python-opengl -y\n",
        "!apt install xvfb -y\n",
        "!pip install pyvirtualdisplay\n",
        "!pip install piglet\n",
        "!pip install -q swig\n",
        "!pip install -q gymnasium[box2d]\n",
        "\n",
        "from pyvirtualdisplay import Display\n",
        "Display().start()\n",
        "\n",
        "import gym\n",
        "import torch\n",
        "import torch.nn as nn\n",
        "import torch.nn.functional as F\n",
        "\n",
        "from IPython import display\n",
        "import matplotlib.pyplot as plt\n",
        "%matplotlib inline\n",
        "\n",
        "import warnings\n",
        "warnings.filterwarnings('ignore')"
      ]
    },
    {
      "cell_type": "code",
      "execution_count": null,
      "metadata": {
        "id": "i9SmAqLa8yZ1",
        "colab": {
          "base_uri": "https://localhost:8080/"
        },
        "outputId": "b176c6d0-4c9f-4a41-e23b-3bf6efa5ed05"
      },
      "outputs": [
        {
          "output_type": "stream",
          "name": "stdout",
          "text": [
            "Requirement already satisfied: gym[accept-rom-license,atari] in /usr/local/lib/python3.10/dist-packages (0.25.2)\n",
            "Requirement already satisfied: numpy>=1.18.0 in /usr/local/lib/python3.10/dist-packages (from gym[accept-rom-license,atari]) (1.25.2)\n",
            "Requirement already satisfied: cloudpickle>=1.2.0 in /usr/local/lib/python3.10/dist-packages (from gym[accept-rom-license,atari]) (2.2.1)\n",
            "Requirement already satisfied: gym-notices>=0.0.4 in /usr/local/lib/python3.10/dist-packages (from gym[accept-rom-license,atari]) (0.0.8)\n",
            "Collecting ale-py~=0.7.5 (from gym[accept-rom-license,atari])\n",
            "  Downloading ale_py-0.7.5-cp310-cp310-manylinux_2_17_x86_64.manylinux2014_x86_64.whl (1.6 MB)\n",
            "\u001b[2K     \u001b[90m━━━━━━━━━━━━━━━━━━━━━━━━━━━━━━━━━━━━━━━━\u001b[0m \u001b[32m1.6/1.6 MB\u001b[0m \u001b[31m8.6 MB/s\u001b[0m eta \u001b[36m0:00:00\u001b[0m\n",
            "\u001b[?25hCollecting autorom[accept-rom-license]~=0.4.2 (from gym[accept-rom-license,atari])\n",
            "  Downloading AutoROM-0.4.2-py3-none-any.whl (16 kB)\n",
            "Requirement already satisfied: importlib-resources in /usr/local/lib/python3.10/dist-packages (from ale-py~=0.7.5->gym[accept-rom-license,atari]) (6.4.0)\n",
            "Requirement already satisfied: click in /usr/local/lib/python3.10/dist-packages (from autorom[accept-rom-license]~=0.4.2->gym[accept-rom-license,atari]) (8.1.7)\n",
            "Requirement already satisfied: requests in /usr/local/lib/python3.10/dist-packages (from autorom[accept-rom-license]~=0.4.2->gym[accept-rom-license,atari]) (2.31.0)\n",
            "Requirement already satisfied: tqdm in /usr/local/lib/python3.10/dist-packages (from autorom[accept-rom-license]~=0.4.2->gym[accept-rom-license,atari]) (4.66.4)\n",
            "Collecting AutoROM.accept-rom-license (from autorom[accept-rom-license]~=0.4.2->gym[accept-rom-license,atari])\n",
            "  Downloading AutoROM.accept-rom-license-0.6.1.tar.gz (434 kB)\n",
            "\u001b[2K     \u001b[90m━━━━━━━━━━━━━━━━━━━━━━━━━━━━━━━━━━━━━━━━\u001b[0m \u001b[32m434.7/434.7 kB\u001b[0m \u001b[31m9.8 MB/s\u001b[0m eta \u001b[36m0:00:00\u001b[0m\n",
            "\u001b[?25h  Installing build dependencies ... \u001b[?25l\u001b[?25hdone\n",
            "  Getting requirements to build wheel ... \u001b[?25l\u001b[?25hdone\n",
            "  Preparing metadata (pyproject.toml) ... \u001b[?25l\u001b[?25hdone\n",
            "Requirement already satisfied: charset-normalizer<4,>=2 in /usr/local/lib/python3.10/dist-packages (from requests->autorom[accept-rom-license]~=0.4.2->gym[accept-rom-license,atari]) (3.3.2)\n",
            "Requirement already satisfied: idna<4,>=2.5 in /usr/local/lib/python3.10/dist-packages (from requests->autorom[accept-rom-license]~=0.4.2->gym[accept-rom-license,atari]) (3.7)\n",
            "Requirement already satisfied: urllib3<3,>=1.21.1 in /usr/local/lib/python3.10/dist-packages (from requests->autorom[accept-rom-license]~=0.4.2->gym[accept-rom-license,atari]) (2.0.7)\n",
            "Requirement already satisfied: certifi>=2017.4.17 in /usr/local/lib/python3.10/dist-packages (from requests->autorom[accept-rom-license]~=0.4.2->gym[accept-rom-license,atari]) (2024.2.2)\n",
            "Building wheels for collected packages: AutoROM.accept-rom-license\n",
            "  Building wheel for AutoROM.accept-rom-license (pyproject.toml) ... \u001b[?25l\u001b[?25hdone\n",
            "  Created wheel for AutoROM.accept-rom-license: filename=AutoROM.accept_rom_license-0.6.1-py3-none-any.whl size=446659 sha256=c2819a48d07a15a562935306522fd616abfeb6c8a60082e5fad0bead4a97d5cc\n",
            "  Stored in directory: /root/.cache/pip/wheels/6b/1b/ef/a43ff1a2f1736d5711faa1ba4c1f61be1131b8899e6a057811\n",
            "Successfully built AutoROM.accept-rom-license\n",
            "Installing collected packages: ale-py, AutoROM.accept-rom-license, autorom\n",
            "Successfully installed AutoROM.accept-rom-license-0.6.1 ale-py-0.7.5 autorom-0.4.2\n"
          ]
        }
      ],
      "source": [
        "pip install \"gym[atari, accept-rom-license]\"\n"
      ]
    },
    {
      "cell_type": "markdown",
      "metadata": {
        "id": "WvHCofDq9V8q"
      },
      "source": [
        "# 1 Занятие\n"
      ]
    },
    {
      "cell_type": "markdown",
      "metadata": {
        "id": "Aem2PIjz-CW9"
      },
      "source": [
        "Описание\n",
        "\n",
        "Известная игра Atari. Динамика похожа на понг: вы перемещаете ракетку и ударяете мячом по кирпичной стене в верхней части экрана. Ваша цель — разрушить кирпичную стену. Вы можете попытаться проломить стену и позволить мячу сеять хаос на другой стороне, и все это самостоятельно! У вас пять жизней."
      ]
    },
    {
      "cell_type": "code",
      "execution_count": null,
      "metadata": {
        "colab": {
          "base_uri": "https://localhost:8080/",
          "height": 250
        },
        "id": "oWl5Gn7M9UIS",
        "outputId": "5e8c6610-dff0-4654-d0e0-b8e714fb8b27"
      },
      "outputs": [
        {
          "output_type": "execute_result",
          "data": {
            "text/plain": [
              "array([[[0, 0, 0],\n",
              "        [0, 0, 0],\n",
              "        [0, 0, 0],\n",
              "        ...,\n",
              "        [0, 0, 0],\n",
              "        [0, 0, 0],\n",
              "        [0, 0, 0]],\n",
              "\n",
              "       [[0, 0, 0],\n",
              "        [0, 0, 0],\n",
              "        [0, 0, 0],\n",
              "        ...,\n",
              "        [0, 0, 0],\n",
              "        [0, 0, 0],\n",
              "        [0, 0, 0]],\n",
              "\n",
              "       [[0, 0, 0],\n",
              "        [0, 0, 0],\n",
              "        [0, 0, 0],\n",
              "        ...,\n",
              "        [0, 0, 0],\n",
              "        [0, 0, 0],\n",
              "        [0, 0, 0]],\n",
              "\n",
              "       ...,\n",
              "\n",
              "       [[0, 0, 0],\n",
              "        [0, 0, 0],\n",
              "        [0, 0, 0],\n",
              "        ...,\n",
              "        [0, 0, 0],\n",
              "        [0, 0, 0],\n",
              "        [0, 0, 0]],\n",
              "\n",
              "       [[0, 0, 0],\n",
              "        [0, 0, 0],\n",
              "        [0, 0, 0],\n",
              "        ...,\n",
              "        [0, 0, 0],\n",
              "        [0, 0, 0],\n",
              "        [0, 0, 0]],\n",
              "\n",
              "       [[0, 0, 0],\n",
              "        [0, 0, 0],\n",
              "        [0, 0, 0],\n",
              "        ...,\n",
              "        [0, 0, 0],\n",
              "        [0, 0, 0],\n",
              "        [0, 0, 0]]], dtype=uint8)"
            ],
            "text/html": [
              "<style>\n",
              "      .ndarray_repr .ndarray_raw_data {\n",
              "        display: none;\n",
              "      }\n",
              "      .ndarray_repr.show_array .ndarray_raw_data {\n",
              "        display: block;\n",
              "      }\n",
              "      .ndarray_repr.show_array .ndarray_image_preview {\n",
              "        display: none;\n",
              "      }\n",
              "      </style>\n",
              "      <div id=\"id-6d8367f4-6790-48d7-8341-596a4960f56d\" class=\"ndarray_repr\"><pre>ndarray (210, 160, 3) <button style=\"padding: 0 2px;\">show data</button></pre><img src=\"data:image/png;base64,iVBORw0KGgoAAAANSUhEUgAAAKAAAADSCAIAAABCR1ywAAACu0lEQVR4nO3dsW0TYRiA4QS5RkxARcEIEQNYLpjGEzCBx0AMQGGloEQZBlEgRJEiygL+IZZ9d/bL85Sn090vvfl8v+SzcnMDAMDZ3c55s91u989zttvtbOcfa+rrj+51yjVfnWMxXK7VUjeec1Jfcv6xzjWpUzPBcYtN8LUbfSpc2mSb4DgTfITRdE7xjD8XExy32AQf+1c/9flLXXNqJhjgYt1e43OFl/MMjhM4TuA4geMEjhM4TuA4geMEjhM4TuA4geMEjhM4bvjKzqW9/snfjb72NcFxAscJHCdwnMBxAscJHCdwnMBxAscJHCdwnMBxAscJHCdwnMBxAscJHCdwnMBxAscJHCdw3PDF94fNZs51cKLvg+MmOE7gOIHjBI4TOG64i35692vOdTARExwncJzAcQLHCRw33EX/fP1nznUwERMcJ3CcwHECxwkcN95Fv3+ccx2c6sfhwyY4TuA4geMEjhM4briL/vz0ds51cKL14LgJjhM4TuA4geMEjhvuoh+/fJpxGZxsffj3hSY4TuA4geMEjhM4briL/ra/m3MdnOjj2j+n/C8JHCdwnMBxAscJHCdwnMBxAscJHCdwnMBxAscJHCdwnMBxAscJHCdwnMBxAscJHCdwnMBxAscJHCdwnMBxAscJHCdwnMBxAscJHCdwnMBxAscJHCdwnMBxAscJHCdwnMBxAscJHCdwnMBxAscJHCdwnMBxAscJHCdwnMBxAscJHCdwnMBxAscJHCdwnMBxAscJHCdwnMBxAscJHCdwnMBxAscJHCdwnMBxAscJHCdwnMBxAscJHCdwnMBxAscJHCdwnMBxAscJHCdwnMBxAscJHCdw3Orrm99Lr+E6PGw2R51/t99PtJKDPtzfHzxuguMEjhM4brX0Aq7GzM/UczHBcSY44ko/YAAAAAAAAFjUMyEkRxlHStXAAAAAAElFTkSuQmCC\" class=\"ndarray_image_preview\" /><pre class=\"ndarray_raw_data\">array([[[0, 0, 0],\n",
              "        [0, 0, 0],\n",
              "        [0, 0, 0],\n",
              "        ...,\n",
              "        [0, 0, 0],\n",
              "        [0, 0, 0],\n",
              "        [0, 0, 0]],\n",
              "\n",
              "       [[0, 0, 0],\n",
              "        [0, 0, 0],\n",
              "        [0, 0, 0],\n",
              "        ...,\n",
              "        [0, 0, 0],\n",
              "        [0, 0, 0],\n",
              "        [0, 0, 0]],\n",
              "\n",
              "       [[0, 0, 0],\n",
              "        [0, 0, 0],\n",
              "        [0, 0, 0],\n",
              "        ...,\n",
              "        [0, 0, 0],\n",
              "        [0, 0, 0],\n",
              "        [0, 0, 0]],\n",
              "\n",
              "       ...,\n",
              "\n",
              "       [[0, 0, 0],\n",
              "        [0, 0, 0],\n",
              "        [0, 0, 0],\n",
              "        ...,\n",
              "        [0, 0, 0],\n",
              "        [0, 0, 0],\n",
              "        [0, 0, 0]],\n",
              "\n",
              "       [[0, 0, 0],\n",
              "        [0, 0, 0],\n",
              "        [0, 0, 0],\n",
              "        ...,\n",
              "        [0, 0, 0],\n",
              "        [0, 0, 0],\n",
              "        [0, 0, 0]],\n",
              "\n",
              "       [[0, 0, 0],\n",
              "        [0, 0, 0],\n",
              "        [0, 0, 0],\n",
              "        ...,\n",
              "        [0, 0, 0],\n",
              "        [0, 0, 0],\n",
              "        [0, 0, 0]]], dtype=uint8)</pre></div><script>\n",
              "      (() => {\n",
              "      const titles = ['show data', 'hide data'];\n",
              "      let index = 0\n",
              "      document.querySelector('#id-6d8367f4-6790-48d7-8341-596a4960f56d button').onclick = (e) => {\n",
              "        document.querySelector('#id-6d8367f4-6790-48d7-8341-596a4960f56d').classList.toggle('show_array');\n",
              "        index = (++index) % 2;\n",
              "        document.querySelector('#id-6d8367f4-6790-48d7-8341-596a4960f56d button').textContent = titles[index];\n",
              "        e.preventDefault();\n",
              "        e.stopPropagation();\n",
              "      }\n",
              "      })();\n",
              "    </script>"
            ]
          },
          "metadata": {},
          "execution_count": 13
        }
      ],
      "source": [
        "import warnings\n",
        "warnings.filterwarnings('ignore')\n",
        "import gym\n",
        "env = gym.make(\"ALE/Breakout-v5\")\n",
        "env.reset()"
      ]
    },
    {
      "cell_type": "code",
      "execution_count": null,
      "metadata": {
        "colab": {
          "base_uri": "https://localhost:8080/"
        },
        "id": "6zzPW1HF4Re-",
        "outputId": "4a8c44d0-c943-4883-f11a-ff33d9692501"
      },
      "outputs": [
        {
          "output_type": "stream",
          "name": "stdout",
          "text": [
            "Discrete(4)\n",
            "Box(0, 255, (210, 160, 3), uint8)\n"
          ]
        },
        {
          "output_type": "stream",
          "name": "stderr",
          "text": [
            "/usr/local/lib/python3.10/dist-packages/ipykernel/ipkernel.py:283: DeprecationWarning: `should_run_async` will not call `transform_cell` automatically in the future. Please pass the result to `transformed_cell` argument and any exception that happen during thetransform in `preprocessing_exc_tuple` in IPython 7.17 and above.\n",
            "  and should_run_async(code)\n"
          ]
        }
      ],
      "source": [
        "print(env.action_space)\n",
        "print(env.observation_space)"
      ]
    },
    {
      "cell_type": "code",
      "execution_count": null,
      "metadata": {
        "colab": {
          "base_uri": "https://localhost:8080/"
        },
        "id": "k4tgl7fwcA3b",
        "outputId": "deedfa59-146a-4d53-b242-ba233448309c"
      },
      "outputs": [
        {
          "output_type": "stream",
          "name": "stdout",
          "text": [
            "['NOOP', 'FIRE', 'RIGHT', 'LEFT']\n"
          ]
        }
      ],
      "source": [
        "print(env.unwrapped.get_action_meanings())\n"
      ]
    },
    {
      "cell_type": "code",
      "source": [],
      "metadata": {
        "id": "THLqbdZqVusk"
      },
      "execution_count": null,
      "outputs": []
    },
    {
      "cell_type": "code",
      "execution_count": null,
      "metadata": {
        "colab": {
          "base_uri": "https://localhost:8080/"
        },
        "id": "zl9Lb9Tytasm",
        "outputId": "be39eac7-0732-431d-e14d-c4530d84e6fa"
      },
      "outputs": [
        {
          "name": "stdout",
          "output_type": "stream",
          "text": [
            "Эпизод завершен после 376 шагов\n",
            "Эпизод завершен после 342 шагов\n",
            "Эпизод завершен после 273 шагов\n",
            "Эпизод завершен после 337 шагов\n",
            "Эпизод завершен после 386 шагов\n",
            "Эпизод завершен после 301 шагов\n",
            "Эпизод завершен после 498 шагов\n",
            "Эпизод завершен после 332 шагов\n",
            "Эпизод завершен после 394 шагов\n",
            "Эпизод завершен после 165 шагов\n",
            "Эпизод завершен после 273 шагов\n",
            "Эпизод завершен после 346 шагов\n",
            "Эпизод завершен после 320 шагов\n",
            "Эпизод завершен после 335 шагов\n",
            "Эпизод завершен после 274 шагов\n",
            "Эпизод завершен после 442 шагов\n",
            "Эпизод завершен после 438 шагов\n",
            "Эпизод завершен после 511 шагов\n",
            "Эпизод завершен после 369 шагов\n",
            "Эпизод завершен после 320 шагов\n",
            "Эпизод завершен после 322 шагов\n",
            "Эпизод завершен после 377 шагов\n",
            "Эпизод завершен после 272 шагов\n",
            "Эпизод завершен после 290 шагов\n",
            "Эпизод завершен после 311 шагов\n",
            "Эпизод завершен после 328 шагов\n",
            "Эпизод завершен после 553 шагов\n",
            "Эпизод завершен после 306 шагов\n",
            "Эпизод завершен после 253 шагов\n",
            "Эпизод завершен после 367 шагов\n"
          ]
        }
      ],
      "source": [
        "import random\n",
        "import numpy as np\n",
        "def epsilon_greedy_strategy(state, epsilon = 0.2):\n",
        "  ball_x = state[48]\n",
        "  paddle_x = state[50]\n",
        "  if random.random() < epsilon:\n",
        "    # Используем случайное действие с вероятностью epsilon\n",
        "    return env.action_space.sample()\n",
        "  elif np.any(ball_x > paddle_x):\n",
        "    return 2  # движение вправо\n",
        "  else:\n",
        "    return 3  # движение влево\n",
        "# Сохраняем траектории для каждого эпизода\n",
        "trajectories = []\n",
        "\n",
        "for i_episode in range(30):\n",
        "    observation = env.reset()\n",
        "    episode_trajectory = []\n",
        "    for t in range(10000):\n",
        "        action = epsilon_greedy_strategy(observation)\n",
        "        observation, reward, done, info = env.step(action)\n",
        "        print(reward)\n",
        "        episode_trajectory.append((observation, action, reward))\n",
        "        if done:\n",
        "            print(\"Эпизод завершен после {} шагов\".format(t+1))\n",
        "            break\n",
        "    trajectories.append(episode_trajectory)\n",
        "\n",
        "env.close()"
      ]
    },
    {
      "cell_type": "code",
      "execution_count": null,
      "metadata": {
        "id": "CQjqOSc10EFo"
      },
      "outputs": [],
      "source": [
        "episode_scores = [sum(x[2] for x in trajectory) for trajectory in trajectories]\n",
        "mean_score = np.mean(episode_scores)"
      ]
    },
    {
      "cell_type": "code",
      "execution_count": null,
      "metadata": {
        "id": "IfMaVr9I0Fg-"
      },
      "outputs": [],
      "source": [
        "import scipy.stats as stats\n",
        "\n",
        "confidence_level = 0.95\n",
        "degrees_of_freedom = len(episode_scores) - 1\n",
        "sample_mean = np.mean(episode_scores)\n",
        "sample_standard_error = stats.sem(episode_scores)\n",
        "\n",
        "confidence_interval = stats.t.interval(confidence_level, degrees_of_freedom, sample_mean, sample_standard_error)"
      ]
    },
    {
      "cell_type": "code",
      "execution_count": null,
      "metadata": {
        "colab": {
          "base_uri": "https://localhost:8080/"
        },
        "id": "h8hE-0Mx0GrV",
        "outputId": "f783968e-561d-434c-d58b-89a019605031"
      },
      "outputs": [
        {
          "name": "stdout",
          "output_type": "stream",
          "text": [
            "Точечная оценка скора (J): 6.4\n",
            "95.0% доверительный интервал для скора (J): (5.245539534421944, 7.554460465578057)\n"
          ]
        }
      ],
      "source": [
        "print(\"Точечная оценка скора (J):\", mean_score)\n",
        "print(f\"{confidence_level*100}% доверительный интервал для скора (J):\", confidence_interval)"
      ]
    },
    {
      "cell_type": "code",
      "execution_count": null,
      "metadata": {
        "colab": {
          "base_uri": "https://localhost:8080/"
        },
        "id": "REnWNkUx0IGJ",
        "outputId": "b63ae24a-9d86-4437-ecec-836e43369920"
      },
      "outputs": [
        {
          "name": "stdout",
          "output_type": "stream",
          "text": [
            "Точечная оценка: 6.4\n",
            "Интервальная оценка: (5.31224414503989, 7.487755854960111)\n"
          ]
        }
      ],
      "source": [
        "# Считаем общий скор для каждого эпизода\n",
        "scores = [sum(x[2] for x in trajectory) for trajectory in trajectories]\n",
        "\n",
        "# Точечная оценка - это просто среднее значение скора\n",
        "mean_score = np.mean(scores)\n",
        "\n",
        "# Интервальная оценка может быть получена с помощью стандартного отклонения\n",
        "std_dev = np.std(scores)\n",
        "confidence_interval = (mean_score - 1.96*std_dev/np.sqrt(len(scores)), mean_score + 1.96*std_dev/np.sqrt(len(scores)))\n",
        "\n",
        "print(f'Точечная оценка: {mean_score}')\n",
        "print(f'Интервальная оценка: {confidence_interval}')"
      ]
    },
    {
      "cell_type": "markdown",
      "metadata": {
        "id": "WOhZwe6jMZdx"
      },
      "source": [
        "# 2 Занятие"
      ]
    },
    {
      "cell_type": "markdown",
      "source": [
        "## Алгоритм DQN (Value based)"
      ],
      "metadata": {
        "id": "JZEMi-G_pckU"
      }
    },
    {
      "cell_type": "markdown",
      "source": [
        "Алгоритм DQN — это метод обучения с подкреплением без использования моделей и вне политики. Агент DQN — это агент обучения с подкреплением, основанный на ценности, который обучает критика оценивать ожидаемое дисконтированное совокупное долгосрочное вознаграждение при следовании оптимальной политике. DQN — это вариант Q-обучения, в котором есть целевой критик и буфер опыта."
      ],
      "metadata": {
        "id": "wYtTtV-L9cYr"
      }
    },
    {
      "cell_type": "code",
      "execution_count": null,
      "metadata": {
        "id": "4eo409Nccdwl"
      },
      "outputs": [],
      "source": [
        "import collections\n",
        "import cv2\n",
        "import gym\n",
        "import numpy as np\n",
        "from PIL import Image\n",
        "import torch\n",
        "\n",
        "\n",
        "\n",
        "class DQNBreakout(gym.Wrapper):\n",
        "\n",
        "    def __init__(self, render_mode='rgb_array', repeat=16, no_ops=0,\n",
        "                 fire_first=False, device='cpu'):\n",
        "        env = gym.make(\"BreakoutNoFrameskip-v4\", render_mode=render_mode)\n",
        "\n",
        "        super(DQNBreakout, self).__init__(env)\n",
        "\n",
        "        self.repeat = repeat\n",
        "        self.image_shape = (84,84)\n",
        "\n",
        "        self.frame_buffer = []\n",
        "        self.no_ops = no_ops\n",
        "        self.fire_first = fire_first\n",
        "        self.device = device\n",
        "        self.lives = env.ale.lives()\n",
        "\n",
        "    def step(self, action):\n",
        "        total_reward = 0\n",
        "        done = False\n",
        "\n",
        "        for i in range(self.repeat):\n",
        "            observation, reward, done, info = self.env.step(action)\n",
        "\n",
        "            total_reward += reward\n",
        "\n",
        "            current_lives = info['lives']\n",
        "\n",
        "            # if current_lives < self.lives:\n",
        "            #     total_reward = total_reward - 1\n",
        "            self.lives = current_lives\n",
        "\n",
        "                # print(f\"Current reward: {total_reward} Lives: {self.lives}\")\n",
        "\n",
        "            self.frame_buffer.append(observation)\n",
        "\n",
        "            if done:\n",
        "                break\n",
        "\n",
        "        max_frame = np.max(self.frame_buffer[-2:], axis=0)\n",
        "        max_frame = self.process_observation(max_frame)\n",
        "        max_frame = max_frame.to(self.device)\n",
        "\n",
        "        total_reward = torch.tensor(total_reward).view(1, -1).float()\n",
        "        total_reward = total_reward.to(self.device)\n",
        "\n",
        "        done = torch.tensor(done).view(1, -1)\n",
        "        done = done.to(self.device)\n",
        "\n",
        "        return max_frame, total_reward, done, info\n",
        "\n",
        "    def reset(self):\n",
        "        self.frame_buffer = []\n",
        "        observation = self.env.reset()\n",
        "\n",
        "        #observation, _ = self.env.reset()\n",
        "        self.lives = self.env.ale.lives()\n",
        "\n",
        "        observation = self.process_observation(observation)\n",
        "\n",
        "        return observation\n",
        "\n",
        "    def process_observation(self, observation):\n",
        "\n",
        "        img = Image.fromarray(observation)\n",
        "        img = img.resize(self.image_shape)\n",
        "        img = img.convert(\"L\")\n",
        "        img = np.array(img)\n",
        "        img = torch.from_numpy(img)\n",
        "        img = img.unsqueeze(0)\n",
        "        img = img.unsqueeze(0)\n",
        "        img = img / 255.0\n",
        "\n",
        "        img = img.to(self.device)\n",
        "\n",
        "        return img\n"
      ]
    },
    {
      "cell_type": "code",
      "execution_count": null,
      "metadata": {
        "id": "BamncYoUcdgI"
      },
      "outputs": [],
      "source": [
        "import torch.nn as nn\n",
        "\n",
        "\n",
        "class AtariNet(nn.Module):\n",
        "\n",
        "    def __init__(self, nb_actions=4):\n",
        "\n",
        "        super(AtariNet, self).__init__()\n",
        "\n",
        "        self.relu = nn.ReLU()\n",
        "\n",
        "        self.conv1 = nn.Conv2d(1, 32, kernel_size=(8, 8), stride=(4, 4))\n",
        "        self.conv2 = nn.Conv2d(32, 64, kernel_size=(4, 4), stride=(2, 2))\n",
        "        self.conv3 = nn.Conv2d(64, 64, kernel_size=(3, 3), stride=(1, 1))\n",
        "\n",
        "        self.flatten = nn.Flatten()\n",
        "\n",
        "        self.dropout = nn.Dropout(p=0.2)\n",
        "\n",
        "        self.action_value1 = nn.Linear(3136, 1024)\n",
        "        self.action_value2 = nn.Linear(1024, 1024)\n",
        "        self.action_value3 = nn.Linear(1024, nb_actions)\n",
        "\n",
        "        self.state_value1 = nn.Linear(3136, 1024)\n",
        "        self.state_value2 = nn.Linear(1024, 1024)\n",
        "        self.state_value3 = nn.Linear(1024, 1)\n",
        "\n",
        "\n",
        "    def forward(self, x):\n",
        "        x = torch.Tensor(x)\n",
        "        x = self.relu(self.conv1(x))\n",
        "        x = self.relu(self.conv2(x))\n",
        "        x = self.relu(self.conv3(x))\n",
        "        x = self.flatten(x)\n",
        "        state_value = self.relu(self.state_value1(x))\n",
        "        state_value = self.dropout(state_value)\n",
        "        state_value = self.relu(self.state_value2(state_value))\n",
        "        state_value = self.dropout(state_value)\n",
        "        state_value = self.relu(self.state_value3(state_value))\n",
        "\n",
        "        action_value = self.relu(self.action_value1(x))\n",
        "        action_value = self.dropout(action_value)\n",
        "        action_value = self.relu(self.action_value2(action_value))\n",
        "        action_value = self.dropout(action_value)\n",
        "        action_value = self.relu(self.action_value3(action_value))\n",
        "\n",
        "        output = state_value + (action_value - action_value.mean())\n",
        "\n",
        "        return output\n",
        "\n",
        "    def save_the_model(self, weights_filename='sample_data/models/latest.pt'):\n",
        "        torch.save(self.state_dict(), weights_filename)\n",
        "\n",
        "\n",
        "    def load_the_model(self, weights_filename='sample_data/models/latest.pt'):\n",
        "        try:\n",
        "            self.load_state_dict(torch.load(weights_filename))\n",
        "            print(f\"Successfully loaded weights file {weights_filename}\")\n",
        "        except:\n",
        "            print(f\"No weights file available at {weights_filename}\")"
      ]
    },
    {
      "cell_type": "code",
      "execution_count": null,
      "metadata": {
        "id": "tVXQHdd-cdcv"
      },
      "outputs": [],
      "source": [
        "import torch\n",
        "import random\n",
        "import copy\n",
        "import torch.optim as optim\n",
        "import torch.nn.functional as F\n",
        "import time\n",
        "import numpy as np\n",
        "from torch.utils.tensorboard import SummaryWriter\n",
        "from datetime import datetime\n",
        "import os\n",
        "\n",
        "\n",
        "class ReplayMemory:\n",
        "\n",
        "    def __init__(self, capacity=10000, device='cpu'):\n",
        "        self.capacity = capacity\n",
        "        self.memory = []\n",
        "        self.position = 0\n",
        "        self.device = device\n",
        "        self.memory_max_report = 0\n",
        "\n",
        "\n",
        "    def insert(self, transition):\n",
        "        transition = [item.to('cpu') for item in transition]\n",
        "\n",
        "        if len(self.memory) < self.capacity:\n",
        "            self.memory.append(transition)\n",
        "        else:\n",
        "            self.memory.remove(self.memory[0])\n",
        "            self.memory.append(transition)\n",
        "\n",
        "    def sample(self, batch_size):\n",
        "        assert self.can_sample(batch_size)\n",
        "\n",
        "        batch = random.sample(self.memory, batch_size)\n",
        "        batch = zip(*batch)\n",
        "        return [torch.cat(items).to(self.device) for items in batch]\n",
        "\n",
        "    def can_sample(self, batch_size):\n",
        "        return len(self.memory) >= batch_size * 10\n",
        "\n",
        "    def __len__(self):\n",
        "        return len(self.memory)\n",
        "\n",
        "class Agent:\n",
        "\n",
        "    def __init__(self, model, device='cpu', epsilon=1.0, min_epsilon=0.1, nb_warmup=10000, nb_actions=None, memory_capacity=10000, batch_size=32, learning_rate=0.00025):\n",
        "        self.memory = ReplayMemory(device=device, capacity=memory_capacity)\n",
        "        self.model = model\n",
        "        self.target_model = copy.deepcopy(model).eval()\n",
        "        self.epsilon = epsilon\n",
        "        self.min_epsilon = min_epsilon\n",
        "        self.epsilon_decay = 1 - (((epsilon - min_epsilon) / nb_warmup) * 2) # Find the right value to take epsilon to min_epsilon over 10000 steps\n",
        "        self.batch_size = batch_size\n",
        "        self.model.to(device)\n",
        "        self.target_model.to(device)\n",
        "        self.gamma = 0.99\n",
        "        self.nb_actions = nb_actions\n",
        "\n",
        "        self.optimizer = optim.AdamW(model.parameters(), lr=learning_rate)\n",
        "\n",
        "        print(f\"Starting epsilon is {self.epsilon}\")\n",
        "        print(f\"Epsilon decay is {self.epsilon_decay}\")\n",
        "\n",
        "        if not os.path.exists(\"sample_data/tensorboard_logdir\"):\n",
        "            os.makedirs(\"sample_data/tensorboard_logdir\")\n",
        "        if not os.path.exists(\"sample_data/models\"):\n",
        "            os.makedirs(\"sample_data/models\")\n",
        "\n",
        "\n",
        "\n",
        "    def get_action(self, state):\n",
        "        if torch.rand(1) < self.epsilon:\n",
        "            return torch.randint(self.nb_actions, (1, 1))\n",
        "        else:\n",
        "            av = self.model(state).detach()\n",
        "            return torch.argmax(av, dim=-1, keepdim=True)\n",
        "\n",
        "    def train(self, env, epochs, batch_identifier=0):\n",
        "        stats = {'Returns': [], 'AvgReturns': [], 'EpsilonCheckpoint': []}\n",
        "\n",
        "        plotter = LivePlot()\n",
        "\n",
        "\n",
        "        writer = SummaryWriter(log_dir=f\"sample_data/tensorboard_logdir/{datetime.now().strftime('%Y-%m-%d')}\")\n",
        "\n",
        "        for epoch in range(1, epochs + 1):\n",
        "            state = env.reset()\n",
        "            done = False\n",
        "            ep_return = 0\n",
        "\n",
        "            while not done:\n",
        "                action = self.get_action(state)\n",
        "                next_state, reward, done, info = env.step(action)\n",
        "\n",
        "                self.memory.insert([state, action, reward, done, next_state])\n",
        "\n",
        "\n",
        "                # QSA = Q-value, state, action\n",
        "                if self.memory.can_sample(self.batch_size):\n",
        "                    state_b, action_b, reward_b, done_b, next_state_b = self.memory.sample(self.batch_size)\n",
        "                    qsa_b = self.model(state_b).gather(1, action_b)\n",
        "                    next_qsa_b = self.target_model(next_state_b)\n",
        "                    next_qsa_b = torch.max(next_qsa_b, dim=-1, keepdim=True)[0]\n",
        "                    target_b = reward_b + ~done_b * self.gamma * next_qsa_b\n",
        "                    loss = F.mse_loss(qsa_b, target_b)\n",
        "                    self.model.zero_grad()\n",
        "                    loss.backward()\n",
        "                    self.optimizer.step()\n",
        "\n",
        "\n",
        "                state = next_state\n",
        "                ep_return += reward.item()\n",
        "\n",
        "            writer.add_scalar(f'Returns: {batch_identifier}', ep_return, epoch)\n",
        "\n",
        "            stats['Returns'].append(ep_return)\n",
        "\n",
        "            if self.epsilon > self.min_epsilon:\n",
        "                self.epsilon = self.epsilon * self.epsilon_decay\n",
        "\n",
        "            if epoch % 10 == 0:\n",
        "                self.model.save_the_model()\n",
        "                print(\"\")\n",
        "\n",
        "                average_returns = np.mean(stats['Returns'][-100:])\n",
        "\n",
        "                stats['AvgReturns'].append(average_returns)\n",
        "                stats['EpsilonCheckpoint'].append(self.epsilon)\n",
        "\n",
        "                if (len(stats['Returns'])) > 100:\n",
        "                    print(f\"Epoch: {epoch} - Average Return: {np.mean(stats['Returns'][-100:])} - Epsilon: {self.epsilon}\")\n",
        "                else:\n",
        "                    print(f\"Epoch: {epoch} - Episode Return: {np.mean(stats['Returns'][-1:])} - Epsilon: {self.epsilon}\")\n",
        "                plotter.update_plot(stats)\n",
        "            if epoch % 100 == 0:\n",
        "                self.target_model.load_state_dict(self.model.state_dict())\n",
        "\n",
        "            if epoch % 1000 == 0:\n",
        "                self.model.save_the_model(f\"sample_data/models/model_iter_{epoch}.pt\")\n",
        "\n",
        "\n",
        "        return stats\n",
        "\n",
        "    def test(self, env):\n",
        "\n",
        "        # self.epsilon = 0\n",
        "\n",
        "\n",
        "        for epoch in range(1, 3):\n",
        "            state = env.reset()\n",
        "\n",
        "            # Fire at the beginning of the test\n",
        "            done = False\n",
        "\n",
        "            for _ in range(1000):\n",
        "                time.sleep(0.01)\n",
        "                action = self.get_action(state)\n",
        "                state, reward, done, info = env.step(action)\n",
        "                if done:\n",
        "                    break\n",
        "\n"
      ]
    },
    {
      "cell_type": "code",
      "execution_count": null,
      "metadata": {
        "id": "CK08ETzOcdaQ"
      },
      "outputs": [],
      "source": [
        "import matplotlib.pyplot as plt\n",
        "import os\n",
        "from datetime import datetime\n",
        "\n",
        "\n",
        "class LivePlot:\n",
        "    def __init__(self):\n",
        "        self.fig, self.ax = plt.subplots()\n",
        "        self.ax.set_xlabel(\"Epoch x 10\")\n",
        "        self.ax.set_ylabel(\"Returns\")\n",
        "        self.ax.set_title(\"Returns over Epochs\")\n",
        "\n",
        "        self.data = None\n",
        "\n",
        "        self.epochs = 0\n",
        "\n",
        "    def update_plot(self, stats):\n",
        "        self.data = stats['AvgReturns']\n",
        "        self.eps_data = stats['EpsilonCheckpoint']\n",
        "\n",
        "        self.epochs = len(self.data)\n",
        "\n",
        "        self.ax.clear()\n",
        "        self.ax.set_xlim(0, self.epochs)\n",
        "        # self.ax.set_ylim(min(self.data) - 0.5, max(self.data) + 0.5)\n",
        "\n",
        "        self.ax.plot(self.data, 'b-', label='Returns')\n",
        "        self.ax.plot(self.eps_data, 'r-', label='Epsilon')\n",
        "        self.ax.legend(loc=\"upper left\")\n",
        "\n",
        "        if not os.path.exists(\"sample_data/plots\"):\n",
        "            os.makedirs(\"sample_data/plots\")\n",
        "\n",
        "        current_date = datetime.now().strftime('%Y-%m-%d')\n",
        "        self.fig.savefig(f\"sample_data/plots/plot_{current_date}.png\")"
      ]
    },
    {
      "cell_type": "code",
      "source": [
        "import warnings\n",
        "warnings.filterwarnings('ignore')"
      ],
      "metadata": {
        "id": "j5HIpSy5rh2X"
      },
      "execution_count": null,
      "outputs": []
    },
    {
      "cell_type": "code",
      "source": [
        "import torch\n",
        "import os\n",
        "\n",
        "\n",
        "os.environ['KMP_DUPLICATE_LIB_OK'] = 'TRUE'\n",
        "\n",
        "device = torch.device('cuda:0' if torch.cuda.is_available() else 'cpu')\n",
        "\n",
        "environment = DQNBreakout(device=device)\n",
        "\n",
        "model = AtariNet(nb_actions=4)\n",
        "\n",
        "model.load_the_model()\n",
        "\n",
        "agent = Agent(model=model,\n",
        "              device=device,\n",
        "              epsilon=1.0,\n",
        "              min_epsilon=0.1,\n",
        "              nb_warmup=50, # was 5000\n",
        "              nb_actions=4,\n",
        "              learning_rate=0.001,#0.00001,\n",
        "              memory_capacity=100000,\n",
        "              batch_size=64)\n",
        "\n",
        "\n",
        "data = agent.train(env=environment, epochs=500, batch_identifier=0)\n",
        "#test_environment = DQNBreakout(device=device)\n",
        "\n",
        "#agent.test(env=test_environment)\n",
        "\n",
        "\n",
        "\n",
        "#display_observation_image(state)\n"
      ],
      "metadata": {
        "colab": {
          "base_uri": "https://localhost:8080/",
          "height": 1000
        },
        "id": "7suRJjIlYwe5",
        "outputId": "5f3c659e-21a9-4dc8-da8d-471aa99b4870"
      },
      "execution_count": null,
      "outputs": [
        {
          "output_type": "stream",
          "name": "stdout",
          "text": [
            "Successfully loaded weights file sample_data/models/latest.pt\n",
            "Starting epsilon is 1.0\n",
            "Epsilon decay is 0.964\n",
            "\n",
            "Epoch: 10 - Episode Return: 2.0 - Epsilon: 0.6930592097301767\n",
            "\n",
            "Epoch: 20 - Episode Return: 0.0 - Epsilon: 0.48033106819181703\n",
            "\n",
            "Epoch: 30 - Episode Return: 2.0 - Epsilon: 0.33289787052987224\n",
            "\n",
            "Epoch: 40 - Episode Return: 3.0 - Epsilon: 0.23071793507029198\n",
            "\n",
            "Epoch: 50 - Episode Return: 2.0 - Epsilon: 0.15990118975039477\n",
            "\n",
            "Epoch: 60 - Episode Return: 2.0 - Epsilon: 0.1108209922033236\n",
            "\n",
            "Epoch: 70 - Episode Return: 3.0 - Epsilon: 0.09927802659883893\n",
            "\n",
            "Epoch: 80 - Episode Return: 1.0 - Epsilon: 0.09927802659883893\n",
            "\n",
            "Epoch: 90 - Episode Return: 1.0 - Epsilon: 0.09927802659883893\n",
            "\n",
            "Epoch: 100 - Episode Return: 2.0 - Epsilon: 0.09927802659883893\n",
            "\n",
            "Epoch: 110 - Average Return: 1.66 - Epsilon: 0.09927802659883893\n",
            "\n",
            "Epoch: 120 - Average Return: 1.7 - Epsilon: 0.09927802659883893\n",
            "\n",
            "Epoch: 130 - Average Return: 1.79 - Epsilon: 0.09927802659883893\n",
            "\n",
            "Epoch: 140 - Average Return: 1.69 - Epsilon: 0.09927802659883893\n",
            "\n",
            "Epoch: 150 - Average Return: 1.7 - Epsilon: 0.09927802659883893\n",
            "\n",
            "Epoch: 160 - Average Return: 1.77 - Epsilon: 0.09927802659883893\n",
            "\n",
            "Epoch: 170 - Average Return: 1.72 - Epsilon: 0.09927802659883893\n",
            "\n",
            "Epoch: 180 - Average Return: 1.74 - Epsilon: 0.09927802659883893\n",
            "\n",
            "Epoch: 190 - Average Return: 1.73 - Epsilon: 0.09927802659883893\n",
            "\n",
            "Epoch: 200 - Average Return: 1.78 - Epsilon: 0.09927802659883893\n",
            "\n",
            "Epoch: 210 - Average Return: 1.75 - Epsilon: 0.09927802659883893\n",
            "\n",
            "Epoch: 220 - Average Return: 1.77 - Epsilon: 0.09927802659883893\n",
            "\n",
            "Epoch: 230 - Average Return: 1.69 - Epsilon: 0.09927802659883893\n",
            "\n",
            "Epoch: 240 - Average Return: 1.67 - Epsilon: 0.09927802659883893\n",
            "\n",
            "Epoch: 250 - Average Return: 1.66 - Epsilon: 0.09927802659883893\n",
            "\n",
            "Epoch: 260 - Average Return: 1.75 - Epsilon: 0.09927802659883893\n",
            "\n",
            "Epoch: 270 - Average Return: 1.7 - Epsilon: 0.09927802659883893\n",
            "\n",
            "Epoch: 280 - Average Return: 1.77 - Epsilon: 0.09927802659883893\n",
            "\n",
            "Epoch: 290 - Average Return: 1.83 - Epsilon: 0.09927802659883893\n",
            "\n",
            "Epoch: 300 - Average Return: 1.84 - Epsilon: 0.09927802659883893\n",
            "\n",
            "Epoch: 310 - Average Return: 1.83 - Epsilon: 0.09927802659883893\n",
            "\n",
            "Epoch: 320 - Average Return: 1.77 - Epsilon: 0.09927802659883893\n",
            "\n",
            "Epoch: 330 - Average Return: 1.79 - Epsilon: 0.09927802659883893\n",
            "\n",
            "Epoch: 340 - Average Return: 2.02 - Epsilon: 0.09927802659883893\n",
            "\n",
            "Epoch: 350 - Average Return: 2.02 - Epsilon: 0.09927802659883893\n",
            "\n",
            "Epoch: 360 - Average Return: 1.88 - Epsilon: 0.09927802659883893\n",
            "\n",
            "Epoch: 370 - Average Return: 2.0 - Epsilon: 0.09927802659883893\n",
            "\n",
            "Epoch: 380 - Average Return: 1.94 - Epsilon: 0.09927802659883893\n",
            "\n",
            "Epoch: 390 - Average Return: 1.93 - Epsilon: 0.09927802659883893\n",
            "\n",
            "Epoch: 400 - Average Return: 1.86 - Epsilon: 0.09927802659883893\n",
            "\n",
            "Epoch: 410 - Average Return: 1.95 - Epsilon: 0.09927802659883893\n",
            "\n",
            "Epoch: 420 - Average Return: 2.02 - Epsilon: 0.09927802659883893\n",
            "\n",
            "Epoch: 430 - Average Return: 2.15 - Epsilon: 0.09927802659883893\n",
            "\n",
            "Epoch: 440 - Average Return: 2.06 - Epsilon: 0.09927802659883893\n",
            "\n",
            "Epoch: 450 - Average Return: 2.17 - Epsilon: 0.09927802659883893\n",
            "\n",
            "Epoch: 460 - Average Return: 2.14 - Epsilon: 0.09927802659883893\n",
            "\n",
            "Epoch: 470 - Average Return: 2.05 - Epsilon: 0.09927802659883893\n",
            "\n",
            "Epoch: 480 - Average Return: 2.04 - Epsilon: 0.09927802659883893\n",
            "\n",
            "Epoch: 490 - Average Return: 2.03 - Epsilon: 0.09927802659883893\n",
            "\n",
            "Epoch: 500 - Average Return: 2.22 - Epsilon: 0.09927802659883893\n"
          ]
        },
        {
          "output_type": "display_data",
          "data": {
            "text/plain": [
              "<Figure size 640x480 with 1 Axes>"
            ],
            "image/png": "[encoded data removed]"
          },
          "metadata": {}
        }
      ]
    },
    {
      "cell_type": "code",
      "execution_count": null,
      "metadata": {
        "id": "nUItIllVafkW"
      },
      "outputs": [],
      "source": [
        "episode_scores = data['Returns']\n",
        "mean_score = np.mean(episode_scores)"
      ]
    },
    {
      "cell_type": "code",
      "source": [
        "def confidence_interval(data, significance):\n",
        "    mean = np.mean(data)\n",
        "    std = np.std(data)\n",
        "\n",
        "    n = len(data)\n",
        "    if significance == 0.1:\n",
        "        z = 1.28\n",
        "    elif significance == 0.05:\n",
        "        z = 1.96\n",
        "\n",
        "    # Вычисляем доверительный интервал\n",
        "    moe = z * (std/np.sqrt(n)) # Margin of Error\n",
        "    confidence_interval = (mean - moe, mean + moe)\n",
        "    return confidence_interval"
      ],
      "metadata": {
        "id": "C-P39-afdbtL"
      },
      "execution_count": null,
      "outputs": []
    },
    {
      "cell_type": "code",
      "source": [
        "confidence_level = 0.05\n",
        "\n",
        "print(f\"{100. - confidence_level*100}% доверительный интервал для скора (J):\", confidence_interval(episode_scores, confidence_level))\n",
        "confidence_level = 0.1\n",
        "print(f\"{100. - confidence_level*100}% доверительный интервал для скора (J):\", confidence_interval(episode_scores, confidence_level))\n",
        "\n"
      ],
      "metadata": {
        "colab": {
          "base_uri": "https://localhost:8080/"
        },
        "id": "oo99NWaddeoU",
        "outputId": "89c2f1ad-37d3-4669-8c4a-76a020edf8f6"
      },
      "execution_count": null,
      "outputs": [
        {
          "output_type": "stream",
          "name": "stdout",
          "text": [
            "95.0% доверительный интервал для скора (J): (1.4992364525881454, 2.1207635474118547)\n",
            "90.0% доверительный интервал для скора (J): (1.6070523772004215, 2.0129476227995786)\n"
          ]
        }
      ]
    },
    {
      "cell_type": "markdown",
      "source": [
        "# 3 Занятие"
      ],
      "metadata": {
        "id": "h1sgGdtaka6O"
      }
    },
    {
      "cell_type": "markdown",
      "source": [
        "## Monte Carlo Policy Gradient"
      ],
      "metadata": {
        "id": "yXGFp-a9ZF_f"
      }
    },
    {
      "cell_type": "code",
      "source": [
        "from pylab import *  #includes numpy\n",
        "import numpy as np\n",
        "import gym\n",
        "import matplotlib.pyplot as plt\n",
        "\n",
        "#Hyperparameters\n",
        "NUM_EPISODES = 1000\n",
        "LEARNING_RATE = 0.0001\n",
        "GAMMA = 0.99\n",
        "\n",
        "#Initializations\n",
        "env = gym.make('Breakout-v0')\n",
        "env.reset()\n",
        "nA = 4\n",
        "dim = 2 #ball position x*width + ball pos y and player position\n",
        "# Init weight\n",
        "w = np.random.rand(dim, nA)\n",
        "\n",
        "# Keep stats for final print of graph\n",
        "episode_rewards = []\n",
        "\n",
        "# extract_state checks the image extracts the state\n",
        "# which consists of the x,y position of the ball and\n",
        "# x position of the player\n",
        "def extract_state(I):\n",
        "    I = preprocess(I)\n",
        "    found_ball = False\n",
        "    ball_pos = [0,0]\n",
        "    for i in range(0,len(I) - 4): # the last 3 rows have the block\n",
        "        # 13,14,15 row is a red tile row we skip this row as its the same color as the ball\n",
        "        for j in range(0,len(I[i])):\n",
        "            if I[i][j] == 114 and i == 14 :\n",
        "                continue\n",
        "            if I[i][j] == 114 :\n",
        "                if I[i+1][j] == 114:\n",
        "                    found_ball = True\n",
        "                    ball_pos = [i,j]\n",
        "                    if I[i+2][j] == 114:\n",
        "                        found_ball = False\n",
        "                        ball_pos = [0,0]\n",
        "                        if I[i+3][j] == 114 and I[i+4][j] == 114:\n",
        "                            found_ball = True\n",
        "                            ball_pos = [i,j]\n",
        "    player_pos = 0\n",
        "    for i in range(len(I)-3,len(I)): # find the position of the player in the last 3 rows\n",
        "        for j in range(0,len(I[i])-2): # 8 is the length of the player\n",
        "            # print(I[i][j:j+8],end=\" \")\n",
        "            if(np.sum(I[i][j:j+2]) == 114*2):\n",
        "                player_pos = j+2\n",
        "                break\n",
        "        # print()\n",
        "    # print(ball_pos,player_pos)\n",
        "    return [(ball_pos[0]*72+ball_pos[1])/(82*72),(player_pos)/72]\n",
        "\n",
        "def to_grayscale(img):\n",
        "    return np.mean(img, axis=2).astype(np.uint8)\n",
        "\n",
        "def downsample(img):\n",
        "    return img[::2, ::2]\n",
        "\n",
        "# preprocess reduces the size, crops the borders and the score and gives just the playable part\n",
        "def preprocess(img):\n",
        "    img = to_grayscale(downsample(img))\n",
        "    img = img[9+7:(len(img)-7)] # 9 is the score part which we crop and 7 border size in top and bottom\n",
        "    for i in range(4): # border size is 4\n",
        "        img = np.delete(img,0,1)\n",
        "        img = np.delete(img,len(img[0])-1,1)\n",
        "    return img\n",
        "\n",
        "# Our policy that maps state to action parameterized by w\n",
        "def policy(state,w):\n",
        "    z = state.dot(w)\n",
        "    # print(\"z\",z)\n",
        "    exp = np.exp(z/2)\n",
        "    # print(\"ha\",exp/np.sum(exp))\n",
        "    return exp/np.sum(exp)\n",
        "\n",
        "# Vectorized softmax Jacobian\n",
        "def softmax_grad(softmax):\n",
        "    s = softmax.reshape(-1,1)\n",
        "    return np.diagflat(s) - np.dot(s, s.T)\n",
        "\n",
        "fout = open(\"Breakout_ret_RL\",'w')\n",
        "foutstep =open(\"Breakout_step_RL\",\"w\")\n",
        "for e in range(NUM_EPISODES):\n",
        "\n",
        "    state = env.reset()\n",
        "    state = np.asarray(extract_state(state))[None,:]\n",
        "    grads = []\n",
        "    rewards = []\n",
        "    # Keep track of game score to print\n",
        "    score = 0\n",
        "    st =0\n",
        "    while True:\n",
        "\n",
        "\t\t# Uncomment to see your model train in real time (slower)\n",
        "\t\t    #env.render()\n",
        "        #env.render()\n",
        "\n",
        "\t\t# Sample from policy and take action in environment\n",
        "        probs = policy(state,w)\n",
        "        # print(state)\n",
        "        # print(probs)\n",
        "        action = np.random.choice(nA,p=probs[0])\n",
        "        next_state,reward,done,_ = env.step(action)\n",
        "        st+=1\n",
        "        if(score==0 and done == True):\n",
        "            reward=-10\n",
        "        # print(extract_state(next_state),end=\" \")\n",
        "        next_state = np.asarray(extract_state(next_state))[None,:]\n",
        "\n",
        "        # Compute gradient and save with reward in memory for our weight updates\n",
        "        dsoftmax = softmax_grad(probs)[action,:]\n",
        "        dlog = dsoftmax / probs[0,action]\n",
        "        grad = state.T.dot(dlog[None,:])\n",
        "\n",
        "        grads.append(grad)\n",
        "        rewards.append(reward)\n",
        "\n",
        "        score+=reward\n",
        "\n",
        "        # Dont forget to update your old state to the new state\n",
        "        state = next_state\n",
        "\n",
        "        if done or score < -1000:\n",
        "            break\n",
        "\n",
        "\t# Weight update\n",
        "    for i in range(len(grads)):\n",
        "\n",
        "\t\t# Loop through everything that happend in the episode and update towards the log policy gradient times **FUTURE** reward\n",
        "        w += LEARNING_RATE * grads[i] * sum([ r * (GAMMA ** r) for t,r in enumerate(rewards[i:])])\n",
        "\t# Append for logging and print\n",
        "    if e%10 == 0:\n",
        "      episode_rewards.append(score)\n",
        "      fout.write(str(score))\n",
        "      fout.write('\\n')\n",
        "      foutstep.write(str(st))\n",
        "      foutstep.write('\\n')\n",
        "      print(\"EP: \" + str(e) + \" Score: \" + str(score) + \"         \",probs[0])\n",
        "\n",
        "fout.close()\n",
        "foutstep.close()\n",
        "plt.plot(np.arange(NUM_EPISODES),episode_rewards)\n",
        "plt.title(\"MountainCar a=0.000025\")\n",
        "plt.show()\n",
        "env.close()"
      ],
      "metadata": {
        "colab": {
          "base_uri": "https://localhost:8080/",
          "height": 1000
        },
        "id": "ysoXDyOqZE3a",
        "outputId": "2141ab3d-ba27-4f41-ba06-677e2b7479b6"
      },
      "execution_count": null,
      "outputs": [
        {
          "output_type": "stream",
          "name": "stderr",
          "text": [
            "/usr/local/lib/python3.10/dist-packages/gym/envs/registration.py:593: UserWarning: \u001b[33mWARN: The environment Breakout-v0 is out of date. You should consider upgrading to version `v4`.\u001b[0m\n",
            "  logger.warn(\n",
            "/usr/local/lib/python3.10/dist-packages/gym/core.py:317: DeprecationWarning: \u001b[33mWARN: Initializing wrapper in old step API which returns one bool instead of two. It is recommended to set `new_step_api=True` to use new step API. This will be the default behaviour in future.\u001b[0m\n",
            "  deprecation(\n",
            "/usr/local/lib/python3.10/dist-packages/gym/wrappers/step_api_compatibility.py:39: DeprecationWarning: \u001b[33mWARN: Initializing environment in old step API which returns one bool instead of two. It is recommended to set `new_step_api=True` to use new step API. This will be the default behaviour in future.\u001b[0m\n",
            "  deprecation(\n",
            "/usr/local/lib/python3.10/dist-packages/gym/utils/passive_env_checker.py:227: DeprecationWarning: \u001b[33mWARN: Core environment is written in old step API which returns one bool instead of two. It is recommended to rewrite the environment with new step API. \u001b[0m\n",
            "  logger.deprecation(\n",
            "/usr/local/lib/python3.10/dist-packages/gym/utils/passive_env_checker.py:233: DeprecationWarning: `np.bool8` is a deprecated alias for `np.bool_`.  (Deprecated NumPy 1.24)\n",
            "  if not isinstance(done, (bool, np.bool8)):\n"
          ]
        },
        {
          "output_type": "stream",
          "name": "stdout",
          "text": [
            "EP: 0 Score: 5.0          [0.24922333 0.25003025 0.25072114 0.25002528]\n",
            "EP: 10 Score: -10.0          [0.23503926 0.2509123  0.26455763 0.24949082]\n",
            "EP: 20 Score: -10.0          [0.22301954 0.25133148 0.27689143 0.24875755]\n",
            "EP: 30 Score: 1.0          [0.24700307 0.25040568 0.2525398  0.25005145]\n",
            "EP: 40 Score: 1.0          [0.24059576 0.25161578 0.25832085 0.24946761]\n",
            "EP: 50 Score: -10.0          [0.22321802 0.25384561 0.27467265 0.24826372]\n",
            "EP: 60 Score: 1.0          [0.24911582 0.25017331 0.25072978 0.24998109]\n",
            "EP: 70 Score: -10.0          [0.24343249 0.25130053 0.25549058 0.2497764 ]\n",
            "EP: 80 Score: 1.0          [0.23088094 0.25407042 0.26653349 0.24851516]\n",
            "EP: 90 Score: 1.0          [0.23154574 0.25462774 0.2659626  0.24786391]\n",
            "EP: 100 Score: 6.0          [0.22214422 0.25725919 0.27422792 0.24636867]\n",
            "EP: 110 Score: 3.0          [0.24075665 0.25232539 0.25833153 0.24858644]\n",
            "EP: 120 Score: 1.0          [0.2390775  0.25276522 0.25956627 0.24859102]\n",
            "EP: 130 Score: 1.0          [0.22186475 0.25733856 0.27529775 0.24549894]\n",
            "EP: 140 Score: 3.0          [0.22633059 0.25616846 0.27145492 0.24604603]\n",
            "EP: 150 Score: 2.0          [0.24667099 0.25086121 0.25303778 0.24943002]\n",
            "EP: 160 Score: 2.0          [0.23229327 0.25534994 0.2664376  0.24591919]\n",
            "EP: 170 Score: 1.0          [0.23150289 0.25548012 0.2673249  0.24569209]\n",
            "EP: 180 Score: 2.0          [0.24713188 0.25089528 0.25260079 0.24937204]\n",
            "EP: 190 Score: -10.0          [0.23667631 0.25413151 0.26314624 0.24604594]\n",
            "EP: 200 Score: -10.0          [0.22877677 0.25574186 0.27309755 0.24238382]\n",
            "EP: 210 Score: 1.0          [0.24592436 0.25118104 0.25433656 0.24855804]\n",
            "EP: 220 Score: -10.0          [0.21851693 0.25899834 0.28467821 0.23780652]\n",
            "EP: 230 Score: 1.0          [0.21920484 0.25823103 0.28527864 0.23728549]\n",
            "EP: 240 Score: -10.0          [0.22796296 0.25709927 0.27406945 0.24086831]\n",
            "EP: 250 Score: 3.0          [0.21807275 0.26016438 0.28530359 0.23645928]\n",
            "EP: 260 Score: 3.0          [0.23919408 0.25356426 0.26203114 0.24521052]\n",
            "EP: 270 Score: 2.0          [0.24912876 0.25030839 0.25098842 0.24957443]\n",
            "EP: 280 Score: -10.0          [0.22196509 0.25879496 0.28478082 0.23445913]\n",
            "EP: 290 Score: 2.0          [0.22739286 0.25659494 0.27906178 0.23695041]\n",
            "EP: 300 Score: -10.0          [0.23354445 0.25469059 0.27294511 0.23881985]\n",
            "EP: 310 Score: 1.0          [0.23434092 0.25561222 0.27285682 0.23719004]\n",
            "EP: 320 Score: -10.0          [0.22204099 0.25863264 0.29180711 0.22751926]\n",
            "EP: 330 Score: 4.0          [0.22248933 0.25847435 0.29100965 0.22802667]\n",
            "EP: 340 Score: -10.0          [0.22194583 0.2589875  0.29114111 0.22792557]\n",
            "EP: 350 Score: 2.0          [0.23696443 0.25452208 0.26867196 0.23984153]\n",
            "EP: 360 Score: -10.0          [0.22413128 0.25867478 0.28740808 0.22978586]\n",
            "EP: 370 Score: 1.0          [0.24117451 0.25280606 0.26287076 0.24314866]\n",
            "EP: 380 Score: 4.0          [0.22088163 0.2583252  0.29396096 0.22683221]\n",
            "EP: 390 Score: -10.0          [0.23630521 0.25408756 0.27075156 0.23885567]\n",
            "EP: 400 Score: 2.0          [0.22458615 0.25686082 0.2904203  0.22813273]\n",
            "EP: 410 Score: 7.0          [0.24669692 0.25126108 0.25468424 0.24735777]\n",
            "EP: 420 Score: 3.0          [0.22111823 0.26028236 0.29223682 0.22636258]\n",
            "EP: 430 Score: -10.0          [0.22178603 0.25960355 0.29350804 0.22510238]\n",
            "EP: 440 Score: -10.0          [0.22048395 0.25780783 0.29607608 0.22563214]\n",
            "EP: 450 Score: 3.0          [0.22028741 0.25779339 0.29665437 0.22526484]\n",
            "EP: 460 Score: 2.0          [0.22627366 0.25648692 0.2865749  0.23066453]\n",
            "EP: 470 Score: 2.0          [0.21991153 0.25664992 0.29859808 0.22484047]\n",
            "EP: 480 Score: 4.0          [0.23122613 0.2549358  0.27945349 0.23438458]\n",
            "EP: 490 Score: -10.0          [0.23851926 0.2527594  0.26795162 0.24076972]\n",
            "EP: 500 Score: 3.0          [0.22876005 0.25569689 0.2846418  0.23090127]\n",
            "EP: 510 Score: 1.0          [0.22723138 0.25694665 0.28557125 0.23025072]\n",
            "EP: 520 Score: 1.0          [0.2204447  0.25928816 0.29507092 0.22519622]\n",
            "EP: 530 Score: 2.0          [0.22014167 0.25977609 0.29573015 0.22435209]\n",
            "EP: 540 Score: 1.0          [0.21902085 0.26098562 0.29556407 0.22442946]\n",
            "EP: 550 Score: -10.0          [0.21892544 0.26265405 0.29439239 0.22402812]\n",
            "EP: 560 Score: 2.0          [0.2278871  0.25934525 0.28152022 0.23124743]\n",
            "EP: 570 Score: 3.0          [0.21814937 0.26558257 0.29323837 0.2230297 ]\n",
            "EP: 580 Score: 4.0          [0.21810508 0.26619798 0.29431227 0.22138467]\n",
            "EP: 590 Score: 1.0          [0.23186089 0.25870682 0.27552821 0.23390408]\n",
            "EP: 600 Score: 1.0          [0.2275565  0.26082812 0.28280263 0.22881275]\n",
            "EP: 610 Score: 3.0          [0.22090339 0.2653867  0.29181036 0.22189955]\n",
            "EP: 620 Score: 2.0          [0.22497798 0.26404221 0.28576508 0.22521474]\n",
            "EP: 630 Score: -10.0          [0.21638189 0.26798006 0.29777485 0.2178632 ]\n",
            "EP: 640 Score: -10.0          [0.22380595 0.2634941  0.28855071 0.22414923]\n",
            "EP: 650 Score: 2.0          [0.21726039 0.26832764 0.2991482  0.21526378]\n",
            "EP: 660 Score: 2.0          [0.21777934 0.26830697 0.29973713 0.21417656]\n",
            "EP: 670 Score: 2.0          [0.22382791 0.26526028 0.28904396 0.22186784]\n",
            "EP: 680 Score: 2.0          [0.22364076 0.26598127 0.28703526 0.22334272]\n",
            "EP: 690 Score: -10.0          [0.21966846 0.26787337 0.29622291 0.21623526]\n",
            "EP: 700 Score: 2.0          [0.22414826 0.26521564 0.28948854 0.22114755]\n",
            "EP: 710 Score: -10.0          [0.23877144 0.25643895 0.26747475 0.23731486]\n",
            "EP: 720 Score: -10.0          [0.22537592 0.2645529  0.28745171 0.22261947]\n",
            "EP: 730 Score: 1.0          [0.21737339 0.26944734 0.30017966 0.21299961]\n",
            "EP: 740 Score: 2.0          [0.21992558 0.26820757 0.29552397 0.21634288]\n",
            "EP: 750 Score: 2.0          [0.2190767  0.26803334 0.29840421 0.21448575]\n",
            "EP: 760 Score: -10.0          [0.21910036 0.26824053 0.29837456 0.21428455]\n",
            "EP: 770 Score: 1.0          [0.24911978 0.25057358 0.25133622 0.24897042]\n",
            "EP: 780 Score: 2.0          [0.2196313  0.26826884 0.29921193 0.21288793]\n",
            "EP: 790 Score: 1.0          [0.21875296 0.26873061 0.30053441 0.21198203]\n",
            "EP: 800 Score: 4.0          [0.21723961 0.26859087 0.30078353 0.213386  ]\n",
            "EP: 810 Score: 1.0          [0.21647458 0.26967005 0.30102987 0.2128255 ]\n",
            "EP: 820 Score: 1.0          [0.23646371 0.25823246 0.27099666 0.23430717]\n",
            "EP: 830 Score: 2.0          [0.21693839 0.27062513 0.3016169  0.21081958]\n",
            "EP: 840 Score: 2.0          [0.21691054 0.27149974 0.3018949  0.20969482]\n",
            "EP: 850 Score: 5.0          [0.23823205 0.2580164  0.26846581 0.23528574]\n",
            "EP: 860 Score: -10.0          [0.22073577 0.26786226 0.29771077 0.2136912 ]\n",
            "EP: 870 Score: 2.0          [0.21703432 0.26872169 0.3051068  0.20913719]\n",
            "EP: 880 Score: 3.0          [0.22907355 0.26233895 0.28430891 0.22427859]\n",
            "EP: 890 Score: 1.0          [0.2410519  0.2557827  0.26406862 0.23909678]\n",
            "EP: 900 Score: 1.0          [0.23846183 0.25746742 0.26855105 0.2355197 ]\n",
            "EP: 910 Score: 3.0          [0.21556579 0.26954197 0.30672023 0.20817201]\n",
            "EP: 920 Score: -10.0          [0.22918734 0.26279815 0.28476213 0.22325238]\n",
            "EP: 930 Score: -10.0          [0.2158071  0.27015666 0.30844688 0.20558936]\n",
            "EP: 940 Score: 4.0          [0.2130521  0.27112862 0.31072572 0.20509356]\n",
            "EP: 950 Score: 1.0          [0.21315064 0.27019569 0.31130392 0.20534975]\n",
            "EP: 960 Score: 3.0          [0.21463654 0.26961166 0.31202946 0.20372234]\n",
            "EP: 970 Score: -10.0          [0.21227055 0.27118123 0.31175626 0.20479195]\n",
            "EP: 980 Score: -10.0          [0.21665645 0.26696224 0.3053235  0.21105781]\n",
            "EP: 990 Score: -10.0          [0.22544243 0.26276927 0.29003921 0.22174908]\n"
          ]
        },
        {
          "output_type": "error",
          "ename": "ValueError",
          "evalue": "x and y must have same first dimension, but have shapes (1000,) and (100,)",
          "traceback": [
            "\u001b[0;31m---------------------------------------------------------------------------\u001b[0m",
            "\u001b[0;31mValueError\u001b[0m                                Traceback (most recent call last)",
            "\u001b[0;32m<ipython-input-2-96a7eb888c9e>\u001b[0m in \u001b[0;36m<cell line: 144>\u001b[0;34m()\u001b[0m\n\u001b[1;32m    142\u001b[0m \u001b[0mfout\u001b[0m\u001b[0;34m.\u001b[0m\u001b[0mclose\u001b[0m\u001b[0;34m(\u001b[0m\u001b[0;34m)\u001b[0m\u001b[0;34m\u001b[0m\u001b[0;34m\u001b[0m\u001b[0m\n\u001b[1;32m    143\u001b[0m \u001b[0mfoutstep\u001b[0m\u001b[0;34m.\u001b[0m\u001b[0mclose\u001b[0m\u001b[0;34m(\u001b[0m\u001b[0;34m)\u001b[0m\u001b[0;34m\u001b[0m\u001b[0;34m\u001b[0m\u001b[0m\n\u001b[0;32m--> 144\u001b[0;31m \u001b[0mplt\u001b[0m\u001b[0;34m.\u001b[0m\u001b[0mplot\u001b[0m\u001b[0;34m(\u001b[0m\u001b[0mnp\u001b[0m\u001b[0;34m.\u001b[0m\u001b[0marange\u001b[0m\u001b[0;34m(\u001b[0m\u001b[0mNUM_EPISODES\u001b[0m\u001b[0;34m)\u001b[0m\u001b[0;34m,\u001b[0m\u001b[0mepisode_rewards\u001b[0m\u001b[0;34m)\u001b[0m\u001b[0;34m\u001b[0m\u001b[0;34m\u001b[0m\u001b[0m\n\u001b[0m\u001b[1;32m    145\u001b[0m \u001b[0mplt\u001b[0m\u001b[0;34m.\u001b[0m\u001b[0mtitle\u001b[0m\u001b[0;34m(\u001b[0m\u001b[0;34m\"MountainCar a=0.000025\"\u001b[0m\u001b[0;34m)\u001b[0m\u001b[0;34m\u001b[0m\u001b[0;34m\u001b[0m\u001b[0m\n\u001b[1;32m    146\u001b[0m \u001b[0mplt\u001b[0m\u001b[0;34m.\u001b[0m\u001b[0mshow\u001b[0m\u001b[0;34m(\u001b[0m\u001b[0;34m)\u001b[0m\u001b[0;34m\u001b[0m\u001b[0;34m\u001b[0m\u001b[0m\n",
            "\u001b[0;32m/usr/local/lib/python3.10/dist-packages/matplotlib/pyplot.py\u001b[0m in \u001b[0;36mplot\u001b[0;34m(scalex, scaley, data, *args, **kwargs)\u001b[0m\n\u001b[1;32m   2810\u001b[0m \u001b[0;34m@\u001b[0m\u001b[0m_copy_docstring_and_deprecators\u001b[0m\u001b[0;34m(\u001b[0m\u001b[0mAxes\u001b[0m\u001b[0;34m.\u001b[0m\u001b[0mplot\u001b[0m\u001b[0;34m)\u001b[0m\u001b[0;34m\u001b[0m\u001b[0;34m\u001b[0m\u001b[0m\n\u001b[1;32m   2811\u001b[0m \u001b[0;32mdef\u001b[0m \u001b[0mplot\u001b[0m\u001b[0;34m(\u001b[0m\u001b[0;34m*\u001b[0m\u001b[0margs\u001b[0m\u001b[0;34m,\u001b[0m \u001b[0mscalex\u001b[0m\u001b[0;34m=\u001b[0m\u001b[0;32mTrue\u001b[0m\u001b[0;34m,\u001b[0m \u001b[0mscaley\u001b[0m\u001b[0;34m=\u001b[0m\u001b[0;32mTrue\u001b[0m\u001b[0;34m,\u001b[0m \u001b[0mdata\u001b[0m\u001b[0;34m=\u001b[0m\u001b[0;32mNone\u001b[0m\u001b[0;34m,\u001b[0m \u001b[0;34m**\u001b[0m\u001b[0mkwargs\u001b[0m\u001b[0;34m)\u001b[0m\u001b[0;34m:\u001b[0m\u001b[0;34m\u001b[0m\u001b[0;34m\u001b[0m\u001b[0m\n\u001b[0;32m-> 2812\u001b[0;31m     return gca().plot(\n\u001b[0m\u001b[1;32m   2813\u001b[0m         \u001b[0;34m*\u001b[0m\u001b[0margs\u001b[0m\u001b[0;34m,\u001b[0m \u001b[0mscalex\u001b[0m\u001b[0;34m=\u001b[0m\u001b[0mscalex\u001b[0m\u001b[0;34m,\u001b[0m \u001b[0mscaley\u001b[0m\u001b[0;34m=\u001b[0m\u001b[0mscaley\u001b[0m\u001b[0;34m,\u001b[0m\u001b[0;34m\u001b[0m\u001b[0;34m\u001b[0m\u001b[0m\n\u001b[1;32m   2814\u001b[0m         **({\"data\": data} if data is not None else {}), **kwargs)\n",
            "\u001b[0;32m/usr/local/lib/python3.10/dist-packages/matplotlib/axes/_axes.py\u001b[0m in \u001b[0;36mplot\u001b[0;34m(self, scalex, scaley, data, *args, **kwargs)\u001b[0m\n\u001b[1;32m   1686\u001b[0m         \"\"\"\n\u001b[1;32m   1687\u001b[0m         \u001b[0mkwargs\u001b[0m \u001b[0;34m=\u001b[0m \u001b[0mcbook\u001b[0m\u001b[0;34m.\u001b[0m\u001b[0mnormalize_kwargs\u001b[0m\u001b[0;34m(\u001b[0m\u001b[0mkwargs\u001b[0m\u001b[0;34m,\u001b[0m \u001b[0mmlines\u001b[0m\u001b[0;34m.\u001b[0m\u001b[0mLine2D\u001b[0m\u001b[0;34m)\u001b[0m\u001b[0;34m\u001b[0m\u001b[0;34m\u001b[0m\u001b[0m\n\u001b[0;32m-> 1688\u001b[0;31m         \u001b[0mlines\u001b[0m \u001b[0;34m=\u001b[0m \u001b[0;34m[\u001b[0m\u001b[0;34m*\u001b[0m\u001b[0mself\u001b[0m\u001b[0;34m.\u001b[0m\u001b[0m_get_lines\u001b[0m\u001b[0;34m(\u001b[0m\u001b[0;34m*\u001b[0m\u001b[0margs\u001b[0m\u001b[0;34m,\u001b[0m \u001b[0mdata\u001b[0m\u001b[0;34m=\u001b[0m\u001b[0mdata\u001b[0m\u001b[0;34m,\u001b[0m \u001b[0;34m**\u001b[0m\u001b[0mkwargs\u001b[0m\u001b[0;34m)\u001b[0m\u001b[0;34m]\u001b[0m\u001b[0;34m\u001b[0m\u001b[0;34m\u001b[0m\u001b[0m\n\u001b[0m\u001b[1;32m   1689\u001b[0m         \u001b[0;32mfor\u001b[0m \u001b[0mline\u001b[0m \u001b[0;32min\u001b[0m \u001b[0mlines\u001b[0m\u001b[0;34m:\u001b[0m\u001b[0;34m\u001b[0m\u001b[0;34m\u001b[0m\u001b[0m\n\u001b[1;32m   1690\u001b[0m             \u001b[0mself\u001b[0m\u001b[0;34m.\u001b[0m\u001b[0madd_line\u001b[0m\u001b[0;34m(\u001b[0m\u001b[0mline\u001b[0m\u001b[0;34m)\u001b[0m\u001b[0;34m\u001b[0m\u001b[0;34m\u001b[0m\u001b[0m\n",
            "\u001b[0;32m/usr/local/lib/python3.10/dist-packages/matplotlib/axes/_base.py\u001b[0m in \u001b[0;36m__call__\u001b[0;34m(self, data, *args, **kwargs)\u001b[0m\n\u001b[1;32m    309\u001b[0m                 \u001b[0mthis\u001b[0m \u001b[0;34m+=\u001b[0m \u001b[0margs\u001b[0m\u001b[0;34m[\u001b[0m\u001b[0;36m0\u001b[0m\u001b[0;34m]\u001b[0m\u001b[0;34m,\u001b[0m\u001b[0;34m\u001b[0m\u001b[0;34m\u001b[0m\u001b[0m\n\u001b[1;32m    310\u001b[0m                 \u001b[0margs\u001b[0m \u001b[0;34m=\u001b[0m \u001b[0margs\u001b[0m\u001b[0;34m[\u001b[0m\u001b[0;36m1\u001b[0m\u001b[0;34m:\u001b[0m\u001b[0;34m]\u001b[0m\u001b[0;34m\u001b[0m\u001b[0;34m\u001b[0m\u001b[0m\n\u001b[0;32m--> 311\u001b[0;31m             yield from self._plot_args(\n\u001b[0m\u001b[1;32m    312\u001b[0m                 this, kwargs, ambiguous_fmt_datakey=ambiguous_fmt_datakey)\n\u001b[1;32m    313\u001b[0m \u001b[0;34m\u001b[0m\u001b[0m\n",
            "\u001b[0;32m/usr/local/lib/python3.10/dist-packages/matplotlib/axes/_base.py\u001b[0m in \u001b[0;36m_plot_args\u001b[0;34m(self, tup, kwargs, return_kwargs, ambiguous_fmt_datakey)\u001b[0m\n\u001b[1;32m    502\u001b[0m \u001b[0;34m\u001b[0m\u001b[0m\n\u001b[1;32m    503\u001b[0m         \u001b[0;32mif\u001b[0m \u001b[0mx\u001b[0m\u001b[0;34m.\u001b[0m\u001b[0mshape\u001b[0m\u001b[0;34m[\u001b[0m\u001b[0;36m0\u001b[0m\u001b[0;34m]\u001b[0m \u001b[0;34m!=\u001b[0m \u001b[0my\u001b[0m\u001b[0;34m.\u001b[0m\u001b[0mshape\u001b[0m\u001b[0;34m[\u001b[0m\u001b[0;36m0\u001b[0m\u001b[0;34m]\u001b[0m\u001b[0;34m:\u001b[0m\u001b[0;34m\u001b[0m\u001b[0;34m\u001b[0m\u001b[0m\n\u001b[0;32m--> 504\u001b[0;31m             raise ValueError(f\"x and y must have same first dimension, but \"\n\u001b[0m\u001b[1;32m    505\u001b[0m                              f\"have shapes {x.shape} and {y.shape}\")\n\u001b[1;32m    506\u001b[0m         \u001b[0;32mif\u001b[0m \u001b[0mx\u001b[0m\u001b[0;34m.\u001b[0m\u001b[0mndim\u001b[0m \u001b[0;34m>\u001b[0m \u001b[0;36m2\u001b[0m \u001b[0;32mor\u001b[0m \u001b[0my\u001b[0m\u001b[0;34m.\u001b[0m\u001b[0mndim\u001b[0m \u001b[0;34m>\u001b[0m \u001b[0;36m2\u001b[0m\u001b[0;34m:\u001b[0m\u001b[0;34m\u001b[0m\u001b[0;34m\u001b[0m\u001b[0m\n",
            "\u001b[0;31mValueError\u001b[0m: x and y must have same first dimension, but have shapes (1000,) and (100,)"
          ]
        },
        {
          "output_type": "display_data",
          "data": {
            "text/plain": [
              "<Figure size 640x480 with 1 Axes>"
            ],
            "image/png": "[encoded data removed]"
          },
          "metadata": {}
        }
      ]
    },
    {
      "cell_type": "code",
      "source": [
        "import matplotlib.pyplot as plt\n",
        "import numpy as np\n",
        "\n",
        "fil = open(\"Breakout_step_RL\")\n",
        "ret_RL = []\n",
        "for line in fil:\n",
        "    x = float(line)\n",
        "    if(x==-10):\n",
        "        x=0\n",
        "    ret_RL.append(x/100)\n",
        "fil.close()\n",
        "\n",
        "print(np.average(ret_RL))\n",
        "plt.plot(np.arange(0, 1000, 10), ret_RL)\n",
        "plt.title(\"REINFORCE\")\n",
        "plt.show()"
      ],
      "metadata": {
        "id": "VeI6d-38lyyM",
        "colab": {
          "base_uri": "https://localhost:8080/",
          "height": 469
        },
        "outputId": "8fa823ea-8624-40f7-d075-cb2c547ca924"
      },
      "execution_count": null,
      "outputs": [
        {
          "output_type": "stream",
          "name": "stdout",
          "text": [
            "2.5954999999999995\n"
          ]
        },
        {
          "output_type": "display_data",
          "data": {
            "text/plain": [
              "<Figure size 640x480 with 1 Axes>"
            ],
            "image/png": "[encoded data removed]"
          },
          "metadata": {}
        }
      ]
    },
    {
      "cell_type": "code",
      "execution_count": null,
      "metadata": {
        "id": "yWmO5dVnfuZH"
      },
      "outputs": [],
      "source": [
        "episode_scores = ret_RL\n",
        "mean_score = np.mean(episode_scores)"
      ]
    },
    {
      "cell_type": "code",
      "source": [
        "def confidence_interval(data, significance):\n",
        "    mean = np.mean(data)\n",
        "    std = np.std(data)\n",
        "\n",
        "    n = len(data)\n",
        "    if significance == 0.1:\n",
        "        z = 1.28\n",
        "    elif significance == 0.05:\n",
        "        z = 1.96\n",
        "\n",
        "    # Вычисляем доверительный интервал\n",
        "    moe = z * (std/np.sqrt(n)) # Margin of Error\n",
        "    confidence_interval = (mean - moe, mean + moe)\n",
        "    return confidence_interval"
      ],
      "metadata": {
        "id": "h7KD--vifuZI"
      },
      "execution_count": null,
      "outputs": []
    },
    {
      "cell_type": "code",
      "source": [
        "confidence_level = 0.05\n",
        "\n",
        "print(f\"{100. - confidence_level*100}% доверительный интервал для скора (J):\", confidence_interval(episode_scores, confidence_level))\n",
        "confidence_level = 0.1\n",
        "print(f\"{100. - confidence_level*100}% доверительный интервал для скора (J):\", confidence_interval(episode_scores, confidence_level))\n",
        "\n"
      ],
      "metadata": {
        "colab": {
          "base_uri": "https://localhost:8080/"
        },
        "outputId": "e7bd4393-bfff-4853-cb69-625fa250d612",
        "id": "kX_9cuiefuZI"
      },
      "execution_count": null,
      "outputs": [
        {
          "output_type": "stream",
          "name": "stdout",
          "text": [
            "95.0% доверительный интервал для скора (J): (2.4312956555629537, 2.7597043444370453)\n",
            "90.0% доверительный интервал для скора (J): (2.488264509755398, 2.702735490244601)\n"
          ]
        }
      ]
    }
  ],
  "metadata": {
    "colab": {
      "provenance": [],
      "gpuType": "T4",
      "toc_visible": true
    },
    "kernelspec": {
      "display_name": "Python 3",
      "name": "python3"
    },
    "language_info": {
      "name": "python"
    },
    "accelerator": "GPU"
  },
  "nbformat": 4,
  "nbformat_minor": 0
}