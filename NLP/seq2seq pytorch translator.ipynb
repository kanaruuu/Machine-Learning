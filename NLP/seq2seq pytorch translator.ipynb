{
  "cells": [
    {
      "cell_type": "code",
      "execution_count": null,
      "id": "34e6bc2f-5ed1-43e0-8f62-84143a8c27e0",
      "metadata": {
        "id": "34e6bc2f-5ed1-43e0-8f62-84143a8c27e0"
      },
      "outputs": [],
      "source": [
        "import torch\n",
        "from torch import nn\n",
        "import pandas as pd\n",
        "import numpy as np\n",
        "import re\n",
        "import time\n",
        "import torchtext\n",
        "import torchdata"
      ]
    },
    {
      "cell_type": "code",
      "execution_count": null,
      "id": "3cc6d09b-4169-42d2-98f5-51ee3a233700",
      "metadata": {
        "id": "3cc6d09b-4169-42d2-98f5-51ee3a233700"
      },
      "outputs": [],
      "source": [
        "from torchtext import transforms\n",
        "from torchdata import datapipes"
      ]
    },
    {
      "cell_type": "code",
      "execution_count": null,
      "id": "f9099b03-a2cb-4bbb-aebf-a5934593f99b",
      "metadata": {
        "colab": {
          "base_uri": "https://localhost:8080/"
        },
        "id": "f9099b03-a2cb-4bbb-aebf-a5934593f99b",
        "outputId": "b6fab7a9-04f3-4599-ce61-fa0aaefeda09"
      },
      "outputs": [
        {
          "output_type": "stream",
          "name": "stdout",
          "text": [
            "False\n"
          ]
        },
        {
          "output_type": "execute_result",
          "data": {
            "text/plain": [
              "('0.16.0+cpu', '0.7.0')"
            ]
          },
          "metadata": {},
          "execution_count": 19
        }
      ],
      "source": [
        "print(torch.cuda.is_available())\n",
        "torchtext.__version__, torchdata.__version__"
      ]
    },
    {
      "cell_type": "markdown",
      "id": "582e5401-f058-4c6e-b618-bdd431958fde",
      "metadata": {
        "id": "582e5401-f058-4c6e-b618-bdd431958fde"
      },
      "source": [
        "**Функция вывода информации о датапайпе**"
      ]
    },
    {
      "cell_type": "code",
      "execution_count": null,
      "id": "30311027-8c44-4d14-b027-2a4c2944272e",
      "metadata": {
        "id": "30311027-8c44-4d14-b027-2a4c2944272e"
      },
      "outputs": [],
      "source": [
        "def print_simple_data_pipe(data_pipe: datapipes.iter.IterDataPipe) -> None:\n",
        "    print(type(data_pipe))\n",
        "    for sample in data_pipe:\n",
        "        print(sample)\n",
        "        break"
      ]
    },
    {
      "cell_type": "markdown",
      "id": "d1e8b10b-4c4e-4096-9c86-7ac294b5fdfc",
      "metadata": {
        "id": "d1e8b10b-4c4e-4096-9c86-7ac294b5fdfc"
      },
      "source": [
        "**Создание датапайпов построчного чтения из файлов**"
      ]
    },
    {
      "cell_type": "code",
      "execution_count": null,
      "id": "77499909-b8de-4375-8ed5-e00f4c6412f2",
      "metadata": {
        "colab": {
          "base_uri": "https://localhost:8080/"
        },
        "id": "77499909-b8de-4375-8ed5-e00f4c6412f2",
        "outputId": "94555380-5958-4a4d-e5c3-b260e4e4c2b8"
      },
      "outputs": [
        {
          "output_type": "stream",
          "name": "stdout",
          "text": [
            "<class 'torch.utils.data.datapipes.iter.fileopener.FileOpenerIterDataPipe'>\n",
            "<class 'torch.utils.data.datapipes.iter.filelister.FileListerIterDataPipe'>\n",
            "/content/corpus.en_ru.1m.ru\n"
          ]
        }
      ],
      "source": [
        "data_pipe_ru = datapipes.iter.FileLister('/content/corpus.en_ru.1m.ru')\n",
        "data_pipe_en = datapipes.iter.FileLister('../data/1mcorpus/corpus.en_ru.1m.en')\n",
        "print_simple_data_pipe(data_pipe_ru)"
      ]
    },
    {
      "cell_type": "code",
      "source": [],
      "metadata": {
        "id": "QNxMYnITy6yT"
      },
      "id": "QNxMYnITy6yT",
      "execution_count": null,
      "outputs": []
    },
    {
      "cell_type": "code",
      "execution_count": null,
      "id": "cb7432c8-f0d0-4aa0-a525-8b3c3a7befbd",
      "metadata": {
        "id": "cb7432c8-f0d0-4aa0-a525-8b3c3a7befbd"
      },
      "outputs": [],
      "source": [
        "data_pipe_ru = datapipes.iter.FileOpener(data_pipe_ru, mode='r', encoding='UTF-8')\n",
        "data_pipe_en = datapipes.iter.FileOpener(data_pipe_en, mode='r', encoding='UTF-8')\n",
        "print_simple_data_pipe(data_pipe_ru)"
      ]
    },
    {
      "cell_type": "code",
      "execution_count": null,
      "id": "a16cdd9e-ccb5-4060-8a02-df74a3e283de",
      "metadata": {
        "colab": {
          "base_uri": "https://localhost:8080/"
        },
        "id": "a16cdd9e-ccb5-4060-8a02-df74a3e283de",
        "outputId": "11a2e58f-07a8-484b-bb3a-470fde477541"
      },
      "outputs": [
        {
          "output_type": "stream",
          "name": "stdout",
          "text": [
            "<class 'torchdata.datapipes.iter.util.plain_text_reader.LineReaderIterDataPipe'>\n"
          ]
        }
      ],
      "source": [
        "skip = 1000000 - 10000\n",
        "data_pipe_ru = datapipes.iter.LineReader(data_pipe_ru, return_path=False, skip_lines=skip)\n",
        "data_pipe_en = datapipes.iter.LineReader(data_pipe_en, return_path=False, skip_lines=skip)\n",
        "print_simple_data_pipe(data_pipe_ru)"
      ]
    },
    {
      "cell_type": "markdown",
      "id": "910cab1f-e9a7-4e12-a336-2c7d0a8c09d1",
      "metadata": {
        "id": "910cab1f-e9a7-4e12-a336-2c7d0a8c09d1"
      },
      "source": [
        "**Объединение датапайпов**"
      ]
    },
    {
      "cell_type": "code",
      "source": [
        "l = list(data_pipe_ru)\n",
        "print(l)"
      ],
      "metadata": {
        "colab": {
          "base_uri": "https://localhost:8080/"
        },
        "id": "8C3xnuGwy8Xi",
        "outputId": "703b3453-452e-4747-db50-a21b5d587b73"
      },
      "id": "8C3xnuGwy8Xi",
      "execution_count": null,
      "outputs": [
        {
          "output_type": "stream",
          "name": "stdout",
          "text": [
            "[]\n"
          ]
        }
      ]
    },
    {
      "cell_type": "code",
      "execution_count": null,
      "id": "11b88066-aef4-4169-a31d-b29afb66373b",
      "metadata": {
        "id": "11b88066-aef4-4169-a31d-b29afb66373b",
        "outputId": "cbdfd95b-74ac-449f-fc0f-0dbd20ecfe4a"
      },
      "outputs": [
        {
          "name": "stdout",
          "output_type": "stream",
          "text": [
            "<class 'torch.utils.data.datapipes.iter.combining.ZipperIterDataPipe'>\n",
            "('Все задачи по диагностике и пуско-наладке выполняются копплером.', 'The Bus Coupler carries out all diagnosis and commissioning tasks.')\n"
          ]
        }
      ],
      "source": [
        "data_pipe = datapipes.iter.Zipper(data_pipe_ru, data_pipe_en)\n",
        "print_simple_data_pipe(data_pipe)"
      ]
    },
    {
      "cell_type": "markdown",
      "id": "2a58f89e-382b-4600-a533-219710d6a86e",
      "metadata": {
        "id": "2a58f89e-382b-4600-a533-219710d6a86e"
      },
      "source": [
        "**Функции токенизации для текстов**"
      ]
    },
    {
      "cell_type": "code",
      "execution_count": null,
      "id": "936cbb44-04a1-4677-9835-a86aa71a7a83",
      "metadata": {
        "id": "936cbb44-04a1-4677-9835-a86aa71a7a83"
      },
      "outputs": [],
      "source": [
        "from razdel import tokenize\n",
        "import re\n",
        "def tokenizer_ru(ru_text: str) -> list[str]:\n",
        "    text = re.sub('[^\\s^\\w^-]+', '', ru_text).lower()\n",
        "    words = [j.text for j in tokenize(text)]\n",
        "    return words"
      ]
    },
    {
      "cell_type": "code",
      "execution_count": null,
      "id": "9ef8431b-99ea-4662-9f1a-6f245ad760a6",
      "metadata": {
        "id": "9ef8431b-99ea-4662-9f1a-6f245ad760a6"
      },
      "outputs": [],
      "source": [
        "from nltk import word_tokenize\n",
        "def tokenizer_en(en_text: str) -> list[str]:\n",
        "    text = re.sub('[^\\s^\\w^-]+', '', en_text).lower()\n",
        "    words = word_tokenize(text)\n",
        "    return words"
      ]
    },
    {
      "cell_type": "markdown",
      "id": "e6b72f77-04a1-411a-a303-68295dc089f7",
      "metadata": {
        "id": "e6b72f77-04a1-411a-a303-68295dc089f7"
      },
      "source": [
        "**Генераторы с функциями токенизации**"
      ]
    },
    {
      "cell_type": "code",
      "execution_count": null,
      "id": "e13bdbe6-54a6-46ed-a035-849f22ae2229",
      "metadata": {
        "id": "e13bdbe6-54a6-46ed-a035-849f22ae2229"
      },
      "outputs": [],
      "source": [
        "def yield_tokens_ru(data_iter: datapipes.iter.IterDataPipe):\n",
        "    # итерируемся по набору данных\n",
        "    for ru_text, en_text in data_iter:\n",
        "        yield tokenizer_ru(ru_text)\n",
        "def yield_tokens_en(data_iter: datapipes.iter.IterDataPipe):\n",
        "    # итерируемся по набору данных\n",
        "    for ru_text, en_text in data_iter:\n",
        "        yield tokenizer_en(en_text)"
      ]
    },
    {
      "cell_type": "markdown",
      "id": "d986e30f-2138-434d-acc8-3c8198860650",
      "metadata": {
        "id": "d986e30f-2138-434d-acc8-3c8198860650"
      },
      "source": [
        "**Создание словарей для языков**"
      ]
    },
    {
      "cell_type": "code",
      "execution_count": null,
      "id": "07a6d741-8351-40f7-9eac-61dea52c1e3b",
      "metadata": {
        "id": "07a6d741-8351-40f7-9eac-61dea52c1e3b"
      },
      "outputs": [],
      "source": [
        "from torchtext.vocab import build_vocab_from_iterator"
      ]
    },
    {
      "cell_type": "code",
      "execution_count": null,
      "id": "cd4703b3-9d9f-4fd0-8d20-f8d01c805634",
      "metadata": {
        "id": "cd4703b3-9d9f-4fd0-8d20-f8d01c805634"
      },
      "outputs": [],
      "source": [
        "vocab_ru = build_vocab_from_iterator(\n",
        "    yield_tokens_ru(data_pipe),\n",
        "    min_freq=1,\n",
        "    specials= ['<pad>', '<sos>', '<eos>', '<unk>'],\n",
        "    special_first=True\n",
        ")\n",
        "vocab_en = build_vocab_from_iterator(\n",
        "    yield_tokens_en(data_pipe),\n",
        "    min_freq=1,\n",
        "    specials= ['<pad>', '<sos>', '<eos>', '<unk>'],\n",
        "    special_first=True\n",
        ")\n",
        "# если мы попытаемся получить индекс слова, которого не знаем - вернется индекс для токена <unk>\n",
        "vocab_ru.set_default_index(vocab_ru['<unk>'])\n",
        "vocab_en.set_default_index(vocab_en['<unk>'])"
      ]
    },
    {
      "cell_type": "markdown",
      "id": "4267d5a6-cc67-4fbe-8cd5-fbf72d3b1be4",
      "metadata": {
        "id": "4267d5a6-cc67-4fbe-8cd5-fbf72d3b1be4"
      },
      "source": [
        "**Функции добавления тегов sos и eos**"
      ]
    },
    {
      "cell_type": "code",
      "execution_count": null,
      "id": "84ab9f01-cf30-4efa-b684-fc06bb6c3d6e",
      "metadata": {
        "id": "84ab9f01-cf30-4efa-b684-fc06bb6c3d6e"
      },
      "outputs": [],
      "source": [
        "def vocab_transform_ru(vocab: torchtext.vocab.Vocab) -> transforms.Sequential:\n",
        "    text_tranform = transforms.Sequential(\n",
        "        transforms.VocabTransform(vocab=vocab),\n",
        "        # добавляем в начало и конец документа индексы токенов <sos> и <eos> соответственно\n",
        "        # это актуально для решения задач машинного перевода и генерации текстов\n",
        "        # для решения условной задачи классификации это избыточно\n",
        "        transforms.AddToken(vocab['<sos>'], begin=True),\n",
        "        transforms.AddToken(vocab['<eos>'], begin=False)\n",
        "    )\n",
        "    return text_tranform\n",
        "def vocab_transform_en_with_sos(vocab: torchtext.vocab.Vocab) -> transforms.Sequential:\n",
        "    text_tranform = transforms.Sequential(\n",
        "        transforms.VocabTransform(vocab=vocab),\n",
        "        transforms.AddToken(vocab['<sos>'], begin=True)\n",
        "    )\n",
        "    return text_tranform\n",
        "def vocab_transform_en_with_eos(vocab: torchtext.vocab.Vocab) -> transforms.Sequential:\n",
        "    text_tranform = transforms.Sequential(\n",
        "        transforms.VocabTransform(vocab=vocab),\n",
        "        transforms.AddToken(vocab['<eos>'], begin=False)\n",
        "    )\n",
        "    return text_tranform"
      ]
    },
    {
      "cell_type": "code",
      "execution_count": null,
      "id": "cb1d9d8d-f73f-4422-9424-4a29fe017aa6",
      "metadata": {
        "id": "cb1d9d8d-f73f-4422-9424-4a29fe017aa6"
      },
      "outputs": [],
      "source": [
        "def apply_vocab_transform(pair: tuple[list[str], list[str]]) -> tuple[list[int], list[int], list[int]]:\n",
        "    return (\n",
        "        vocab_transform_ru(vocab_ru)(tokenizer_ru(pair[0])),\n",
        "        vocab_transform_en_with_sos(vocab_en)(tokenizer_en(pair[1])),\n",
        "        vocab_transform_en_with_eos(vocab_en)(tokenizer_en(pair[1]))\n",
        ")"
      ]
    },
    {
      "cell_type": "code",
      "execution_count": null,
      "id": "32d7f0e6-70bb-493a-a9b8-8149ff7a360c",
      "metadata": {
        "id": "32d7f0e6-70bb-493a-a9b8-8149ff7a360c"
      },
      "outputs": [],
      "source": [
        "data_pipe1 = data_pipe.map(apply_vocab_transform)\n",
        "# print_simple_data_pipe(data_pipe1)"
      ]
    },
    {
      "cell_type": "markdown",
      "id": "5aa42d40-6833-488a-8f6b-15beb657228a",
      "metadata": {
        "id": "5aa42d40-6833-488a-8f6b-15beb657228a"
      },
      "source": [
        "**Отсев длинных предложений**"
      ]
    },
    {
      "cell_type": "code",
      "execution_count": null,
      "id": "af04b0b1-942a-451c-a0db-a1901a522afc",
      "metadata": {
        "id": "af04b0b1-942a-451c-a0db-a1901a522afc",
        "outputId": "8efc3d98-5cee-4fac-cb0d-2431ca59cb07"
      },
      "outputs": [
        {
          "name": "stdout",
          "output_type": "stream",
          "text": [
            "[16. 18.]\n"
          ]
        }
      ],
      "source": [
        "mean_lens = np.median([(len(i[0]), len(i[1])) for i in list(data_pipe1)], axis=0)\n",
        "print(mean_lens)\n",
        "max_len_ru = round(mean_lens[0])\n",
        "max_len_en = round(mean_lens[1])"
      ]
    },
    {
      "cell_type": "code",
      "execution_count": null,
      "id": "5c86163b-014e-4548-bbfa-0b12b50d42f8",
      "metadata": {
        "id": "5c86163b-014e-4548-bbfa-0b12b50d42f8"
      },
      "outputs": [],
      "source": [
        "def max_size_text(tup):\n",
        "    return len(tup[0]) <= max_len_ru and len(tup[1]) <= max_len_en"
      ]
    },
    {
      "cell_type": "code",
      "execution_count": null,
      "id": "59fa5196-0626-4758-b55d-cda2d80f53d4",
      "metadata": {
        "id": "59fa5196-0626-4758-b55d-cda2d80f53d4",
        "outputId": "63ccb02e-076d-4eae-a092-701ac0536eb4"
      },
      "outputs": [
        {
          "name": "stdout",
          "output_type": "stream",
          "text": [
            "4490\n"
          ]
        }
      ],
      "source": [
        "data_pipe1 = data_pipe1.filter(filter_fn=max_size_text)\n",
        "len_data_pipe = len(list(data_pipe1))\n",
        "print(len_data_pipe) #11188 18000 #35000"
      ]
    },
    {
      "cell_type": "markdown",
      "id": "baabd47c-304c-4e0d-b2ec-d4fa553c6fb6",
      "metadata": {
        "id": "baabd47c-304c-4e0d-b2ec-d4fa553c6fb6"
      },
      "source": [
        "**Добавление паддингов**"
      ]
    },
    {
      "cell_type": "code",
      "execution_count": null,
      "id": "c3f048a7-cc78-4d1c-90f4-90d6959753e4",
      "metadata": {
        "id": "c3f048a7-cc78-4d1c-90f4-90d6959753e4"
      },
      "outputs": [],
      "source": [
        "def apply_padding(pair):\n",
        "    len_ru, len_en = len(pair[0]), len(pair[1])\n",
        "    ru = pair[0] + [vocab_ru['<pad>']]*(max_len_ru - len_ru)\n",
        "    en_with_sos = pair[1] + [vocab_en['<pad>']]*(max_len_en - len_en)\n",
        "    en_with_eos = pair[2] + [vocab_en['<pad>']]*(max_len_en - len_en)\n",
        "    return (ru, en_with_sos, en_with_eos)\n",
        "    # return (torch.tensor(ru, device=device), torch.tensor(en_with_sos, device=device), torch.tensor(en_with_eos, device=device))"
      ]
    },
    {
      "cell_type": "code",
      "execution_count": null,
      "id": "372a4684-bc4b-4996-a104-b1f8b51043e4",
      "metadata": {
        "id": "372a4684-bc4b-4996-a104-b1f8b51043e4"
      },
      "outputs": [],
      "source": [
        "data_pipe2 = data_pipe1.map(apply_padding)\n",
        "# print_simple_data_pipe(data_pipe2)"
      ]
    },
    {
      "cell_type": "markdown",
      "id": "b9dcabef-f742-4b48-a586-b1603986789b",
      "metadata": {
        "id": "b9dcabef-f742-4b48-a586-b1603986789b"
      },
      "source": [
        "**Разделение на обучающую и тестовую выборку**"
      ]
    },
    {
      "cell_type": "code",
      "execution_count": null,
      "id": "96cc717f-1b73-4a95-95d2-9d36db00e4f9",
      "metadata": {
        "id": "96cc717f-1b73-4a95-95d2-9d36db00e4f9"
      },
      "outputs": [],
      "source": [
        "test_size = 5\n",
        "data_pipe_train, data_pipe_test = datapipes.iter.RandomSplitter(data_pipe2, total_length=len_data_pipe, weights={\"train\": (len_data_pipe - test_size) / len_data_pipe , \"test\": test_size / len_data_pipe}, seed=46)\n",
        "# print_simple_data_pipe(data_pipe_test)"
      ]
    },
    {
      "cell_type": "markdown",
      "id": "ee0c71ab-6826-4c13-9e4d-c9a4de5a1fb6",
      "metadata": {
        "id": "ee0c71ab-6826-4c13-9e4d-c9a4de5a1fb6"
      },
      "source": [
        "**Создание батчей для обучения**"
      ]
    },
    {
      "cell_type": "code",
      "execution_count": null,
      "id": "b28f5035-a7c9-4ff2-998f-cac7920b0b70",
      "metadata": {
        "id": "b28f5035-a7c9-4ff2-998f-cac7920b0b70"
      },
      "outputs": [],
      "source": [
        "BATCH_SIZE = 256\n",
        "data_pipe_train1 = data_pipe_train.bucketbatch(\n",
        "    batch_size = BATCH_SIZE,\n",
        "    use_in_batch_shuffle=False,\n",
        ")\n",
        "data_pipe_test1 = data_pipe_test.bucketbatch(\n",
        "    batch_size = test_size\n",
        ")"
      ]
    },
    {
      "cell_type": "code",
      "execution_count": null,
      "id": "3d1320f0-55e8-4f77-b4dc-e72b9cddde66",
      "metadata": {
        "id": "3d1320f0-55e8-4f77-b4dc-e72b9cddde66"
      },
      "outputs": [],
      "source": [
        "# [  [([а,б,в], [a,b,c]), ([г,д,е], [d,f,g])]  ,  [([а,б,в], [a,b,c]), ([г,д,е], [d,f,g])]  ]\n",
        "# [  [([а,б,в],[г,д,е]), ([a,b,c], [d,f,g])]   ,  [([а,б,в],[г,д,е]), ([a,b,c], [d,f,g])]   ]\n",
        "def separate(pair: list[tuple[list[int], list[int], list[int]]]) -> list[tuple[list[int], list[int], list[int]]]:\n",
        "    examples, targets_with_sos, targets_with_eos = zip(*pair)\n",
        "    return examples, targets_with_sos, targets_with_eos\n",
        "    # return torch.tensor(examples, device=device), torch.tensor(targets_with_sos, device=device), torch.tensor(targets_with_eos, device=device)"
      ]
    },
    {
      "cell_type": "code",
      "execution_count": null,
      "id": "6a1a9c27-8f45-4e17-964b-a856326506b2",
      "metadata": {
        "id": "6a1a9c27-8f45-4e17-964b-a856326506b2"
      },
      "outputs": [],
      "source": [
        "data_pipe_train2 = data_pipe_train1.map(separate)\n",
        "data_pipe_test2 = data_pipe_test1.map(separate)\n",
        "# print_simple_data_pipe(data_pipe_test2)"
      ]
    },
    {
      "cell_type": "markdown",
      "id": "39e65819-662c-4f2d-8084-a8054c213ffe",
      "metadata": {
        "id": "39e65819-662c-4f2d-8084-a8054c213ffe"
      },
      "source": [
        "**Перенос данных на cuda**"
      ]
    },
    {
      "cell_type": "code",
      "execution_count": null,
      "id": "46d4ac2c-73df-4258-becb-9b142e7c85bd",
      "metadata": {
        "id": "46d4ac2c-73df-4258-becb-9b142e7c85bd",
        "outputId": "ce9850d7-b893-42e3-99e3-e0d0ce61825b"
      },
      "outputs": [
        {
          "data": {
            "text/plain": [
              "('NVIDIA GeForce MX550',\n",
              " _CudaDeviceProperties(name='NVIDIA GeForce MX550', major=7, minor=5, total_memory=2047MB, multi_processor_count=16))"
            ]
          },
          "execution_count": 26,
          "metadata": {},
          "output_type": "execute_result"
        }
      ],
      "source": [
        "torch.cuda.get_device_name(), torch.cuda.get_device_properties(torch.cuda.current_device)\n",
        "#не гугловская тесла, но чет пукает"
      ]
    },
    {
      "cell_type": "code",
      "execution_count": null,
      "id": "8d452833-a693-4087-a51e-1837d8c008d6",
      "metadata": {
        "id": "8d452833-a693-4087-a51e-1837d8c008d6",
        "outputId": "4aeffeeb-d331-46ec-9e8c-c9b6cb780565"
      },
      "outputs": [
        {
          "data": {
            "text/plain": [
              "device(type='cuda')"
            ]
          },
          "execution_count": 27,
          "metadata": {},
          "output_type": "execute_result"
        }
      ],
      "source": [
        "device = torch.device('cuda' if torch.cuda.is_available() else 'cpu')\n",
        "# device = 'cpu'\n",
        "device"
      ]
    },
    {
      "cell_type": "code",
      "execution_count": null,
      "id": "074fcf31-d113-410a-ba7f-097769a29dd3",
      "metadata": {
        "id": "074fcf31-d113-410a-ba7f-097769a29dd3"
      },
      "outputs": [],
      "source": [
        "def transfer_to_cuda(pair):\n",
        "    return (torch.tensor(pair[0], device=device), torch.tensor(pair[1], device=device), torch.tensor(pair[2], device=device))"
      ]
    },
    {
      "cell_type": "code",
      "execution_count": null,
      "id": "eb250445-136d-48dd-888d-0e2f67fa01fb",
      "metadata": {
        "id": "eb250445-136d-48dd-888d-0e2f67fa01fb"
      },
      "outputs": [],
      "source": [
        "data_pipe_train3 = data_pipe_train2.map(transfer_to_cuda)\n",
        "data_pipe_test3 = data_pipe_test2.map(transfer_to_cuda)"
      ]
    },
    {
      "cell_type": "markdown",
      "id": "9946afad-eed3-4afb-8877-3e3827ff9c96",
      "metadata": {
        "id": "9946afad-eed3-4afb-8877-3e3827ff9c96"
      },
      "source": [
        "**Применение последовательной предобработки**"
      ]
    },
    {
      "cell_type": "code",
      "execution_count": null,
      "id": "b1ac9589-41e4-4a53-8195-b0fa8f81e3f5",
      "metadata": {
        "id": "b1ac9589-41e4-4a53-8195-b0fa8f81e3f5"
      },
      "outputs": [],
      "source": [
        "data_pipe_train_final =  datapipes.iter.IterableWrapper(list(data_pipe_train3)).shuffle()\n",
        "data_pipe_test_final =  datapipes.iter.IterableWrapper(list(data_pipe_test3))"
      ]
    },
    {
      "cell_type": "markdown",
      "id": "6419ffc2-b9b2-4683-a59e-e3293bb0f894",
      "metadata": {
        "id": "6419ffc2-b9b2-4683-a59e-e3293bb0f894"
      },
      "source": [
        "**Seq2Seq class**"
      ]
    },
    {
      "cell_type": "code",
      "execution_count": null,
      "id": "6695b412-722a-403c-92fe-c85d51d17e15",
      "metadata": {
        "id": "6695b412-722a-403c-92fe-c85d51d17e15"
      },
      "outputs": [],
      "source": [
        "H_SIZE_RU = 64\n",
        "H_SIZE_EN = H_SIZE_RU + int(max_len_ru)\n",
        "EMB_SIZE = 100\n",
        "VOCAB_SIZE_RU = len(vocab_ru)\n",
        "VOCAB_SIZE_EN = len(vocab_en)\n",
        "\n",
        "class Encoder_with_embedding(nn.Module):\n",
        "    def __init__(self, VOCAB_SIZE_RU, EMB_SIZE_RU, H_SIZE_RU):\n",
        "        super(Encoder_with_embedding, self).__init__()\n",
        "        self.emb_ru = nn.Embedding(num_embeddings=VOCAB_SIZE_RU, embedding_dim=EMB_SIZE_RU)\n",
        "        self.gru_ru = nn.GRU(input_size=EMB_SIZE_RU, hidden_size=H_SIZE_RU, num_layers=1, batch_first=True)\n",
        "    def forward(self, x_ru):\n",
        "        vec_ru = self.emb_ru(x_ru)\n",
        "        # print(x_ru.shape)\n",
        "        encoder_out, encoder_hidden = self.gru_ru(vec_ru)\n",
        "        encoder_hidden = encoder_hidden.squeeze(0)\n",
        "        # print(encoder_out.shape, encoder_out[:, 0].shape, encoder_hidden.shape) # 32 83 64 | 32 64 | 32 64\n",
        "        # torch.esum('ij,ij->i', encoder_out[:, 0], encoder_hidden)\n",
        "        vnim = torch.einsum('ij,ij->i', encoder_out[:, 0], encoder_hidden)\n",
        "        for i in range(1, x_ru.shape[1]):\n",
        "            vnim = torch.column_stack((vnim, torch.einsum('ij,ij->i', encoder_out[:, i], encoder_hidden)))\n",
        "\n",
        "        return torch.cat((encoder_hidden, nn.Softmax(dim=1)(vnim)), -1)\n",
        "# или\n",
        "# class Encoder_without_embedding(nn.Module):\n",
        "#     def __init__(self EMB_SIZE_RU, H_SIZE):\n",
        "#         super(Encoder_without_embedding, self).__init__()\n",
        "#         self.gru_ru = nn.GRU(input_size=EMB_SIZE_RU, hidden_size=H_SIZE, num_layers=1, batch_first=True)\n",
        "#     def forward(self, x_vec_ru):\n",
        "#         encoder_hidden = self.gru_ru(x_vec_ru)[1].squeeze(0)\n",
        "#         return encoder_hidden\n",
        "\n",
        "class Decoder(nn.Module):\n",
        "    def __init__(self, VOCAB_SIZE_EN, EMB_SIZE_EN, H_SIZE_EN):\n",
        "        super(Decoder, self).__init__()\n",
        "        self.emb_en = nn.Embedding(VOCAB_SIZE_EN, EMB_SIZE_EN)\n",
        "        self.gru_en = nn.GRU(input_size=EMB_SIZE_EN, hidden_size=H_SIZE_EN, num_layers=1, batch_first=True)\n",
        "        self.linear = nn.Linear(H_SIZE_EN, VOCAB_SIZE_EN)\n",
        "    def forward(self, x_en, encoder_hidden):\n",
        "        vec_en = self.emb_en(x_en)\n",
        "        gru_out = self.gru_en(vec_en, encoder_hidden.unsqueeze(0))[0]\n",
        "        decoder_out = self.linear(gru_out)\n",
        "        return decoder_out\n",
        "\n",
        "class Seq2Seq(nn.Module):\n",
        "    def __init__(self, VOCAB_SIZE_RU, EMB_SIZE_RU, VOCAB_SIZE_EN, EMB_SIZE_EN, H_SIZE_RU, H_SIZE_EN):\n",
        "        super(Seq2Seq, self).__init__()\n",
        "        self.encoder = Encoder_with_embedding(VOCAB_SIZE_RU, EMB_SIZE_RU, H_SIZE_RU)\n",
        "        # self.encoder = Encoder_without_embedding(EMB_SIZE_RU, H_SIZE)\n",
        "        self.decoder = Decoder(VOCAB_SIZE_EN, EMB_SIZE_EN, H_SIZE_EN)\n",
        "    def forward(self, x_ru, x_en):\n",
        "        encoder_hidden = self.encoder(x_ru)\n",
        "        decoder_out = self.decoder(x_en, encoder_hidden)\n",
        "        return decoder_out"
      ]
    },
    {
      "cell_type": "code",
      "execution_count": null,
      "id": "ff83409f-125c-4363-a9b9-fd168f75b7d7",
      "metadata": {
        "id": "ff83409f-125c-4363-a9b9-fd168f75b7d7",
        "outputId": "d0067218-1c82-474d-a887-7e86a9ce66f6"
      },
      "outputs": [
        {
          "data": {
            "text/plain": [
              "Seq2Seq(\n",
              "  (encoder): Encoder_with_embedding(\n",
              "    (emb_ru): Embedding(106294, 100)\n",
              "    (gru_ru): GRU(100, 64, batch_first=True)\n",
              "  )\n",
              "  (decoder): Decoder(\n",
              "    (emb_en): Embedding(55280, 100)\n",
              "    (gru_en): GRU(100, 80, batch_first=True)\n",
              "    (linear): Linear(in_features=80, out_features=55280, bias=True)\n",
              "  )\n",
              ")"
            ]
          },
          "execution_count": 32,
          "metadata": {},
          "output_type": "execute_result"
        }
      ],
      "source": [
        "model = Seq2Seq(VOCAB_SIZE_RU, EMB_SIZE, VOCAB_SIZE_EN, EMB_SIZE, H_SIZE_RU, H_SIZE_EN)\n",
        "model = model.to(device)\n",
        "model #79000 41000 | 106000 55000 | 161000 84000"
      ]
    },
    {
      "cell_type": "markdown",
      "id": "7fa7e94c-95da-4015-a4c2-bf734b6cbb3c",
      "metadata": {
        "id": "7fa7e94c-95da-4015-a4c2-bf734b6cbb3c"
      },
      "source": [
        "**Алгоритм обучения**"
      ]
    },
    {
      "cell_type": "code",
      "execution_count": null,
      "id": "904f32be-b609-443e-9a11-5d7810dbc3d2",
      "metadata": {
        "id": "904f32be-b609-443e-9a11-5d7810dbc3d2"
      },
      "outputs": [],
      "source": [
        "loss = nn.CrossEntropyLoss()\n",
        "optimizer = torch.optim.Adam(model.parameters(), lr=0.0025)"
      ]
    },
    {
      "cell_type": "code",
      "execution_count": null,
      "id": "ba840aeb-4e0a-45ca-ad8e-99533df9dc16",
      "metadata": {
        "id": "ba840aeb-4e0a-45ca-ad8e-99533df9dc16"
      },
      "outputs": [],
      "source": [
        "import random"
      ]
    },
    {
      "cell_type": "code",
      "execution_count": null,
      "id": "22779e59-81d4-4330-9f57-34e8e29ef304",
      "metadata": {
        "id": "22779e59-81d4-4330-9f57-34e8e29ef304",
        "outputId": "f7c9fffa-4b64-43d8-983a-05c746e211c2"
      },
      "outputs": [
        {
          "name": "stdout",
          "output_type": "stream",
          "text": [
            "Прошло 0.5267734328905741 минут\n",
            "Время эпохи 0.5267564177513122 минут\n",
            "Эпоха 1, Значение функции потерь: 2.559390068054199\n",
            "Прошло 1.0656983693440756 минут\n",
            "Время эпохи 0.5237415989240011 минут\n",
            "Эпоха 2, Значение функции потерь: 2.4577181339263916\n",
            "Прошло 1.6056825955708822 минут\n",
            "Время эпохи 0.5247600356737773 минут\n",
            "Эпоха 3, Значение функции потерь: 2.5772221088409424\n",
            "Прошло 2.145470917224884 минут\n",
            "Время эпохи 0.5245388229688008 минут\n",
            "Эпоха 4, Значение функции потерь: 2.5999889373779297\n",
            "Прошло 2.6860827883084615 минут\n",
            "Время эпохи 0.5253540277481079 минут\n",
            "Эпоха 5, Значение функции потерь: 2.4643325805664062\n",
            "Прошло 3.2254183292388916 минут\n",
            "Время эпохи 0.524252446492513 минут\n",
            "Эпоха 6, Значение функции потерь: 2.5058395862579346\n",
            "Прошло 3.7661298910776773 минут\n",
            "Время эпохи 0.5254616061846415 минут\n",
            "Эпоха 7, Значение функции потерь: 2.5006868839263916\n",
            "Прошло 4.30612268447876 минут\n",
            "Время эпохи 0.5247259140014648 минут\n",
            "Эпоха 8, Значение функции потерь: 2.477367401123047\n",
            "Прошло 4.846101307868958 минут\n",
            "Время эпохи 0.5247454921404521 минут\n",
            "Эпоха 9, Значение функции потерь: 2.402287721633911\n",
            "Прошло 5.384613319238027 минут\n",
            "Время эпохи 0.5232452233632405 минут\n",
            "Эпоха 10, Значение функции потерь: 2.4095780849456787\n",
            "Прошло 5.923725028832753 минут\n",
            "Время эпохи 0.5239784161249796 минут\n",
            "Эпоха 11, Значение функции потерь: 2.4999470710754395\n",
            "Прошло 6.462158298492431 минут\n",
            "Время эпохи 0.5231999913851421 минут\n",
            "Эпоха 12, Значение функции потерь: 2.415299415588379\n",
            "Прошло 7.001953514417012 минут\n",
            "Время эпохи 0.5245449662208557 минут\n",
            "Эпоха 13, Значение функции потерь: 2.386300563812256\n",
            "Прошло 7.541691807905833 минут\n",
            "Время эпохи 0.5245386004447937 минут\n",
            "Эпоха 14, Значение функции потерь: 2.2472028732299805\n",
            "Прошло 8.081620466709136 минут\n",
            "Время эпохи 0.5247957587242127 минут\n",
            "Эпоха 15, Значение функции потерь: 2.3617982864379883\n",
            "Прошло 8.621442182858784 минут\n",
            "Время эпохи 0.5247217774391174 минут\n",
            "Эпоха 16, Значение функции потерь: 2.2004995346069336\n",
            "Прошло 9.161066329479217 минут\n",
            "Время эпохи 0.5244909127553304 минут\n",
            "Эпоха 17, Значение функции потерь: 2.392282724380493\n",
            "Прошло 9.70244352420171 минут\n",
            "Время эпохи 0.5260602355003356 минут\n",
            "Эпоха 18, Значение функции потерь: 2.3716025352478027\n",
            "Прошло 10.242546208699544 минут\n",
            "Время эпохи 0.5248027602831523 минут\n",
            "Эпоха 19, Значение функции потерь: 2.426042079925537\n",
            "Прошло 10.782351132233938 минут\n",
            "Время эпохи 0.5246205965677897 минут\n",
            "Эпоха 20, Значение функции потерь: 2.3649585247039795\n",
            "Прошло 11.322958322366079 минут\n",
            "Время эпохи 0.5253140767415364 минут\n",
            "Эпоха 21, Значение функции потерь: 2.3094537258148193\n",
            "Прошло 11.863165616989136 минут\n",
            "Время эпохи 0.5249699831008912 минут\n",
            "Эпоха 22, Значение функции потерь: 2.2736024856567383\n",
            "Прошло 12.409186510245005 минут\n",
            "Время эпохи 0.5309208949406942 минут\n",
            "Эпоха 23, Значение функции потерь: 0.8956632614135742\n",
            "Прошло 12.943153230349223 минут\n",
            "Время эпохи 0.5245676040649414 минут\n",
            "Эпоха 24, Значение функции потерь: 2.11482834815979\n",
            "Прошло 13.483489839235942 минут\n",
            "Время эпохи 0.5251529137293498 минут\n",
            "Эпоха 25, Значение функции потерь: 2.3841917514801025\n",
            "Прошло 14.02618819475174 минут\n",
            "Время эпохи 0.5274800737698873 минут\n",
            "Эпоха 26, Значение функции потерь: 2.3529391288757324\n",
            "Прошло 14.56613913377126 минут\n",
            "Время эпохи 0.5247512499491374 минут\n",
            "Эпоха 27, Значение функции потерь: 2.396787166595459\n",
            "Прошло 15.10577855904897 минут\n",
            "Время эпохи 0.5244230786959331 минут\n",
            "Эпоха 28, Значение функции потерь: 2.3624978065490723\n",
            "Прошло 15.646386031309763 минут\n",
            "Время эпохи 0.5253234227498372 минут\n",
            "Эпоха 29, Значение функции потерь: 2.35810923576355\n",
            "Прошло 16.186154615879058 минут\n",
            "Время эпохи 0.5246853510538737 минут\n",
            "Эпоха 30, Значение функции потерь: 2.4158935546875\n",
            "Прошло 16.727174480756123 минут\n",
            "Время эпохи 0.5258861184120178 минут\n",
            "Эпоха 31, Значение функции потерь: 2.4075984954833984\n",
            "Прошло 17.266967268784843 минут\n",
            "Время эпохи 0.5247595389684041 минут\n",
            "Эпоха 32, Значение функции потерь: 2.27957820892334\n",
            "Прошло 17.807145611445108 минут\n",
            "Время эпохи 0.5249721924463908 минут\n",
            "Эпоха 33, Значение функции потерь: 2.1300485134124756\n",
            "Прошло 18.34734761317571 минут\n",
            "Время эпохи 0.5249661723772685 минут\n",
            "Эпоха 34, Значение функции потерь: 2.226529121398926\n",
            "Прошло 18.88761329650879 минут\n",
            "Время эпохи 0.5250655174255371 минут\n",
            "Эпоха 35, Значение функции потерь: 2.0840771198272705\n",
            "Прошло 19.42759871482849 минут\n",
            "Время эпохи 0.5248187263806661 минут\n",
            "Эпоха 36, Значение функции потерь: 2.2522683143615723\n",
            "Прошло 19.967570690313973 минут\n",
            "Время эпохи 0.5248556892077129 минут\n",
            "Эпоха 37, Значение функции потерь: 2.373260259628296\n",
            "Прошло 20.511611409982045 минут\n",
            "Время эпохи 0.5287237087885539 минут\n",
            "Эпоха 38, Значение функции потерь: 2.1709721088409424\n",
            "Прошло 21.05182337363561 минут\n",
            "Время эпохи 0.5248932282129923 минут\n",
            "Эпоха 39, Значение функции потерь: 2.039196729660034\n",
            "Прошло 21.59153900941213 минут\n",
            "Время эпохи 0.5247147957483927 минут\n",
            "Эпоха 40, Значение функции потерь: 2.1473350524902344\n",
            "Прошло 22.131853353977203 минут\n",
            "Время эпохи 0.525079321861267 минут\n",
            "Эпоха 41, Значение функции потерь: 2.163090944290161\n",
            "Прошло 22.67140736579895 минут\n",
            "Время эпохи 0.5244655927022298 минут\n",
            "Эпоха 42, Значение функции потерь: 2.056670665740967\n",
            "Прошло 23.21205337444941 минут\n",
            "Время эпохи 0.5254791418711344 минут\n",
            "Эпоха 43, Значение функции потерь: 2.2041819095611572\n",
            "Прошло 23.752204461892447 минут\n",
            "Время эпохи 0.5249844868977864 минут\n",
            "Эпоха 44, Значение функции потерь: 2.2988100051879883\n",
            "Прошло 24.2921097834905 минут\n",
            "Время эпохи 0.5248055855433146 минут\n",
            "Эпоха 45, Значение функции потерь: 2.243532419204712\n",
            "Прошло 24.832427175839744 минут\n",
            "Время эпохи 0.5249340891838074 минут\n",
            "Эпоха 46, Значение функции потерь: 2.0353636741638184\n",
            "Прошло 25.372656826178233 минут\n",
            "Время эпохи 0.5250405470530192 минут\n",
            "Эпоха 47, Значение функции потерь: 2.107346773147583\n",
            "Прошло 25.912633510430656 минут\n",
            "Время эпохи 0.524860143661499 минут\n",
            "Эпоха 48, Значение функции потерь: 2.149374485015869\n",
            "Прошло 26.452750221888223 минут\n",
            "Время эпохи 0.5250831127166748 минут\n",
            "Эпоха 49, Значение функции потерь: 2.173638343811035\n",
            "Прошло 26.992428946495057 минут\n",
            "Время эпохи 0.5244256059328715 минут\n",
            "Эпоха 50, Значение функции потерь: 2.0774271488189697\n",
            "Прошло 27.53560413122177 минут\n",
            "Время эпохи 0.5278517405192057 минут\n",
            "Эпоха 51, Значение функции потерь: 2.0149731636047363\n",
            "Прошло 28.075368932882945 минут\n",
            "Время эпохи 0.5245981176694234 минут\n",
            "Эпоха 52, Значение функции потерь: 2.1183011531829834\n",
            "Прошло 28.61579581896464 минут\n",
            "Время эпохи 0.5251933375994364 минут\n",
            "Эпоха 53, Значение функции потерь: 1.958009958267212\n",
            "Прошло 29.15555534362793 минут\n",
            "Время эпохи 0.5245254874229431 минут\n",
            "Эпоха 54, Значение функции потерь: 2.165097713470459\n",
            "Прошло 29.695665287971497 минут\n",
            "Время эпохи 0.5248926877975464 минут\n",
            "Эпоха 55, Значение функции потерь: 2.0977156162261963\n",
            "Прошло 30.235713438193002 минут\n",
            "Время эпохи 0.5248311638832093 минут\n",
            "Эпоха 56, Значение функции потерь: 2.2049388885498047\n",
            "Прошло 30.775679941972097 минут\n",
            "Время эпохи 0.5248334685961406 минут\n",
            "Эпоха 57, Значение функции потерь: 2.003619909286499\n",
            "Прошло 31.316392993927003 минут\n",
            "Время эпохи 0.5253976901372274 минут\n",
            "Эпоха 58, Значение функции потерь: 2.079862594604492\n",
            "Прошло 31.857067290941874 минут\n",
            "Время эпохи 0.5254744052886963 минут\n",
            "Эпоха 59, Значение функции потерь: 2.0997374057769775\n",
            "Прошло 32.39683144887288 минут\n",
            "Время эпохи 0.5245970129966736 минут\n",
            "Эпоха 60, Значение функции потерь: 2.1323444843292236\n",
            "Прошло 32.93724783261617 минут\n",
            "Время эпохи 0.5252500573794047 минут\n",
            "Эпоха 61, Значение функции потерь: 2.0456676483154297\n",
            "Прошло 33.47800719340642 минут\n",
            "Время эпохи 0.5250260392824809 минут\n",
            "Эпоха 62, Значение функции потерь: 2.049984931945801\n",
            "Прошло 34.018478361765546 минут\n",
            "Время эпохи 0.5252702554066976 минут\n",
            "Эпоха 63, Значение функции потерь: 1.9834017753601074\n",
            "Прошло 34.55836913188298 минут\n",
            "Время эпохи 0.5246780395507813 минут\n",
            "Эпоха 64, Значение функции потерь: 2.083709955215454\n",
            "Прошло 35.09916507005691 минут\n",
            "Время эпохи 0.5256437023480733 минут\n",
            "Эпоха 65, Значение функции потерь: 2.106701612472534\n",
            "Прошло 35.640575460592906 минут\n",
            "Время эпохи 0.5262606183687846 минут\n",
            "Эпоха 66, Значение функции потерь: 2.085585594177246\n",
            "Прошло 36.1811230023702 минут\n",
            "Время эпохи 0.5253637671470642 минут\n",
            "Эпоха 67, Значение функции потерь: 1.8853850364685059\n",
            "Прошло 36.72172196706136 минут\n",
            "Время эпохи 0.5254324118296305 минут\n",
            "Эпоха 68, Значение функции потерь: 2.1162540912628174\n",
            "Прошло 37.262569359938304 минут\n",
            "Время эпохи 0.5255971948305765 минут\n",
            "Эпоха 69, Значение функции потерь: 2.0193588733673096\n",
            "Прошло 37.80247734387716 минут\n",
            "Время эпохи 0.5247401873270671 минут\n",
            "Эпоха 70, Значение функции потерь: 2.03017520904541\n",
            "Прошло 38.342909630139665 минут\n",
            "Время эпохи 0.5252550721168519 минут\n",
            "Эпоха 71, Значение функции потерь: 1.9911398887634277\n",
            "Прошло 38.88344180583954 минут\n",
            "Время эпохи 0.5254822572072347 минут\n",
            "Эпоха 72, Значение функции потерь: 2.074669361114502\n",
            "Прошло 39.423982218901315 минут\n",
            "Время эпохи 0.5254900455474854 минут\n",
            "Эпоха 73, Значение функции потерь: 1.9655412435531616\n",
            "Прошло 39.96434603134791 минут\n",
            "Время эпохи 0.5252344250679016 минут\n",
            "Эпоха 74, Значение функции потерь: 2.1486456394195557\n",
            "Прошло 40.504467658201854 минут\n",
            "Время эпохи 0.525000806649526 минут\n",
            "Эпоха 75, Значение функции потерь: 2.094571828842163\n",
            "Прошло 41.04452436367671 минут\n",
            "Время эпохи 0.5247901558876038 минут\n",
            "Эпоха 76, Значение функции потерь: 1.98489248752594\n",
            "Прошло 41.58486601114273 минут\n",
            "Время эпохи 0.5252081473668416 минут\n",
            "Эпоха 77, Значение функции потерь: 2.079981803894043\n",
            "Прошло 42.12470545768738 минут\n",
            "Время эпохи 0.5246564507484436 минут\n",
            "Эпоха 78, Значение функции потерь: 2.122976779937744\n",
            "Прошло 42.66510602235794 минут\n",
            "Время эпохи 0.5250332872072856 минут\n",
            "Эпоха 79, Значение функции потерь: 1.957154393196106\n",
            "Прошло 43.20502822796504 минут\n",
            "Время эпохи 0.5247384230295817 минут\n",
            "Эпоха 80, Значение функции потерь: 1.9136933088302612\n",
            "Прошло 43.74539045492808 минут\n",
            "Время эпохи 0.5252961238225301 минут\n",
            "Эпоха 81, Значение функции потерь: 1.9272499084472656\n",
            "Прошло 44.28534245093663 минут\n",
            "Время эпохи 0.5247850974400838 минут\n",
            "Эпоха 82, Значение функции потерь: 1.8951746225357056\n",
            "Прошло 44.82563012043635 минут\n",
            "Время эпохи 0.5251050511995952 минут\n",
            "Эпоха 83, Значение функции потерь: 1.9952722787857056\n",
            "Прошло 45.365602505207065 минут\n",
            "Время эпохи 0.5248355507850647 минут\n",
            "Эпоха 84, Значение функции потерь: 1.8443974256515503\n",
            "Прошло 45.907095499833424 минут\n",
            "Время эпохи 0.5263433456420898 минут\n",
            "Эпоха 85, Значение функции потерь: 1.9194120168685913\n",
            "Прошло 46.44720845222473 минут\n",
            "Время эпохи 0.524896252155304 минут\n",
            "Эпоха 86, Значение функции потерь: 2.220831871032715\n",
            "Прошло 46.98801652987798 минут\n",
            "Время эпохи 0.5256248553593953 минут\n",
            "Эпоха 87, Значение функции потерь: 1.799489974975586\n",
            "Прошло 47.52793112595876 минут\n",
            "Время эпохи 0.5246978839238484 минут\n",
            "Эпоха 88, Значение функции потерь: 2.044405937194824\n",
            "Прошло 48.06792864004771 минут\n",
            "Время эпохи 0.5248145699501038 минут\n",
            "Эпоха 89, Значение функции потерь: 2.002729654312134\n",
            "Прошло 48.60829025506973 минут\n",
            "Время эпохи 0.5252946535746257 минут\n",
            "Эпоха 90, Значение функции потерь: 1.784533977508545\n",
            "Прошло 49.14908538262049 минут\n",
            "Время эпохи 0.5253117799758911 минут\n",
            "Эпоха 91, Значение функции потерь: 1.9759674072265625\n",
            "Прошло 49.68913350900014 минут\n",
            "Время эпохи 0.5248791456222535 минут\n",
            "Эпоха 92, Значение функции потерь: 1.8314642906188965\n",
            "Прошло 50.22959346373876 минут\n",
            "Время эпохи 0.5253266334533692 минут\n",
            "Эпоха 93, Значение функции потерь: 1.8182814121246338\n",
            "Прошло 50.76962002913157 минут\n",
            "Время эпохи 0.524726668993632 минут\n",
            "Эпоха 94, Значение функции потерь: 1.7522878646850586\n",
            "Прошло 51.30980550845464 минут\n",
            "Время эпохи 0.524935515721639 минут\n",
            "Эпоха 95, Значение функции потерь: 2.029214382171631\n",
            "Прошло 51.85538431008657 минут\n",
            "Время эпохи 0.5304573853810628 минут\n",
            "Эпоха 96, Значение функции потерь: 0.5623654127120972\n",
            "Прошло 52.39026012420654 минут\n",
            "Время эпохи 0.5253261605898539 минут\n",
            "Эпоха 97, Значение функции потерь: 1.843921422958374\n",
            "Прошло 52.93022954066594 минут\n",
            "Время эпохи 0.5248194654782613 минут\n",
            "Эпоха 98, Значение функции потерь: 1.9098631143569946\n",
            "Прошло 53.470508082707724 минут\n",
            "Время эпохи 0.5250963926315307 минут\n",
            "Эпоха 99, Значение функции потерь: 1.8024067878723145\n",
            "Прошло 54.01066876252492 минут\n",
            "Время эпохи 0.5249675869941711 минут\n",
            "Эпоха 100, Значение функции потерь: 1.8365617990493774\n",
            "Прошло 54.02595178683599 минут. Время на эпоху: 0.5402595178683599\n"
          ]
        }
      ],
      "source": [
        "epochs = 100\n",
        "Teacher_Enforcing = 0.9\n",
        "a = time.time()\n",
        "for epoch in range(epochs):\n",
        "    run = time.time()\n",
        "    for x_ru, x_en_with_sos, x_en_with_eos in list(data_pipe_train_final):\n",
        "        x_en_shape = x_en_with_sos.shape\n",
        "        pred = torch.zeros(x_en_shape[0], x_en_shape[1], device=device).type(torch.int32)\n",
        "        pred[:, 0] = 1\n",
        "        outputs = model(x_ru, pred)\n",
        "        for i in range(x_en_shape[1]):\n",
        "            if random.uniform(0, 1) < Teacher_Enforcing:\n",
        "                save = outputs[:, i-1].argmax(1)\n",
        "                pred[:, i] = save\n",
        "            else:\n",
        "                save = x_en_with_sos[:, i]\n",
        "                pred[:, i] = save\n",
        "            # pam *=Teacher_Enforcing\n",
        "            outputs = model(x_ru, pred)\n",
        "        # print(pred)\n",
        "        # print(outputs.argmax(2))\n",
        "        # print(nn.ConstantPad1d((1, 0), 1)(outputs).shape, nn.ConstantPad1d((0, 1), 0)(x_en).shape)\n",
        "        # print(outputs[:].reshape(-1, outputs.shape[2]).shape, x_en[:].reshape(-1).shape)\n",
        "        loss_value = loss(outputs[:].reshape(-1, outputs.shape[2]), x_en_with_eos[:].reshape(-1))\n",
        "        optimizer.zero_grad()\n",
        "        loss_value.backward()\n",
        "        optimizer.step()\n",
        "\n",
        "\n",
        "\n",
        "    print(f'Прошло {(time.time() - a)/60} минут')\n",
        "    print(f'Время эпохи {(time.time() - run)/60} минут')\n",
        "    print(f'Эпоха {epoch + 1}, Значение функции потерь: {loss_value.item()}')\n",
        "print(f'Прошло {(time.time() - a)/60} минут. Время на эпоху: {(time.time() - a)/60/epochs}')\n",
        "#500 obj - 32 batch - 1.5673409223556518 минут\n",
        "#500 obj - 64 batch - 0.9876247843106588 минут\n",
        "#500 obj - 128 batch - 0.9665880322456359 минут\n",
        "#500 obj - 256 batch - 0.5786411007245381 минут\n",
        "#2000 obj - 256 batch -"
      ]
    },
    {
      "cell_type": "markdown",
      "id": "0344df82-a1a0-4285-8296-9c8762565d53",
      "metadata": {
        "id": "0344df82-a1a0-4285-8296-9c8762565d53"
      },
      "source": [
        "**Проверка перевода**"
      ]
    },
    {
      "cell_type": "code",
      "execution_count": null,
      "id": "127a0f82-ebc4-4c1e-8fd2-4b938a232aa0",
      "metadata": {
        "id": "127a0f82-ebc4-4c1e-8fd2-4b938a232aa0"
      },
      "outputs": [],
      "source": [
        "text_ru, text_en, text_en2 = list(data_pipe_train_final)[0]\n",
        "text_ru1, text_en1, text_en21 = list(data_pipe_test_final)[0]"
      ]
    },
    {
      "cell_type": "code",
      "execution_count": null,
      "id": "31cbaf06-62ef-4551-9d5b-00d81f7703db",
      "metadata": {
        "id": "31cbaf06-62ef-4551-9d5b-00d81f7703db",
        "outputId": "83ed7070-41a3-4669-9fe8-2a9e07976541"
      },
      "outputs": [
        {
          "name": "stdout",
          "output_type": "stream",
          "text": [
            "<sos> кольцевой туристический маршрут <eos> <pad> <pad> <pad> <pad> <pad> <pad> <pad> <pad> <pad> <pad> <pad>\n",
            "<sos> rundumadum hiking trail <pad> <pad> <pad> <pad> <pad> <pad> <pad> <pad> <pad> <pad> <pad> <pad> <pad> <pad>\n",
            "rundumadum hiking trail <eos> <pad> <pad> <pad> <pad> <pad> <pad> <pad> <pad> <pad> <pad> <pad> <pad> <pad> <pad>\n",
            "\n",
            "<sos> он научится быть спокойным при завершении атаки <eos> <pad> <pad> <pad> <pad> <pad> <pad> <pad>\n",
            "<sos> he will learn to calm down when finishing <pad> <pad> <pad> <pad> <pad> <pad> <pad> <pad> <pad>\n"
          ]
        }
      ],
      "source": [
        "vocab1 = vocab_ru.get_itos()\n",
        "vocab2 = vocab_en.get_itos()\n",
        "print(*[ vocab1[i.to('cpu').numpy()] for i in text_ru[0].clone().detach() ])\n",
        "print(*[ vocab2[i.to('cpu').numpy()] for i in text_en[0].clone().detach() ])\n",
        "print(*[ vocab2[i.to('cpu').numpy()] for i in text_en2[0].clone().detach() ])\n",
        "print()\n",
        "print(*[ vocab1[i.to('cpu').numpy()] for i in text_ru1[0].clone().detach() ])\n",
        "print(*[ vocab2[i.to('cpu').numpy()] for i in text_en1[0].clone().detach() ])"
      ]
    },
    {
      "cell_type": "code",
      "execution_count": null,
      "id": "a88791ad-5b90-4f86-9ccd-a43b4f1d91db",
      "metadata": {
        "id": "a88791ad-5b90-4f86-9ccd-a43b4f1d91db",
        "outputId": "06f1a2ba-57a8-49f7-f247-eee2c074de75"
      },
      "outputs": [
        {
          "name": "stdout",
          "output_type": "stream",
          "text": [
            "<pad> rundumadum hiking trail <eos> <pad> <pad> <pad> <pad> <pad> <pad> <pad> <pad> <pad> <pad> <pad> <pad> <pad>\n",
            "<pad> the is the the the phenomena once and and the of and tenants <eos> <pad> <pad> <pad>\n"
          ]
        }
      ],
      "source": [
        "pred = torch.zeros(text_en.shape[0], text_en.shape[1], device=device).type(torch.int32)\n",
        "pred[:, 0] = 1\n",
        "for i in range(text_en.shape[1]):\n",
        "    outputs = model(text_ru, pred)\n",
        "    save = outputs[:, i-1].argmax(1)\n",
        "    pred[:, i] = save\n",
        "print(*[ vocab2[i.to('cpu').numpy()] for i in pred[0].clone().detach() ])\n",
        "\n",
        "pred = torch.zeros(text_en1.shape[0], text_en1.shape[1], device=device).type(torch.int32)\n",
        "pred[:, 0] = 1\n",
        "for i in range(text_en1.shape[1]):\n",
        "    outputs = model(text_ru1, pred)\n",
        "    save = outputs[:, i-1].argmax(1)\n",
        "    pred[:, i] = save\n",
        "print(*[ vocab2[i.to('cpu').numpy()] for i in pred[0].clone().detach() ])"
      ]
    }
  ],
  "metadata": {
    "kernelspec": {
      "display_name": "Python 3 (ipykernel)",
      "language": "python",
      "name": "python3"
    },
    "language_info": {
      "codemirror_mode": {
        "name": "ipython",
        "version": 3
      },
      "file_extension": ".py",
      "mimetype": "text/x-python",
      "name": "python",
      "nbconvert_exporter": "python",
      "pygments_lexer": "ipython3",
      "version": "3.11.4"
    },
    "colab": {
      "provenance": []
    }
  },
  "nbformat": 4,
  "nbformat_minor": 5
}