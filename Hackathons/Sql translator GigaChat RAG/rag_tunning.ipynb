{
 "cells": [
  {
   "cell_type": "code",
   "execution_count": null,
   "id": "dce0abe3-eff9-4c55-8371-0c998e60f425",
   "metadata": {},
   "outputs": [],
   "source": [
    "!pip install gigachain faiss-cpu sentence-transformers torch langchain_comunity"
   ]
  },
  {
   "cell_type": "code",
   "execution_count": 17,
   "id": "d1314ed0-986d-4a80-81fa-bd5f507f2ffd",
   "metadata": {},
   "outputs": [],
   "source": [
    "from langchain.chat_models import GigaChat\n",
    "from langchain_community.embeddings import HuggingFaceEmbeddings\n",
    "from langchain_community.vectorstores import FAISS\n",
    "from langchain.chains.combine_documents import create_stuff_documents_chain\n",
    "from langchain_core.prompts import ChatPromptTemplate\n",
    "from langchain.text_splitter import RecursiveCharacterTextSplitter\n",
    "from langchain.chains import create_retrieval_chain\n",
    "from langchain.docstore.document import Document\n",
    "import json\n",
    "import warnings\n",
    "warnings.filterwarnings(\"ignore\")"
   ]
  },
  {
   "cell_type": "code",
   "execution_count": 18,
   "id": "b97a2f2f-45d9-4e85-a089-71869b597715",
   "metadata": {},
   "outputs": [],
   "source": [
    "with open(\"rag.json\", \"r\", encoding=\"utf-8\") as file:\n",
    "    json_data = json.load(file)"
   ]
  },
  {
   "cell_type": "code",
   "execution_count": 19,
   "id": "1b0dddff-1525-49ee-8aa9-dfe2d2d40266",
   "metadata": {},
   "outputs": [],
   "source": [
    "API_KEY = \"Yjg4MTQzMmUtNDAwMS00NDk0LThjOGUtNmU5ZWQ2YzQ4NDQ2OjcxODg0YjhmLTYyMDItNDQ5ZC04NjI2LTY1NjM0ZjU1MGJlYg==\"\n",
    "SCOPE = \"GIGACHAT_API_CORP\"\n",
    "MODEL = \"GigaChat-Pro\"\n",
    "IS_VERIFY_SSL_CERTS = False\n",
    "IS_PROFANITY_CHECK = False"
   ]
  },
  {
   "cell_type": "code",
   "execution_count": 20,
   "id": "fdd290f0-ae2e-4ff7-9589-f11f1c2cfabd",
   "metadata": {},
   "outputs": [],
   "source": [
    "documents = []\n",
    "for item in json_data:\n",
    "    doc = Document(\n",
    "        page_content=item[\"text\"],  \n",
    "        metadata={\n",
    "            \"id\": item[\"id\"],\n",
    "            \"title\": item[\"title\"],\n",
    "            \"page\": item[\"page\"],\n",
    "            \"keywords\": item[\"keywords\"]\n",
    "        }\n",
    "    )\n",
    "    documents.append(doc)"
   ]
  },
  {
   "cell_type": "code",
   "execution_count": 21,
   "id": "6622d4e0-4bec-4d36-862e-016f3822160d",
   "metadata": {},
   "outputs": [
    {
     "name": "stdout",
     "output_type": "stream",
     "text": [
      "Total documents: 58\n"
     ]
    }
   ],
   "source": [
    "text_splitter = RecursiveCharacterTextSplitter(\n",
    "    chunk_size=1000,\n",
    "    chunk_overlap=200,\n",
    ")\n",
    "documents = text_splitter.split_documents(documents)\n",
    "print(f\"Total documents: {len(documents)}\")"
   ]
  },
  {
   "cell_type": "code",
   "execution_count": 22,
   "id": "6b2a8a93-6ebd-4d98-8dcf-66805ee388f6",
   "metadata": {},
   "outputs": [
    {
     "data": {
      "text/plain": [
       "Document(metadata={'id': '28', 'title': 'Портированная версия в PL/pgSQL', 'page': 7, 'keywords': ['PL/pgSQL', 'процедура', 'исключения']}, page_content=\"CREATE OR REPLACE PROCEDURE cs_create_job(v_job_id integer) AS $$ DECLARE a_running_job_count integer; BEGIN LOCK TABLE cs_jobs IN EXCLUSIVE MODE; SELECT count(*) INTO a_running_job_count FROM cs_jobs WHERE end_stamp IS NULL; IF a_running_job_count > 0 THEN COMMIT; RAISE EXCEPTION 'Unable to create a new job: a job is currently running'; END IF; DELETE FROM cs_active_job; INSERT INTO cs_active_job(job_id) VALUES (v_job_id); BEGIN INSERT INTO cs_jobs (job_id, start_stamp) VALUES (v_job_id, now()); EXCEPTION WHEN unique_violation THEN NULL; END; COMMIT; END; $$ LANGUAGE plpgsql;\")"
      ]
     },
     "execution_count": 22,
     "metadata": {},
     "output_type": "execute_result"
    }
   ],
   "source": [
    "documents[30]"
   ]
  },
  {
   "cell_type": "code",
   "execution_count": 23,
   "id": "3002c166-50a9-4c0d-be3e-1b994fe2263f",
   "metadata": {},
   "outputs": [
    {
     "name": "stderr",
     "output_type": "stream",
     "text": [
      "No sentence-transformers model found with name DeepPavlov/rubert-base-cased. Creating a new one with mean pooling.\n",
      "Some weights of the model checkpoint at DeepPavlov/rubert-base-cased were not used when initializing BertModel: ['cls.predictions.bias', 'cls.predictions.decoder.bias', 'cls.predictions.decoder.weight', 'cls.predictions.transform.LayerNorm.bias', 'cls.predictions.transform.LayerNorm.weight', 'cls.predictions.transform.dense.bias', 'cls.predictions.transform.dense.weight', 'cls.seq_relationship.bias', 'cls.seq_relationship.weight']\n",
      "- This IS expected if you are initializing BertModel from the checkpoint of a model trained on another task or with another architecture (e.g. initializing a BertForSequenceClassification model from a BertForPreTraining model).\n",
      "- This IS NOT expected if you are initializing BertModel from the checkpoint of a model that you expect to be exactly identical (initializing a BertForSequenceClassification model from a BertForSequenceClassification model).\n"
     ]
    }
   ],
   "source": [
    "model_name = \"DeepPavlov/rubert-base-cased\"\n",
    "model_kwargs = {'device': 'cpu'}\n",
    "encode_kwargs = {'normalize_embeddings': False}\n",
    "embedding = HuggingFaceEmbeddings(model_name=model_name,\n",
    "                                  model_kwargs=model_kwargs,\n",
    "                                  encode_kwargs=encode_kwargs)\n",
    "\n",
    "vector_store = FAISS.from_documents(documents, embedding=embedding)"
   ]
  },
  {
   "cell_type": "code",
   "execution_count": 24,
   "id": "bb995114-ae32-4727-a498-796ace4963da",
   "metadata": {},
   "outputs": [],
   "source": [
    "embedding_retriever = vector_store.as_retriever(search_kwargs={\"k\": 5})"
   ]
  },
  {
   "cell_type": "code",
   "execution_count": 25,
   "id": "a9466da6-191e-48c1-b797-078ace5a1363",
   "metadata": {},
   "outputs": [],
   "source": [
    "llm = GigaChat(credentials=API_KEY,\n",
    "              model=MODEL,\n",
    "              scope=SCOPE,\n",
    "              verify_ssl_certs=IS_VERIFY_SSL_CERTS,\n",
    "              profanity_check=IS_PROFANITY_CHECK)"
   ]
  },
  {
   "cell_type": "code",
   "execution_count": 26,
   "id": "9d11e521-3ecb-4eda-8de6-1f186cd3b270",
   "metadata": {},
   "outputs": [],
   "source": [
    "prompt=\"\"\"\n",
    "Контекст: {context}\n",
    "Вопрос:\n",
    "Ниже представлен код запроса для СУБД Oracle. Преобразуй этот код для его использования в PostgreSQL, строго соблюдая следующие требования:\n",
    "\n",
    "Перевод синтаксиса и функций: Если в Oracle используются специфические функции или операторы, замени их на точные эквиваленты в PostgreSQL. Например, для SEQUENCE, используй SERIAL или GENERATED. Обязательно комментируй каждую замену и поясняй, почему она сделана.\n",
    "Адаптация типов данных: Внимательно следи за типами данных, которые могут отличаться между Oracle и PostgreSQL (например, VARCHAR2 в Oracle и VARCHAR в PostgreSQL). Перечисли все измененные типы данных и объясни, почему они были изменены.\n",
    "Поддержка полной функциональности: Сохрани логику запроса без изменений. Не удаляй и не модифицируй части кода, которые не требуют преобразования.\n",
    "Проверка совместимости: Убедись, что финальный код полностью соответствует стандартам PostgreSQL и корректно выполняется в этой СУБД. Если существуют ограничения, которые могут повлиять на выполнение, обязательно укажи их.\n",
    "Пояснение работы запроса: Помимо преобразования, опиши в деталях, что делает этот запрос. Объясни шаги логики, чтобы было ясно, как работает запрос на уровне действий (выборка, фильтрация, агрегация и т.д.).\n",
    "Присылание кода в sql Присылай только полный код, не нужно присылать его частями.\n",
    "Использование EXCEPT Не используй MINUS, мне нужно через EXCEPT.\n",
    "Конструкция SQL: Используй конструкцию SQL только для того, чтобы отправить весь код целиком. Для отдельных пояснений частей кода конструкцию SQL применять категорически запрещено, иначе система перестанет работать и я буду за это наказан.\n",
    "Напиши обязательно описание переданного запроса. Обязательно!!!\n",
    "Если в запросе есть CREATE TABLE или INSERT обязательно оставь их, у меня нет пальцев.\n",
    "{input}\n",
    "\"\"\""
   ]
  },
  {
   "cell_type": "code",
   "execution_count": 27,
   "id": "728bd0d9-0f93-4ef4-b90b-f36d8602c409",
   "metadata": {},
   "outputs": [],
   "source": [
    "prompt = ChatPromptTemplate.from_template(prompt)"
   ]
  },
  {
   "cell_type": "code",
   "execution_count": 29,
   "id": "c9308dc5-0299-4a9f-ae91-980080da1f5a",
   "metadata": {},
   "outputs": [],
   "source": [
    "document_chain = create_stuff_documents_chain(\n",
    "    llm=llm,\n",
    "    prompt=prompt\n",
    ")"
   ]
  },
  {
   "cell_type": "code",
   "execution_count": 30,
   "id": "0f3735c4-f8be-478b-8139-71fdbe2c4ef7",
   "metadata": {},
   "outputs": [],
   "source": [
    "retrieval_chain = create_retrieval_chain(embedding_retriever, document_chain)"
   ]
  },
  {
   "cell_type": "markdown",
   "id": "f5c64270-6ec1-4e57-a91f-a82b3bea9d9a",
   "metadata": {},
   "source": [
    "# Start"
   ]
  },
  {
   "cell_type": "code",
   "execution_count": 31,
   "id": "506d821d-66dd-4857-9b3f-5112edd029ae",
   "metadata": {},
   "outputs": [
    {
     "name": "stdout",
     "output_type": "stream",
     "text": [
      "create table my_brick_collection (\n",
      "  colour varchar2(10),\n",
      "  shape  varchar2(10),\n",
      "  weight integer\n",
      ");\n",
      "\n",
      "create table your_brick_collection (\n",
      "  height integer,\n",
      "  width  integer,\n",
      "  depth  integer,\n",
      "  colour varchar2(10),\n",
      "  shape  varchar2(10)\n",
      ");\n",
      "\n",
      "insert into my_brick_collection values ( 'red', 'cube', 10 );\n",
      "insert into my_brick_collection values ( 'blue', 'cuboid', 8 );\n",
      "insert into my_brick_collection values ( 'green', 'pyramid', 20 );\n",
      "insert into my_brick_collection values ( 'green', 'pyramid', 20 );\n",
      "insert into my_brick_collection values ( null, 'cuboid', 20 );\n",
      "\n",
      "insert into your_brick_collection values ( 2, 2, 2, 'red', 'cube' );\n",
      "insert into your_brick_collection values ( 2, 2, 2, 'blue', 'cube' );\n",
      "insert into your_brick_collection values ( 2, 2, 8, null, 'cuboid' );\n",
      "\n",
      "commit;\n",
      "\n",
      "select colour, shape from your_brick_collection\n",
      "minus\n",
      "select colour, shape from my_brick_collection;\n"
     ]
    }
   ],
   "source": [
    "with open(\"sql_code.sql\", \"r\") as file:\n",
    "    oracle_code = file.read()\n",
    "print(oracle_code)"
   ]
  },
  {
   "cell_type": "code",
   "execution_count": 32,
   "id": "1b1eb3e4-aaf3-4489-b712-1f6c53517996",
   "metadata": {},
   "outputs": [
    {
     "name": "stdout",
     "output_type": "stream",
     "text": [
      "input_variables=['context', 'input'] messages=[HumanMessagePromptTemplate(prompt=PromptTemplate(input_variables=['context', 'input'], template='\\nКонтекст: {context}\\nВопрос:\\nНиже представлен код запроса для СУБД Oracle. Преобразуй этот код для его использования в PostgreSQL, строго соблюдая следующие требования:\\n\\n1. **Перевод синтаксиса и функций:** Если в Oracle используются специфические функции или операторы, замени их на точные эквиваленты в PostgreSQL. Например, для `SEQUENCE`, используй `SERIAL` или `GENERATED`. Обязательно комментируй каждую замену и поясняй, почему она сделана.\\n2. **Адаптация типов данных: Внимательно следи за типами данных, которые могут отличаться между Oracle и PostgreSQL (например, `VARCHAR2` в Oracle и `VARCHAR` в PostgreSQL). Перечисли все измененные типы данных и объясни, почему они были изменены.\\n3. **Поддержка полной функциональности:** Сохрани логику запроса без изменений. Не удаляй и не модифицируй части кода, которые не требуют преобразования.\\n4. **Проверка совместимости:** Убедись, что финальный код полностью соответствует стандартам PostgreSQL и корректно выполняется в этой СУБД. Если существуют ограничения, которые могут повлиять на выполнение, обязательно укажи их.\\n5. **Пояснение работы запроса:** Помимо преобразования, опиши в деталях, что делает этот запрос. Объясни шаги логики, чтобы было ясно, как работает запрос на уровне действий (выборка, фильтрация, агрегация и т.д.).\\n6. **Присылание кода в sql** Присылай только полный код, не нужно присылать его частями.\\n7. **Использование EXCEPT** Не используй MINUS, мне нужно через EXCEPT.\\n\\n{input}\\n'))]\n"
     ]
    }
   ],
   "source": [
    "print(prompt)"
   ]
  },
  {
   "cell_type": "code",
   "execution_count": null,
   "id": "43a76543-09ba-4ed1-8e77-e2beded34351",
   "metadata": {},
   "outputs": [],
   "source": [
    "resp1 = retrieval_chain.invoke(\n",
    "    {\"input\": oracle_code}\n",
    ")"
   ]
  },
  {
   "cell_type": "code",
   "execution_count": 323,
   "id": "c853f96e-e337-45eb-a824-2712fdbb617a",
   "metadata": {},
   "outputs": [
    {
     "name": "stdout",
     "output_type": "stream",
     "text": [
      "Для выполнения задачи перевода SQL-запроса с Oracle на PostgreSQL, необходимо учесть различия в синтаксисе и функциях этих систем управления базами данных. Вот подробное описание каждого шага преобразования:\n",
      "\n",
      "```sql\n",
      "-- Создание таблицы my_brick_collection в PostgreSQL\n",
      "CREATE TABLE my_brick_collection (\n",
      "  colour VARCHAR(10),\n",
      "  shape  VARCHAR(10),\n",
      "  weight INTEGER\n",
      ");\n",
      "\n",
      "-- Создание таблицы your_brick_collection в PostgreSQL\n",
      "CREATE TABLE your_brick_collection (\n",
      "  height INTEGER,\n",
      "  width  INTEGER,\n",
      "  depth  INTEGER,\n",
      "  colour VARCHAR(10),\n",
      "  shape  VARCHAR(10)\n",
      ");\n",
      "\n",
      "-- Вставка данных в таблицу my_brick_collection\n",
      "INSERT INTO my_brick_collection VALUES ('red', 'cube', 10);\n",
      "INSERT INTO my_brick_collection VALUES ('blue', 'cuboid', 8);\n",
      "INSERT INTO my_brick_collection VALUES ('green', 'pyramid', 20);\n",
      "INSERT INTO my_brick_collection VALUES ('green', 'pyramid', 20);\n",
      "INSERT INTO my_brick_collection VALUES (NULL, 'cuboid', 20);\n",
      "\n",
      "-- Вставка данных в таблицу your_brick_collection\n",
      "INSERT INTO your_brick_collection VALUES (2, 2, 2, 'red', 'cube');\n",
      "INSERT INTO your_brick_collection VALUES (2, 2, 2, 'blue', 'cube');\n",
      "INSERT INTO your_brick_collection VALUES (2, 2, 8, NULL, 'cuboid');\n",
      "\n",
      "COMMIT; -- Коммит транзакции в PostgreSQL\n",
      "\n",
      "-- Запрос на выборку данных с использованием оператора EXCEPT\n",
      "SELECT colour, shape FROM your_brick_collection\n",
      "EXCEPT\n",
      "SELECT colour, shape FROM my_brick_collection;\n",
      "```\n",
      "\n",
      "В этом коде были выполнены следующие преобразования:\n",
      "\n",
      "1. Типы данных:\n",
      "   - `VARCHAR2` в Oracle преобразован в `VARCHAR` в PostgreSQL.\n",
      "   - `INTEGER` в Oracle преобразован в `INTEGER` в PostgreSQL.\n",
      "   - `NULL` в Oracle преобразован в `NULL` в PostgreSQL.\n",
      "\n",
      "2. Использование оператора `MINUS` в Oracle заменено на `EXCEPT` в PostgreSQL, так как в PostgreSQL нет оператора `MINUS`.\n",
      "\n",
      "3. Логика запроса сохранена без изменений. Запрос выбирает все строки из `your_brick_collection`, которые отсутствуют в `my_brick_collection` по столбцам `colour` и `shape`.\n",
      "\n",
      "4. Код полностью соответствует стандартам PostgreSQL и должен корректно выполняться в этой СУБД.\n",
      "\n",
      "5. Запрос работает следующим образом:\n",
      "   - Сначала выбираются все строки из `your_brick_collection` по столбцам `colour` и `shape`.\n",
      "   - Затем из этого результата исключаются строки, которые присутствуют в `my_brick_collection` по тем же столбцам.\n",
      "\n",
      "6. Весь код предоставлен в виде одного блока SQL, как и было запрошено.\n",
      "\n",
      "7. Оператор `MINUS` был заменён на `EXCEPT`, как требуется в условии задачи.\n"
     ]
    }
   ],
   "source": [
    "print(resp1[\"answer\"])"
   ]
  },
  {
   "cell_type": "code",
   "execution_count": null,
   "id": "75d51b72-127f-444d-91b4-6bc7a8dfe1ec",
   "metadata": {},
   "outputs": [],
   "source": []
  }
 ],
 "metadata": {
  "kernelspec": {
   "display_name": "Python 3 (ipykernel)",
   "language": "python",
   "name": "python3"
  },
  "language_info": {
   "codemirror_mode": {
    "name": "ipython",
    "version": 3
   },
   "file_extension": ".py",
   "mimetype": "text/x-python",
   "name": "python",
   "nbconvert_exporter": "python",
   "pygments_lexer": "ipython3",
   "version": "3.12.3"
  }
 },
 "nbformat": 4,
 "nbformat_minor": 5
}